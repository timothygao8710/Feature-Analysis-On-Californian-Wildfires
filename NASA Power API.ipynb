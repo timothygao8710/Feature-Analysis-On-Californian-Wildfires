{
 "cells": [
  {
   "cell_type": "code",
   "execution_count": 60,
   "id": "0b37047d",
   "metadata": {},
   "outputs": [],
   "source": [
    "#https://www.youtube.com/watch?v=SdQaSM_DScU&ab_channel=NASAVideo\n",
    "#https://www.rdocumentation.org/packages/nasapower/versions/3.0.1/topics/parameters\n",
    "#needed to make web requests\n",
    "import requests\n",
    "\n",
    "#store the data we get as a dataframe\n",
    "import pandas as pd\n",
    "\n",
    "#convert the response as a strcuctured json\n",
    "import json\n",
    "\n",
    "#mathematical operations on lists\n",
    "import numpy as np\n",
    "from io import StringIO\n",
    "\n",
    "#parse the datetimes we get from NOAA\n",
    "from datetime import datetime\n",
    "\n",
    "# import matplotlib.pyplot as plt\n",
    "from meteostat import Point, Daily\n",
    "from ratelimit import limits, RateLimitException, sleep_and_retry\n",
    "from concurrent.futures import ThreadPoolExecutor as PoolExecutor\n",
    "# https://www1.ncdc.noaa.gov/pub/data/cdo/samples/GHCND_sample_pdf.pdf\n",
    "#We find the zip code of coordinates, use that as request\n",
    "\n",
    "#add the access token you got from NOAA\n",
    "# Token = 'iRFNDKRMXHWDkBDwMJRkSHyeHmuwIaPq'\n",
    "OpenWeatherKEY = 'dde707fd3b6215808ffdfee52f912d8d'\n",
    "weatherapi = 'f7b866d16f5e4b7695931713221703'\n",
    "test = ''"
   ]
  },
  {
   "cell_type": "code",
   "execution_count": 5,
   "id": "697bf12f",
   "metadata": {},
   "outputs": [
    {
     "name": "stdout",
     "output_type": "stream",
     "text": [
      "   Unnamed: 0  FIRE_YEAR STAT_CAUSE_DESCR   LATITUDE   LONGITUDE STATE  \\\n",
      "0           0       2010    Equipment Use  36.766944 -121.303056    CA   \n",
      "1           1       2010    Miscellaneous  36.776944 -121.311111    CA   \n",
      "2           2       2010    Miscellaneous  36.856111 -121.381111    CA   \n",
      "3           3       2010    Miscellaneous  36.818056 -121.391111    CA   \n",
      "4           4       2010    Miscellaneous  36.883056 -121.561944    CA   \n",
      "\n",
      "   DISCOVERY_DATE  FIRE_SIZE        DATE      zipcode  \\\n",
      "0       2455335.5       70.0  2010-05-19  95075-9701,   \n",
      "1       2455355.5        0.5  2010-06-08       95023,   \n",
      "2       2455359.5        0.1  2010-06-12       95023,   \n",
      "3       2455361.5        0.1  2010-06-14       95023,   \n",
      "4       2455388.5        1.0  2010-07-11  95045-9662,   \n",
      "\n",
      "                                             address   DATETIME  \n",
      "0  Saddle Association Museum, Airline Highway, Tr... 2010-05-19  \n",
      "1  Pinnacle Hills Golf Club, 7777, Airline Highwa... 2010-06-08  \n",
      "2  1198, Santa Ana Road, Hollister, San Benito Co... 2010-06-12  \n",
      "3  186, Hospital Road, Hollister, San Benito Coun... 2010-06-14  \n",
      "4  Chittenden Road, River Oaks, San Benito County... 2010-07-11  \n"
     ]
    }
   ],
   "source": [
    "df = pd.read_csv('mod_CA2010Fires.csv')\n",
    "df['DATETIME'] = pd.to_datetime(df['DISCOVERY_DATE'] - pd.Timestamp(0).to_julian_date(), unit='D')\n",
    "print(df.head())"
   ]
  },
  {
   "cell_type": "code",
   "execution_count": 77,
   "id": "06d294e1",
   "metadata": {},
   "outputs": [
    {
     "name": "stdout",
     "output_type": "stream",
     "text": [
      "https://power.larc.nasa.gov/api/temporal/daily/point?parameters=T2M,T2MDEW,T2MWET,TS,T2M_RANGE,T2M_MAX,T2M_MIN&community=RE&longitude=-95.77&latitude=32.929&start=20150101&end=20150305&format=JSON\n",
      "https://power.larc.nasa.gov/api/temporal/daily/point?parameters=T2M,T2MDEW,T2MWET,TS,T2M_RANGE,T2M_MAX,T2M_MIN&community=RE&longitude=10&latitude=5&start=20150101&end=20150305&format=JSON\n",
      "https://power.larc.nasa.gov/api/temporal/daily/point?parameters=T2M,T2MDEW,T2MWET,TS,T2M_RANGE,T2M_MAX,T2M_MIN&community=RE&longitude=-121.30305555&latitude=36.76694444&start=20100519&end=20100519&format=CSV\n"
     ]
    }
   ],
   "source": [
    "locations = [(32.929, -95.770), (5, 10)]\n",
    "\n",
    "output = r\"\"\n",
    "base_url = r\"https://power.larc.nasa.gov/api/temporal/daily/point?parameters=T2M,T2MDEW,T2MWET,TS,T2M_RANGE,T2M_MAX,T2M_MIN&community=RE&longitude={longitude}&latitude={latitude}&start=20150101&end=20150305&format=JSON\"\n",
    "\n",
    "for latitude, longitude in locations:\n",
    "    api_request_url = base_url.format(longitude=longitude, latitude=latitude)\n",
    "    print(api_request_url)\n",
    "    response = requests.get(url=api_request_url, verify=True, timeout=30.00)\n",
    "    content = json.loads(response.content.decode('utf-8'))\n",
    "#     print(content)\n",
    "#     filename = response.headers['content-disposition'].split('filename=')[1]\n",
    "#     filepath = os.path.join(output, filename)\n",
    "#     with open(filepath, 'w') as file_object:\n",
    "#         json.dump(content, file_object)\n",
    "\n",
    "print(generateURL(df['LONGITUDE'][0], df['LATITUDE'][0], df['DATE'][0]))"
   ]
  },
  {
   "cell_type": "code",
   "execution_count": 12,
   "id": "5248f7e8",
   "metadata": {},
   "outputs": [
    {
     "name": "stdout",
     "output_type": "stream",
     "text": [
      "   Unnamed: 0  FIRE_YEAR STAT_CAUSE_DESCR   LATITUDE   LONGITUDE STATE  \\\n",
      "0           0       2010    Equipment Use  36.766944 -121.303056    CA   \n",
      "1           1       2010    Miscellaneous  36.776944 -121.311111    CA   \n",
      "2           2       2010    Miscellaneous  36.856111 -121.381111    CA   \n",
      "3           3       2010    Miscellaneous  36.818056 -121.391111    CA   \n",
      "4           4       2010    Miscellaneous  36.883056 -121.561944    CA   \n",
      "\n",
      "   DISCOVERY_DATE  FIRE_SIZE      DATE      zipcode  \\\n",
      "0       2455335.5       70.0  20100519  95075-9701,   \n",
      "1       2455355.5        0.5  20100608       95023,   \n",
      "2       2455359.5        0.1  20100612       95023,   \n",
      "3       2455361.5        0.1  20100614       95023,   \n",
      "4       2455388.5        1.0  20100711  95045-9662,   \n",
      "\n",
      "                                             address   DATETIME  \n",
      "0  Saddle Association Museum, Airline Highway, Tr... 2010-05-19  \n",
      "1  Pinnacle Hills Golf Club, 7777, Airline Highwa... 2010-06-08  \n",
      "2  1198, Santa Ana Road, Hollister, San Benito Co... 2010-06-12  \n",
      "3  186, Hospital Road, Hollister, San Benito Coun... 2010-06-14  \n",
      "4  Chittenden Road, River Oaks, San Benito County... 2010-07-11  \n"
     ]
    }
   ],
   "source": [
    "sz = len(df.index)\n",
    "reset = []\n",
    "for i in range(sz):\n",
    "    lon = df['LONGITUDE'][i]\n",
    "    lat = df['LATITUDE'][i]\n",
    "    \n",
    "    #remove '-' from string\n",
    "    temp = df['DATE'][i]\n",
    "    time = ''\n",
    "    \n",
    "    for i in temp:\n",
    "        if i != '-':\n",
    "            time += i\n",
    "    reset.append(time)\n",
    "\n",
    "df['DATE'] = reset\n",
    "print(df.head())\n",
    "    "
   ]
  },
  {
   "cell_type": "code",
   "execution_count": 160,
   "id": "7b26d64a",
   "metadata": {},
   "outputs": [
    {
     "name": "stdout",
     "output_type": "stream",
     "text": [
      "20\n",
      "['ALLSKY_SFC_LW_DWN', 'PRECTOT', 'PS', 'QV2M', 'RH2M', 'SRF_ALB', 'T10M', 'T10M_MAX', 'T10M_MIN', 'T10M_RANGE', 'TQV', 'TS', 'WS10M', 'WS10M_MAX', 'WS10M_MIN', 'WS10M_RANGE', 'WS2M', 'WS2M_MAX', 'WS2M_MIN', 'WS2M_RANGE']\n",
      "ALLSKY_SFC_LW_DWN,PRECTOT,PS,QV2M,RH2M,SRF_ALB,T10M,T10M_MAX,T10M_MIN,T10M_RANGE,TQV,TS,WS10M,WS10M_MAX,WS10M_MIN,WS10M_RANGE,WS2M,WS2M_MAX,WS2M_MIN,WS2M_RANGE\n"
     ]
    }
   ],
   "source": [
    "#windspeed use 10 meters, Temperature is 2 meters\n",
    "paras = ['ALLSKY_SFC_LW_DWN', 'PRECTOT', 'PS', 'QV2M', 'RH2M', 'SRF_ALB', 'T10M', 'T10M_MAX', 'T10M_MIN', 'T10M_RANGE', 'TQV', 'TS', 'WS10M', 'WS10M_MAX', 'WS10M_MIN', 'WS10M_RANGE', 'WS2M', 'WS2M_MAX', 'WS2M_MIN', 'WS2M_RANGE']\n",
    "# other = [, , ]\n",
    "print(len(paras))\n",
    "print(paras)\n",
    "\n",
    "p = ''\n",
    "for i in paras:\n",
    "    if len(p) != 0:\n",
    "        p += ','\n",
    "    p += i\n",
    "print(p)\n"
   ]
  },
  {
   "cell_type": "code",
   "execution_count": 161,
   "id": "65824969",
   "metadata": {},
   "outputs": [
    {
     "name": "stdout",
     "output_type": "stream",
     "text": [
      "https://power.larc.nasa.gov/api/temporal/daily/point?parameters=ALLSKY_SFC_LW_DWN,PRECTOT,PS,QV2M,RH2M,SRF_ALB,T10M,T10M_MAX,T10M_MIN,T10M_RANGE,TQV,TS,WS10M,WS10M_MAX,WS10M_MIN,WS10M_RANGE,WS2M,WS2M_MAX,WS2M_MIN,WS2M_RANGE&community=RE&longitude=-121.303056&latitude=36.766944&start=20100608&end=20100608&format=CSV\n"
     ]
    }
   ],
   "source": [
    "def generateURL(p, lon, lat, time):\n",
    "    base_url = r\"https://power.larc.nasa.gov/api/temporal/daily/point?parameters={parameters}&community=RE&longitude={longitude}&latitude={latitude}&start={time}&end={time}&format=CSV\"\n",
    "    api_request_url = base_url.format(parameters=p, longitude=lon, latitude=lat, time=time)\n",
    "    return api_request_url\n",
    "\n",
    "#Sample URL: https://power.larc.nasa.gov/api/temporal/daily/point?parameters=T2M,T2MDEW,T2MWET,TS,T2M_RANGE,T2M_MAX,T2M_MIN&community=RE&longitude=-121.303056&latitude=36.766944&start=20100608&end=20100608&format=JSON\n",
    "print(generateURL(p, -121.303056, 36.766944, 20100608))\n",
    "\n",
    "#Remember to cache, Loc : Date"
   ]
  },
  {
   "cell_type": "code",
   "execution_count": null,
   "id": "b3bd05d0",
   "metadata": {},
   "outputs": [],
   "source": []
  },
  {
   "cell_type": "code",
   "execution_count": 162,
   "id": "faf17851",
   "metadata": {},
   "outputs": [
    {
     "data": {
      "text/plain": [
       "'2010,6,8,22.77,7.52,10.39,5.13,3.91,3.0,7.14,22.0,3.61,66.38,2.45,97.68,3.67,299.49,5.45,15.07,11.61,17.72,0.0,0.14'"
      ]
     },
     "execution_count": 162,
     "metadata": {},
     "output_type": "execute_result"
    }
   ],
   "source": [
    "\n",
    "# example = r'https://power.larc.nasa.gov/api/temporal/daily/point?parameters=T2M,T2MDEW,T2MWET,TS,T2M_RANGE,T2M_MAX,T2M_MIN&community=RE&longitude=-95.77&latitude=32.929&start=20150101&end=20150101&format=CSV'\n",
    "# example = generateURL(p, -121.303056, 36.766944, 20100608)\n",
    "# # api_request_url = example\n",
    "\n",
    "# # response = requests.get(url=api_request_url, verify=True, timeout=30.00)\n",
    "# # content = json.loads(response.content.decode('utf-8'))\n",
    "# # print(content)\n",
    "\n",
    "# ONE_MINUTE = 60\n",
    "# MAX_CALLS_PER_MINUTE = 60\n",
    "\n",
    "# @sleep_and_retry\n",
    "# @limits(calls=MAX_CALLS_PER_MINUTE, period=ONE_MINUTE)\n",
    "# def access_rate_limited_api(req_url):\n",
    "#     response = requests.get(url=req_url, verify=True, timeout=30.00)\n",
    "\n",
    "#     if response.status_code != 200:\n",
    "#         raise Exception('API response: {}'.format(response.status_code))\n",
    "#     content = response.text\n",
    "#     lines = content.split('\\n')\n",
    "# #     parameters = lines[len(lines)-2]\n",
    "#     vals = lines[len(lines)-2]\n",
    "#     return vals\n",
    "\n",
    "# access_rate_limited_api(example)\n",
    "# # YEAR,MO,DY,T2M,T2MDEW,T2MWET,TS,T2M_RANGE,T2M_MAX,T2M_MIN\n",
    "\n",
    "\n",
    "\n",
    "example = 'https://power.larc.nasa.gov/api/temporal/daily/point?parameters=T2M,T2MDEW,T2MWET,TS,T2M_RANGE,T2M_MAX,T2M_MIN&community=RE&longitude=-95.77&latitude=32.929&start=20150101&end=20150101&format=CSV'\n",
    "# api_request_url = example\n",
    "\n",
    "# response = requests.get(url=api_request_url, verify=True, timeout=30.00)\n",
    "# content = json.loads(response.content.decode('utf-8'))\n",
    "# print(content)\n",
    "\n",
    "ONE_MINUTE = 60\n",
    "MAX_CALLS_PER_MINUTE = 55\n",
    "\n",
    "@sleep_and_retry\n",
    "@limits(calls=MAX_CALLS_PER_MINUTE, period=ONE_MINUTE)\n",
    "def access_rate_limited_api(req_url):\n",
    "    try:\n",
    "        response = requests.get(url=req_url, verify=True, timeout=None)\n",
    "        if response.status_code != 200:\n",
    "            raise Exception('API response: {}'.format(response.status_code))\n",
    "        content = response.text\n",
    "        lines = content.split('\\n')\n",
    "        vals = lines[len(lines)-2]\n",
    "#     print(parameters)\n",
    "#     print(vals)\n",
    "        return vals\n",
    "    except Exception:\n",
    "        print('exception with:')\n",
    "        print(req_url)\n",
    "        SLEEPTIME.sleep(101)\n",
    "        # wait = min(wait+2, 600)\n",
    "        return access_rate_limited_api(req_url)\n",
    "\n",
    "access_rate_limited_api(example)\n",
    "# YEAR,MO,DY,T2M,T2MDEW,T2MWET,TS,T2M_RANGE,T2M_MAX,T2M_MIN"
   ]
  },
  {
   "cell_type": "code",
   "execution_count": 163,
   "id": "07e35740",
   "metadata": {},
   "outputs": [
    {
     "name": "stdout",
     "output_type": "stream",
     "text": [
      "{'YEAR': [], 'MO': [], 'DY': [], 'ALLSKY_SFC_LW_DWN': [], 'PRECTOT': [], 'PS': [], 'QV2M': [], 'RH2M': [], 'SRF_ALB': [], 'T10M': [], 'T10M_MAX': [], 'T10M_MIN': [], 'T10M_RANGE': [], 'TQV': [], 'TS': [], 'WS10M': [], 'WS10M_MAX': [], 'WS10M_MIN': [], 'WS10M_RANGE': [], 'WS2M': [], 'WS2M_MAX': [], 'WS2M_MIN': [], 'WS2M_RANGE': []}\n"
     ]
    }
   ],
   "source": [
    "params = ['YEAR','MO','DY']\n",
    "for i in paras:\n",
    "    params.append(i)\n",
    "\n",
    "mp = {}\n",
    "for i in params:\n",
    "    mp[i] = []\n",
    "    \n",
    "print(mp)"
   ]
  },
  {
   "cell_type": "code",
   "execution_count": 165,
   "id": "5480f511",
   "metadata": {},
   "outputs": [
    {
     "name": "stdout",
     "output_type": "stream",
     "text": [
      "done: 0 requests...\n",
      "done: 1 requests...\n",
      "done: 2 requests...\n",
      "done: 3 requests...\n",
      "done: 4 requests...\n",
      "done: 5 requests...\n",
      "done: 6 requests...\n",
      "done: 7 requests...\n",
      "done: 8 requests...\n",
      "done: 9 requests...\n",
      "{'YEAR': ['2010', '2010', '2010', '2010', '2010', '2010', '2010', '2010', '2010', '2010'], 'MO': ['5', '6', '6', '6', '7', '7', '9', '3', '5', '7'], 'DY': ['19', '8', '12', '14', '11', '29', '11', '16', '1', '3'], 'ALLSKY_SFC_LW_DWN': ['21.05', '22.77', '16.59', '18.62', '28.95', '24.01', '17.03', '12.72', '13.65', '15.52'], 'PRECTOT': ['5.88', '7.52', '2.42', '3.27', '6.0', '21.42', '1.4', '9.81', '2.94', '0.88'], 'PS': ['7.82', '10.39', '97.42', '97.6', '16.87', '6.41', '97.54', '6.71', '97.58', '98.55'], 'QV2M': ['3.7', '5.13', '1.22', '1.75', '3.2', '314.62', '0.16', '296.16', '1.73', '0.34'], 'RH2M': ['4.12', '3.91', '2.59', '3.47', '5.9', '10.81', '4.22', '12.37', '3.38', '3.28'], 'SRF_ALB': ['3.26', '3.0', '294.6', '304.59', '4.13', '2.78', '316.75', '1.02', '282.08', '295.09'], 'T10M': ['7.26', '7.14', '21.83', '19.21', '8.24', '20.4', '22.2', '16.24', '12.52', '16.52'], 'T10M_MAX': ['20.55', '22.0', '11.42', '13.2', '35.23', '3.8', '13.39', '1.7', '16.18', '11.8'], 'T10M_MIN': ['1.76', '3.61', '3.73', '4.63', '0.1', '2.42', '2.11', '2.73', '4.22', '2.16'], 'T10M_RANGE': ['74.06', '66.38', '13.51', '10.6', '46.0', '32.23', '15.08', '22.19', '6.39', '9.53'], 'TQV': ['0.98', '2.45', '42.81', '54.25', '0.08', '11.39', '39.94', '13.32', '76.75', '67.81'], 'TS': ['98.03', '97.68', '2.5', '2.92', '97.32', '49.19', '2.86', '61.38', '2.52', '1.17'], 'WS10M': ['2.55', '3.67', '6.1', '7.08', '2.31', '3.73', '5.8', '2.37', '7.02', '7.45'], 'WS10M_MAX': ['311.29', '299.49', '22.86', '21.72', '346.41', '97.68', '24.15', '98.43', '13.89', '16.57'], 'WS10M_MIN': ['4.24', '5.45', '4.94', '6.45', '4.21', '1.9', '4.41', '0.27', '5.97', '3.97'], 'WS10M_RANGE': ['13.87', '15.07', '30.11', '29.23', '24.51', '2.72', '32.11', '0.5', '20.04', '25.05'], 'WS2M': ['12.73', '11.61', '3.72', '4.67', '18.36', '5.14', '3.02', '3.23', '4.25', '1.51'], 'WS2M_MAX': ['15.37', '17.72', '2.34', '2.98', '28.01', '1.83', '0.19', '2.09', '2.59', '0.68'], 'WS2M_MIN': ['0.04', '0.0', '0.0', '0.0', '0.0', '0.0', '0.0', '0.0', '0.01', '0.0'], 'WS2M_RANGE': ['0.12', '0.14', '0.12', '0.16', '0.16', '0.16', '0.16', '0.14', '0.12', '0.16']}\n"
     ]
    }
   ],
   "source": [
    "sz = len(df.index)\n",
    "# sz = 10\n",
    "\n",
    "# mp = {  \n",
    "#     'YEAR': [],\n",
    "#     'MO' : [],\n",
    "#     'DY': [],\n",
    "#     'T2M' :[],\n",
    "#     'T2MDEW': [],\n",
    "#     'T2MWET':[],\n",
    "#     'TS':[],\n",
    "#     'T2M_RANGE':[],\n",
    "#     'T2M_MAX':[],\n",
    "#     'T2M_MIN':[]\n",
    "# }\n",
    "#60 per minute\n",
    "for i in range(sz):\n",
    "    lon = df['LONGITUDE'][i]\n",
    "    lat = df['LATITUDE'][i]\n",
    "    time = df['DATE'][i]\n",
    "\n",
    "    url = generateURL(p, lon, lat, time)\n",
    "    s = access_rate_limited_api(url)\n",
    "    vals = s.split(',')\n",
    "#     if i%100 == 0:\n",
    "    print('done: ' + str(i) + ' requests...')\n",
    "\n",
    "    for i in range(len(vals)):\n",
    "        mp[params[i]].append(vals[i])\n",
    "\n",
    "print(mp)\n"
   ]
  },
  {
   "cell_type": "code",
   "execution_count": 167,
   "id": "6b0e4250",
   "metadata": {},
   "outputs": [
    {
     "name": "stdout",
     "output_type": "stream",
     "text": [
      "31858\n"
     ]
    }
   ],
   "source": [
    "print(len(df.index))"
   ]
  },
  {
   "cell_type": "code",
   "execution_count": 133,
   "id": "cdb19b3f",
   "metadata": {},
   "outputs": [],
   "source": [
    "#http://rmirror.lau.edu.lb/web/packages/nasapower/nasapower.pdf\n",
    "#list of params and their short names"
   ]
  },
  {
   "cell_type": "code",
   "execution_count": null,
   "id": "d5d2982f",
   "metadata": {},
   "outputs": [],
   "source": []
  }
 ],
 "metadata": {
  "kernelspec": {
   "display_name": "Python 3",
   "language": "python",
   "name": "python3"
  },
  "language_info": {
   "codemirror_mode": {
    "name": "ipython",
    "version": 3
   },
   "file_extension": ".py",
   "mimetype": "text/x-python",
   "name": "python",
   "nbconvert_exporter": "python",
   "pygments_lexer": "ipython3",
   "version": "3.8.8"
  }
 },
 "nbformat": 4,
 "nbformat_minor": 5
}
