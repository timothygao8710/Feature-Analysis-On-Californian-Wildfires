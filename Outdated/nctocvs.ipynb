{
 "cells": [
  {
   "cell_type": "code",
   "execution_count": 47,
   "id": "0ca3af2a",
   "metadata": {},
   "outputs": [],
   "source": [
    "import netCDF4\n",
    "import pandas as pd\n",
    "import numpy as np"
   ]
  },
  {
   "cell_type": "code",
   "execution_count": 3,
   "id": "2605c8d8",
   "metadata": {},
   "outputs": [],
   "source": [
    "nc_file = 'test_NDVI.nc'\n",
    "nc = netCDF4.Dataset(nc_file, mode='r')"
   ]
  },
  {
   "cell_type": "code",
   "execution_count": 50,
   "id": "36080e69",
   "metadata": {},
   "outputs": [
    {
     "name": "stdout",
     "output_type": "stream",
     "text": [
      "{'latitude': <class 'netCDF4._netCDF4.Variable'>\n",
      "float32 latitude(latitude)\n",
      "    units: degrees_north\n",
      "    long_name: latitude\n",
      "    axis: Y\n",
      "    standard_name: latitude\n",
      "    bounds: lat_bnds\n",
      "unlimited dimensions: \n",
      "current shape = (3600,)\n",
      "filling on, default _FillValue of 9.969209968386869e+36 used, 'longitude': <class 'netCDF4._netCDF4.Variable'>\n",
      "float32 longitude(longitude)\n",
      "    units: degrees_east\n",
      "    long_name: longitude\n",
      "    axis: X\n",
      "    standard_name: longitude\n",
      "    bounds: lon_bnds\n",
      "unlimited dimensions: \n",
      "current shape = (7200,)\n",
      "filling on, default _FillValue of 9.969209968386869e+36 used, 'time': <class 'netCDF4._netCDF4.Variable'>\n",
      "float32 time(time)\n",
      "    units: days since 1981-01-01 00:00:00\n",
      "    long_name: time\n",
      "    axis: T\n",
      "    standard_name: time\n",
      "    calendar: gregorian\n",
      "unlimited dimensions: \n",
      "current shape = (1,)\n",
      "filling on, default _FillValue of 9.969209968386869e+36 used, 'crs': <class 'netCDF4._netCDF4.Variable'>\n",
      "int16 crs(ncrs)\n",
      "    grid_mapping_name: latitude_longitude\n",
      "    epsg_code: EPSG:4326\n",
      "    longitude_of_prime_meridian: 0.0\n",
      "    semi_major_axis: 6378137.0\n",
      "    inverse_flattening: 298.257223563\n",
      "unlimited dimensions: \n",
      "current shape = (1,)\n",
      "filling on, default _FillValue of -32767 used, 'lat_bnds': <class 'netCDF4._netCDF4.Variable'>\n",
      "float32 lat_bnds(latitude, nv)\n",
      "unlimited dimensions: \n",
      "current shape = (3600, 2)\n",
      "filling on, default _FillValue of 9.969209968386869e+36 used, 'lon_bnds': <class 'netCDF4._netCDF4.Variable'>\n",
      "float32 lon_bnds(longitude, nv)\n",
      "unlimited dimensions: \n",
      "current shape = (7200, 2)\n",
      "filling on, default _FillValue of 9.969209968386869e+36 used, 'NDVI': <class 'netCDF4._netCDF4.Variable'>\n",
      "int16 NDVI(time, latitude, longitude)\n",
      "    scale_factor: 0.0001\n",
      "    add_offset: 0.0\n",
      "    long_name: NOAA Climate Data Record of Normalized Difference Vegetation Index\n",
      "    units: 1\n",
      "    valid_range: [-1000 10000]\n",
      "    _FillValue: -9999\n",
      "    grid_mapping: crs\n",
      "    standard_name: normalized_difference_vegetation_index\n",
      "unlimited dimensions: \n",
      "current shape = (1, 3600, 7200)\n",
      "filling on, 'TIMEOFDAY': <class 'netCDF4._netCDF4.Variable'>\n",
      "int16 TIMEOFDAY(time, latitude, longitude)\n",
      "    scale_factor: 0.01\n",
      "    add_offset: 0.0\n",
      "    long_name: Time since Start of Data Day\n",
      "    units: hours since 2022-01-01 00:00:00\n",
      "    valid_range: [   0 2399]\n",
      "    _FillValue: -9999\n",
      "    grid_mapping: crs\n",
      "unlimited dimensions: \n",
      "current shape = (1, 3600, 7200)\n",
      "filling on, 'QA': <class 'netCDF4._netCDF4.Variable'>\n",
      "int16 QA(time, latitude, longitude)\n",
      "    flag_masks: [     2      4      8     16     32     64    128    256    512   1024\n",
      "   2048   4096   8192  16384 -32768]\n",
      "    flag_meanings: cloudy cloud_shadow water sunglint dense_dark_vegetation night ch1_to_5_valid ch1_invalid ch2_invalid ch3_invalid ch4_invalid ch5_invalid rho3_invalid BRDF_corr_problem polar_flag\n",
      "    long_name: Quality Assurance\n",
      "    grid_mapping: crs\n",
      "unlimited dimensions: \n",
      "current shape = (1, 3600, 7200)\n",
      "filling on, default _FillValue of -32767 used}\n",
      "dict_keys(['latitude', 'longitude', 'time', 'crs', 'lat_bnds', 'lon_bnds', 'NDVI', 'TIMEOFDAY', 'QA'])\n",
      "2022-01-03T10:48:57Z\n"
     ]
    }
   ],
   "source": [
    "print(nc.variables)\n",
    "print(nc.variables.keys())\n",
    "print(nc.date_created)"
   ]
  },
  {
   "cell_type": "code",
   "execution_count": 33,
   "id": "2ecaae69",
   "metadata": {},
   "outputs": [
    {
     "name": "stdout",
     "output_type": "stream",
     "text": [
      "(1, 3600, 7200)\n",
      "<class 'numpy.ma.core.MaskedArray'>\n",
      "<class 'numpy.ma.core.MaskedArray'>\n",
      "(3600,)\n",
      "(7200,)\n",
      "[[-- -- -- ... -- -- --]\n",
      " [-- -- -- ... -- -- --]\n",
      " [-- -- -- ... -- -- --]\n",
      " ...\n",
      " [0.0 0.0 0.0 ... 0.001 0.001 --]\n",
      " [0.0032 0.0032 0.0032 ... 0.0005 0.0005 --]\n",
      " [-- -- -- ... -- -- --]]\n"
     ]
    }
   ],
   "source": [
    "lat = nc.variables['latitude'][:]\n",
    "lon = nc.variables['longitude'][:]\n",
    "# time_var = nc.variables['time']\n",
    "# dtime = netCDF4.num2date(time_var[:],time_var.units)\n",
    "NDVI = nc.variables['NDVI'][:]\n",
    "print(NDVI.shape)\n",
    "print(type(NDVI))\n",
    "print(type(lat))\n",
    "print(lat.shape)\n",
    "print(lon.shape)\n",
    "print(NDVI[0])\n",
    "#https://numpy.org/doc/stable/reference/maskedarray.generic.html#what-is-a-masked-array\n",
    "# print(dtime.shape)\n",
    "# print(type(dtime))\n",
    "\n",
    "#http://omz-software.com/pythonista/numpy/reference/routines.ma.html\n",
    "# print(dtime)\n",
    "# a pandas.Series designed for time series of a 2D lat,lon grid\n",
    "# ts = pd.Series(NDVI, index=dtime) \n",
    "\n",
    "# ts.to_csv('converted_NDVI.csv',index=True, header=True)"
   ]
  },
  {
   "cell_type": "code",
   "execution_count": 45,
   "id": "7b0544c7",
   "metadata": {},
   "outputs": [
    {
     "name": "stdout",
     "output_type": "stream",
     "text": [
      "[[[[[[ 89.975    89.925    89.875   ... -89.875   -89.925   -89.97499]]]]]]\n",
      "hi\n"
     ]
    }
   ],
   "source": [
    "#https://stackoverflow.com/questions/44313676/converting-a-masked-numpy-array-into-a-csv-file\n",
    " \n",
    "converted_list = [] #tuples of lat, long, NDVI\n",
    "ok = 0\n",
    "lat = lat[~lat.mask]\n",
    "lon = lon[~lon.mask]\n",
    "print(lat)\n",
    "for r in range(len(lat)):\n",
    "    for c in range(len(lon)):\n",
    "        print(\"hi\")\n",
    "#         print(NDVI[0][r][c])\n",
    "#         if not NDVI[0][r][c] > 0: #add if not nan\n",
    "#             converted_list.append((lat[r], lon[c], NDVI[r][c]))\n",
    "#             ok += 1"
   ]
  },
  {
   "cell_type": "code",
   "execution_count": null,
   "id": "7afd01a4",
   "metadata": {},
   "outputs": [],
   "source": [
    "#https://stackoverflow.com/questions/44313676/converting-a-masked-numpy-array-into-a-csv-file\n",
    " \n",
    "converted_list = [] #tuples of lat, long, NDVI\n",
    "ok = 0\n",
    "for r in range(len(lat)):\n",
    "    for c in range(len(lon)):\n",
    "#         print(NDVI[0][r][c])\n",
    "#         if NDVI[r][c] > 0: #add if not nan\n",
    "#             converted_list.append((lat[r], lon[c], NDVI[r][c]))\n",
    "#             ok += 1"
   ]
  },
  {
   "cell_type": "code",
   "execution_count": 49,
   "id": "81a14660",
   "metadata": {},
   "outputs": [
    {
     "ename": "ValueError",
     "evalue": "operands could not be broadcast together with shapes (4,) (2,2) ",
     "output_type": "error",
     "traceback": [
      "\u001b[0;31m---------------------------------------------------------------------------\u001b[0m",
      "\u001b[0;31mValueError\u001b[0m                                Traceback (most recent call last)",
      "\u001b[0;32m<ipython-input-49-5e50fedad407>\u001b[0m in \u001b[0;36m<module>\u001b[0;34m\u001b[0m\n\u001b[1;32m      1\u001b[0m \u001b[0mx\u001b[0m \u001b[0;34m=\u001b[0m \u001b[0mnp\u001b[0m\u001b[0;34m.\u001b[0m\u001b[0marray\u001b[0m\u001b[0;34m(\u001b[0m\u001b[0;34m[\u001b[0m\u001b[0;36m1\u001b[0m\u001b[0;34m,\u001b[0m \u001b[0;36m2\u001b[0m\u001b[0;34m,\u001b[0m \u001b[0;36m3\u001b[0m\u001b[0;34m,\u001b[0m \u001b[0;36m4\u001b[0m\u001b[0;34m]\u001b[0m\u001b[0;34m)\u001b[0m\u001b[0;34m\u001b[0m\u001b[0;34m\u001b[0m\u001b[0m\n\u001b[1;32m      2\u001b[0m \u001b[0my\u001b[0m \u001b[0;34m=\u001b[0m \u001b[0mnp\u001b[0m\u001b[0;34m.\u001b[0m\u001b[0marray\u001b[0m\u001b[0;34m(\u001b[0m\u001b[0;34m[\u001b[0m \u001b[0;34m[\u001b[0m\u001b[0;36m5\u001b[0m\u001b[0;34m,\u001b[0m \u001b[0;36m6\u001b[0m\u001b[0;34m]\u001b[0m\u001b[0;34m,\u001b[0m \u001b[0;34m[\u001b[0m\u001b[0;36m7\u001b[0m\u001b[0;34m,\u001b[0m \u001b[0;36m8\u001b[0m\u001b[0;34m]\u001b[0m \u001b[0;34m]\u001b[0m\u001b[0;34m)\u001b[0m\u001b[0;34m\u001b[0m\u001b[0;34m\u001b[0m\u001b[0m\n\u001b[0;32m----> 3\u001b[0;31m \u001b[0mprint\u001b[0m\u001b[0;34m(\u001b[0m\u001b[0;34m(\u001b[0m\u001b[0mx\u001b[0m \u001b[0;34m+\u001b[0m \u001b[0my\u001b[0m\u001b[0;34m)\u001b[0m\u001b[0;34m.\u001b[0m\u001b[0mreshape\u001b[0m\u001b[0;34m(\u001b[0m\u001b[0;36m2\u001b[0m\u001b[0;34m,\u001b[0m \u001b[0;36m2\u001b[0m\u001b[0;34m)\u001b[0m\u001b[0;34m)\u001b[0m\u001b[0;34m\u001b[0m\u001b[0;34m\u001b[0m\u001b[0m\n\u001b[0m",
      "\u001b[0;31mValueError\u001b[0m: operands could not be broadcast together with shapes (4,) (2,2) "
     ]
    }
   ],
   "source": [
    "x = np.array([1, 2, 3, 4])\n",
    "y = np.array([ [5, 6], [7, 8] ])\n",
    "print((x + y).reshape(2, 2))"
   ]
  },
  {
   "cell_type": "code",
   "execution_count": null,
   "id": "068c9b12",
   "metadata": {},
   "outputs": [],
   "source": [
    "shapefile"
   ]
  }
 ],
 "metadata": {
  "kernelspec": {
   "display_name": "Python 3",
   "language": "python",
   "name": "python3"
  },
  "language_info": {
   "codemirror_mode": {
    "name": "ipython",
    "version": 3
   },
   "file_extension": ".py",
   "mimetype": "text/x-python",
   "name": "python",
   "nbconvert_exporter": "python",
   "pygments_lexer": "ipython3",
   "version": "3.8.8"
  }
 },
 "nbformat": 4,
 "nbformat_minor": 5
}
