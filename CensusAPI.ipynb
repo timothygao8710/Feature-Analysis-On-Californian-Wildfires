{
 "cells": [
  {
   "cell_type": "code",
   "execution_count": 88,
   "id": "7b57465f",
   "metadata": {},
   "outputs": [],
   "source": [
    "import requests\n",
    "import pandas as pd\n",
    "import json\n",
    "import numpy as np\n",
    "from datetime import datetime\n",
    "import geopandas as gpd\n",
    "import geopy\n",
    "from geopy.geocoders import Nominatim\n",
    "from geopy.extra.rate_limiter import RateLimiter\n",
    "import matplotlib.pyplot as plt\n",
    "import plotly_express as px\n",
    "from tqdm import tqdm\n",
    "\n",
    "from uszipcode import SearchEngine, ComprehensiveZipcode"
   ]
  },
  {
   "cell_type": "code",
   "execution_count": 89,
   "id": "c3a0923b",
   "metadata": {},
   "outputs": [
    {
     "name": "stdout",
     "output_type": "stream",
     "text": [
      "   Unnamed: 0  Unnamed: 0.1  FIRE_YEAR STAT_CAUSE_DESCR   LATITUDE  \\\n",
      "0           0             0       2010    Equipment Use  36.766944   \n",
      "1           1             1       2010    Miscellaneous  36.776944   \n",
      "2           2             2       2010    Miscellaneous  36.856111   \n",
      "3           3             3       2010    Miscellaneous  36.818056   \n",
      "4           4             4       2010    Miscellaneous  36.883056   \n",
      "\n",
      "    LONGITUDE STATE  DISCOVERY_DATE  FIRE_SIZE        DATE     zipcode  \\\n",
      "0 -121.303056    CA       2455335.5       70.0  2010-05-19  95075-9701   \n",
      "1 -121.311111    CA       2455355.5        0.5  2010-06-08       95023   \n",
      "2 -121.381111    CA       2455359.5        0.1  2010-06-12       95023   \n",
      "3 -121.391111    CA       2455361.5        0.1  2010-06-14       95023   \n",
      "4 -121.561944    CA       2455388.5        1.0  2010-07-11  95045-9662   \n",
      "\n",
      "                                             address  \n",
      "0  Saddle Association Museum, Airline Highway, Tr...  \n",
      "1  Pinnacle Hills Golf Club, 7777, Airline Highwa...  \n",
      "2  1198, Santa Ana Road, Hollister, San Benito Co...  \n",
      "3  186, Hospital Road, Hollister, San Benito Coun...  \n",
      "4  Chittenden Road, River Oaks, San Benito County...  \n"
     ]
    }
   ],
   "source": [
    "fires = pd.read_csv('20kFires.csv')\n",
    "print(fires.head())"
   ]
  },
  {
   "cell_type": "code",
   "execution_count": 90,
   "id": "8e59aadb",
   "metadata": {},
   "outputs": [
    {
     "name": "stdout",
     "output_type": "stream",
     "text": [
      "   Unnamed: 0  Unnamed: 0.1  FIRE_YEAR STAT_CAUSE_DESCR   LATITUDE  \\\n",
      "0           0             0       2010    Equipment Use  36.766944   \n",
      "1           1             1       2010    Miscellaneous  36.776944   \n",
      "2           2             2       2010    Miscellaneous  36.856111   \n",
      "3           3             3       2010    Miscellaneous  36.818056   \n",
      "4           4             4       2010    Miscellaneous  36.883056   \n",
      "\n",
      "    LONGITUDE STATE  DISCOVERY_DATE  FIRE_SIZE        DATE     zipcode  \\\n",
      "0 -121.303056    CA       2455335.5       70.0  2010-05-19  95075-9701   \n",
      "1 -121.311111    CA       2455355.5        0.5  2010-06-08       95023   \n",
      "2 -121.381111    CA       2455359.5        0.1  2010-06-12       95023   \n",
      "3 -121.391111    CA       2455361.5        0.1  2010-06-14       95023   \n",
      "4 -121.561944    CA       2455388.5        1.0  2010-07-11  95045-9662   \n",
      "\n",
      "                                             address  \\\n",
      "0  Saddle Association Museum, Airline Highway, Tr...   \n",
      "1  Pinnacle Hills Golf Club, 7777, Airline Highwa...   \n",
      "2  1198, Santa Ana Road, Hollister, San Benito Co...   \n",
      "3  186, Hospital Road, Hollister, San Benito Coun...   \n",
      "4  Chittenden Road, River Oaks, San Benito County...   \n",
      "\n",
      "              LocationString  \n",
      "0  36.76694444,-121.30305555  \n",
      "1  36.77694444,-121.31111111  \n",
      "2  36.85611111,-121.38111111  \n",
      "3  36.81805555,-121.39111111  \n",
      "4  36.88305555,-121.56194444  \n"
     ]
    }
   ],
   "source": [
    "locator = geopy.Nominatim(user_agent='timothy', timeout=10)\n",
    "\n",
    "#Apply reverse geoencoding\n",
    "fires['LocationString'] = fires['LATITUDE'].map(str) + ',' + fires['LONGITUDE'].map(str)\n",
    "print(fires.head())"
   ]
  },
  {
   "cell_type": "code",
   "execution_count": 92,
   "id": "dfccafe8",
   "metadata": {},
   "outputs": [
    {
     "name": "stderr",
     "output_type": "stream",
     "text": [
      "\n",
      "\n",
      "  0%|          | 0/23035 [00:00<?, ?it/s]\u001b[A\u001b[A\n",
      "\n",
      "  0%|          | 1/23035 [00:00<1:12:52,  5.27it/s]\u001b[A\u001b[A\n",
      "\n",
      "  0%|          | 2/23035 [00:00<2:01:42,  3.15it/s]\u001b[A\u001b[A\n",
      "\n",
      "  0%|          | 3/23035 [00:01<2:11:28,  2.92it/s]\u001b[A\u001b[A\n",
      "\n",
      "  0%|          | 4/23035 [00:01<2:43:40,  2.35it/s]\u001b[A\u001b[A\n",
      "\n",
      "  0%|          | 5/23035 [00:02<2:41:36,  2.38it/s]\u001b[A\u001b[A\n",
      "\n",
      "  0%|          | 6/23035 [00:02<2:52:26,  2.23it/s]\u001b[A\u001b[A\n",
      "\n",
      "  0%|          | 7/23035 [00:03<2:59:24,  2.14it/s]\u001b[A\u001b[A\n"
     ]
    },
    {
     "ename": "KeyboardInterrupt",
     "evalue": "",
     "output_type": "error",
     "traceback": [
      "\u001b[0;31m---------------------------------------------------------------------------\u001b[0m",
      "\u001b[0;31mKeyboardInterrupt\u001b[0m                         Traceback (most recent call last)",
      "\u001b[0;32m<ipython-input-92-550758794584>\u001b[0m in \u001b[0;36m<module>\u001b[0;34m\u001b[0m\n\u001b[1;32m      7\u001b[0m \u001b[0;32mfor\u001b[0m \u001b[0mi\u001b[0m \u001b[0;32min\u001b[0m \u001b[0mtrange\u001b[0m\u001b[0;34m(\u001b[0m\u001b[0msz\u001b[0m\u001b[0;34m)\u001b[0m\u001b[0;34m:\u001b[0m\u001b[0;34m\u001b[0m\u001b[0;34m\u001b[0m\u001b[0m\n\u001b[1;32m      8\u001b[0m     \u001b[0mcoordinates\u001b[0m \u001b[0;34m=\u001b[0m \u001b[0mfires\u001b[0m\u001b[0;34m[\u001b[0m\u001b[0;34m'LocationString'\u001b[0m\u001b[0;34m]\u001b[0m\u001b[0;34m[\u001b[0m\u001b[0mi\u001b[0m\u001b[0;34m]\u001b[0m\u001b[0;34m\u001b[0m\u001b[0;34m\u001b[0m\u001b[0m\n\u001b[0;32m----> 9\u001b[0;31m     \u001b[0mlocation\u001b[0m \u001b[0;34m=\u001b[0m \u001b[0mlocator\u001b[0m\u001b[0;34m.\u001b[0m\u001b[0mreverse\u001b[0m\u001b[0;34m(\u001b[0m\u001b[0mcoordinates\u001b[0m\u001b[0;34m)\u001b[0m\u001b[0;34m\u001b[0m\u001b[0;34m\u001b[0m\u001b[0m\n\u001b[0m\u001b[1;32m     10\u001b[0m     \u001b[0mresaddress\u001b[0m\u001b[0;34m.\u001b[0m\u001b[0mappend\u001b[0m\u001b[0;34m(\u001b[0m\u001b[0mstr\u001b[0m\u001b[0;34m(\u001b[0m\u001b[0mlocation\u001b[0m\u001b[0;34m)\u001b[0m\u001b[0;34m)\u001b[0m\u001b[0;34m\u001b[0m\u001b[0;34m\u001b[0m\u001b[0m\n",
      "\u001b[0;32m~/opt/anaconda3/lib/python3.8/site-packages/geopy/geocoders/nominatim.py\u001b[0m in \u001b[0;36mreverse\u001b[0;34m(self, query, exactly_one, timeout, language, addressdetails, zoom)\u001b[0m\n\u001b[1;32m    360\u001b[0m         \u001b[0mlogger\u001b[0m\u001b[0;34m.\u001b[0m\u001b[0mdebug\u001b[0m\u001b[0;34m(\u001b[0m\u001b[0;34m\"%s.reverse: %s\"\u001b[0m\u001b[0;34m,\u001b[0m \u001b[0mself\u001b[0m\u001b[0;34m.\u001b[0m\u001b[0m__class__\u001b[0m\u001b[0;34m.\u001b[0m\u001b[0m__name__\u001b[0m\u001b[0;34m,\u001b[0m \u001b[0murl\u001b[0m\u001b[0;34m)\u001b[0m\u001b[0;34m\u001b[0m\u001b[0;34m\u001b[0m\u001b[0m\n\u001b[1;32m    361\u001b[0m         \u001b[0mcallback\u001b[0m \u001b[0;34m=\u001b[0m \u001b[0mpartial\u001b[0m\u001b[0;34m(\u001b[0m\u001b[0mself\u001b[0m\u001b[0;34m.\u001b[0m\u001b[0m_parse_json\u001b[0m\u001b[0;34m,\u001b[0m \u001b[0mexactly_one\u001b[0m\u001b[0;34m=\u001b[0m\u001b[0mexactly_one\u001b[0m\u001b[0;34m)\u001b[0m\u001b[0;34m\u001b[0m\u001b[0;34m\u001b[0m\u001b[0m\n\u001b[0;32m--> 362\u001b[0;31m         \u001b[0;32mreturn\u001b[0m \u001b[0mself\u001b[0m\u001b[0;34m.\u001b[0m\u001b[0m_call_geocoder\u001b[0m\u001b[0;34m(\u001b[0m\u001b[0murl\u001b[0m\u001b[0;34m,\u001b[0m \u001b[0mcallback\u001b[0m\u001b[0;34m,\u001b[0m \u001b[0mtimeout\u001b[0m\u001b[0;34m=\u001b[0m\u001b[0mtimeout\u001b[0m\u001b[0;34m)\u001b[0m\u001b[0;34m\u001b[0m\u001b[0;34m\u001b[0m\u001b[0m\n\u001b[0m\u001b[1;32m    363\u001b[0m \u001b[0;34m\u001b[0m\u001b[0m\n\u001b[1;32m    364\u001b[0m     \u001b[0;32mdef\u001b[0m \u001b[0m_parse_code\u001b[0m\u001b[0;34m(\u001b[0m\u001b[0mself\u001b[0m\u001b[0;34m,\u001b[0m \u001b[0mplace\u001b[0m\u001b[0;34m)\u001b[0m\u001b[0;34m:\u001b[0m\u001b[0;34m\u001b[0m\u001b[0;34m\u001b[0m\u001b[0m\n",
      "\u001b[0;32m~/opt/anaconda3/lib/python3.8/site-packages/geopy/geocoders/base.py\u001b[0m in \u001b[0;36m_call_geocoder\u001b[0;34m(self, url, callback, timeout, is_json, headers)\u001b[0m\n\u001b[1;32m    366\u001b[0m         \u001b[0;32mtry\u001b[0m\u001b[0;34m:\u001b[0m\u001b[0;34m\u001b[0m\u001b[0;34m\u001b[0m\u001b[0m\n\u001b[1;32m    367\u001b[0m             \u001b[0;32mif\u001b[0m \u001b[0mis_json\u001b[0m\u001b[0;34m:\u001b[0m\u001b[0;34m\u001b[0m\u001b[0;34m\u001b[0m\u001b[0m\n\u001b[0;32m--> 368\u001b[0;31m                 \u001b[0mresult\u001b[0m \u001b[0;34m=\u001b[0m \u001b[0mself\u001b[0m\u001b[0;34m.\u001b[0m\u001b[0madapter\u001b[0m\u001b[0;34m.\u001b[0m\u001b[0mget_json\u001b[0m\u001b[0;34m(\u001b[0m\u001b[0murl\u001b[0m\u001b[0;34m,\u001b[0m \u001b[0mtimeout\u001b[0m\u001b[0;34m=\u001b[0m\u001b[0mtimeout\u001b[0m\u001b[0;34m,\u001b[0m \u001b[0mheaders\u001b[0m\u001b[0;34m=\u001b[0m\u001b[0mreq_headers\u001b[0m\u001b[0;34m)\u001b[0m\u001b[0;34m\u001b[0m\u001b[0;34m\u001b[0m\u001b[0m\n\u001b[0m\u001b[1;32m    369\u001b[0m             \u001b[0;32melse\u001b[0m\u001b[0;34m:\u001b[0m\u001b[0;34m\u001b[0m\u001b[0;34m\u001b[0m\u001b[0m\n\u001b[1;32m    370\u001b[0m                 \u001b[0mresult\u001b[0m \u001b[0;34m=\u001b[0m \u001b[0mself\u001b[0m\u001b[0;34m.\u001b[0m\u001b[0madapter\u001b[0m\u001b[0;34m.\u001b[0m\u001b[0mget_text\u001b[0m\u001b[0;34m(\u001b[0m\u001b[0murl\u001b[0m\u001b[0;34m,\u001b[0m \u001b[0mtimeout\u001b[0m\u001b[0;34m=\u001b[0m\u001b[0mtimeout\u001b[0m\u001b[0;34m,\u001b[0m \u001b[0mheaders\u001b[0m\u001b[0;34m=\u001b[0m\u001b[0mreq_headers\u001b[0m\u001b[0;34m)\u001b[0m\u001b[0;34m\u001b[0m\u001b[0;34m\u001b[0m\u001b[0m\n",
      "\u001b[0;32m~/opt/anaconda3/lib/python3.8/site-packages/geopy/adapters.py\u001b[0m in \u001b[0;36mget_json\u001b[0;34m(self, url, timeout, headers)\u001b[0m\n\u001b[1;32m    436\u001b[0m \u001b[0;34m\u001b[0m\u001b[0m\n\u001b[1;32m    437\u001b[0m     \u001b[0;32mdef\u001b[0m \u001b[0mget_json\u001b[0m\u001b[0;34m(\u001b[0m\u001b[0mself\u001b[0m\u001b[0;34m,\u001b[0m \u001b[0murl\u001b[0m\u001b[0;34m,\u001b[0m \u001b[0;34m*\u001b[0m\u001b[0;34m,\u001b[0m \u001b[0mtimeout\u001b[0m\u001b[0;34m,\u001b[0m \u001b[0mheaders\u001b[0m\u001b[0;34m)\u001b[0m\u001b[0;34m:\u001b[0m\u001b[0;34m\u001b[0m\u001b[0;34m\u001b[0m\u001b[0m\n\u001b[0;32m--> 438\u001b[0;31m         \u001b[0mresp\u001b[0m \u001b[0;34m=\u001b[0m \u001b[0mself\u001b[0m\u001b[0;34m.\u001b[0m\u001b[0m_request\u001b[0m\u001b[0;34m(\u001b[0m\u001b[0murl\u001b[0m\u001b[0;34m,\u001b[0m \u001b[0mtimeout\u001b[0m\u001b[0;34m=\u001b[0m\u001b[0mtimeout\u001b[0m\u001b[0;34m,\u001b[0m \u001b[0mheaders\u001b[0m\u001b[0;34m=\u001b[0m\u001b[0mheaders\u001b[0m\u001b[0;34m)\u001b[0m\u001b[0;34m\u001b[0m\u001b[0;34m\u001b[0m\u001b[0m\n\u001b[0m\u001b[1;32m    439\u001b[0m         \u001b[0;32mtry\u001b[0m\u001b[0;34m:\u001b[0m\u001b[0;34m\u001b[0m\u001b[0;34m\u001b[0m\u001b[0m\n\u001b[1;32m    440\u001b[0m             \u001b[0;32mreturn\u001b[0m \u001b[0mresp\u001b[0m\u001b[0;34m.\u001b[0m\u001b[0mjson\u001b[0m\u001b[0;34m(\u001b[0m\u001b[0;34m)\u001b[0m\u001b[0;34m\u001b[0m\u001b[0;34m\u001b[0m\u001b[0m\n",
      "\u001b[0;32m~/opt/anaconda3/lib/python3.8/site-packages/geopy/adapters.py\u001b[0m in \u001b[0;36m_request\u001b[0;34m(self, url, timeout, headers)\u001b[0m\n\u001b[1;32m    446\u001b[0m     \u001b[0;32mdef\u001b[0m \u001b[0m_request\u001b[0m\u001b[0;34m(\u001b[0m\u001b[0mself\u001b[0m\u001b[0;34m,\u001b[0m \u001b[0murl\u001b[0m\u001b[0;34m,\u001b[0m \u001b[0;34m*\u001b[0m\u001b[0;34m,\u001b[0m \u001b[0mtimeout\u001b[0m\u001b[0;34m,\u001b[0m \u001b[0mheaders\u001b[0m\u001b[0;34m)\u001b[0m\u001b[0;34m:\u001b[0m\u001b[0;34m\u001b[0m\u001b[0;34m\u001b[0m\u001b[0m\n\u001b[1;32m    447\u001b[0m         \u001b[0;32mtry\u001b[0m\u001b[0;34m:\u001b[0m\u001b[0;34m\u001b[0m\u001b[0;34m\u001b[0m\u001b[0m\n\u001b[0;32m--> 448\u001b[0;31m             \u001b[0mresp\u001b[0m \u001b[0;34m=\u001b[0m \u001b[0mself\u001b[0m\u001b[0;34m.\u001b[0m\u001b[0msession\u001b[0m\u001b[0;34m.\u001b[0m\u001b[0mget\u001b[0m\u001b[0;34m(\u001b[0m\u001b[0murl\u001b[0m\u001b[0;34m,\u001b[0m \u001b[0mtimeout\u001b[0m\u001b[0;34m=\u001b[0m\u001b[0mtimeout\u001b[0m\u001b[0;34m,\u001b[0m \u001b[0mheaders\u001b[0m\u001b[0;34m=\u001b[0m\u001b[0mheaders\u001b[0m\u001b[0;34m)\u001b[0m\u001b[0;34m\u001b[0m\u001b[0;34m\u001b[0m\u001b[0m\n\u001b[0m\u001b[1;32m    449\u001b[0m         \u001b[0;32mexcept\u001b[0m \u001b[0mException\u001b[0m \u001b[0;32mas\u001b[0m \u001b[0merror\u001b[0m\u001b[0;34m:\u001b[0m\u001b[0;34m\u001b[0m\u001b[0;34m\u001b[0m\u001b[0m\n\u001b[1;32m    450\u001b[0m             \u001b[0mmessage\u001b[0m \u001b[0;34m=\u001b[0m \u001b[0mstr\u001b[0m\u001b[0;34m(\u001b[0m\u001b[0merror\u001b[0m\u001b[0;34m)\u001b[0m\u001b[0;34m\u001b[0m\u001b[0;34m\u001b[0m\u001b[0m\n",
      "\u001b[0;32m~/opt/anaconda3/lib/python3.8/site-packages/requests/sessions.py\u001b[0m in \u001b[0;36mget\u001b[0;34m(self, url, **kwargs)\u001b[0m\n\u001b[1;32m    553\u001b[0m \u001b[0;34m\u001b[0m\u001b[0m\n\u001b[1;32m    554\u001b[0m         \u001b[0mkwargs\u001b[0m\u001b[0;34m.\u001b[0m\u001b[0msetdefault\u001b[0m\u001b[0;34m(\u001b[0m\u001b[0;34m'allow_redirects'\u001b[0m\u001b[0;34m,\u001b[0m \u001b[0;32mTrue\u001b[0m\u001b[0;34m)\u001b[0m\u001b[0;34m\u001b[0m\u001b[0;34m\u001b[0m\u001b[0m\n\u001b[0;32m--> 555\u001b[0;31m         \u001b[0;32mreturn\u001b[0m \u001b[0mself\u001b[0m\u001b[0;34m.\u001b[0m\u001b[0mrequest\u001b[0m\u001b[0;34m(\u001b[0m\u001b[0;34m'GET'\u001b[0m\u001b[0;34m,\u001b[0m \u001b[0murl\u001b[0m\u001b[0;34m,\u001b[0m \u001b[0;34m**\u001b[0m\u001b[0mkwargs\u001b[0m\u001b[0;34m)\u001b[0m\u001b[0;34m\u001b[0m\u001b[0;34m\u001b[0m\u001b[0m\n\u001b[0m\u001b[1;32m    556\u001b[0m \u001b[0;34m\u001b[0m\u001b[0m\n\u001b[1;32m    557\u001b[0m     \u001b[0;32mdef\u001b[0m \u001b[0moptions\u001b[0m\u001b[0;34m(\u001b[0m\u001b[0mself\u001b[0m\u001b[0;34m,\u001b[0m \u001b[0murl\u001b[0m\u001b[0;34m,\u001b[0m \u001b[0;34m**\u001b[0m\u001b[0mkwargs\u001b[0m\u001b[0;34m)\u001b[0m\u001b[0;34m:\u001b[0m\u001b[0;34m\u001b[0m\u001b[0;34m\u001b[0m\u001b[0m\n",
      "\u001b[0;32m~/opt/anaconda3/lib/python3.8/site-packages/requests/sessions.py\u001b[0m in \u001b[0;36mrequest\u001b[0;34m(self, method, url, params, data, headers, cookies, files, auth, timeout, allow_redirects, proxies, hooks, stream, verify, cert, json)\u001b[0m\n\u001b[1;32m    540\u001b[0m         }\n\u001b[1;32m    541\u001b[0m         \u001b[0msend_kwargs\u001b[0m\u001b[0;34m.\u001b[0m\u001b[0mupdate\u001b[0m\u001b[0;34m(\u001b[0m\u001b[0msettings\u001b[0m\u001b[0;34m)\u001b[0m\u001b[0;34m\u001b[0m\u001b[0;34m\u001b[0m\u001b[0m\n\u001b[0;32m--> 542\u001b[0;31m         \u001b[0mresp\u001b[0m \u001b[0;34m=\u001b[0m \u001b[0mself\u001b[0m\u001b[0;34m.\u001b[0m\u001b[0msend\u001b[0m\u001b[0;34m(\u001b[0m\u001b[0mprep\u001b[0m\u001b[0;34m,\u001b[0m \u001b[0;34m**\u001b[0m\u001b[0msend_kwargs\u001b[0m\u001b[0;34m)\u001b[0m\u001b[0;34m\u001b[0m\u001b[0;34m\u001b[0m\u001b[0m\n\u001b[0m\u001b[1;32m    543\u001b[0m \u001b[0;34m\u001b[0m\u001b[0m\n\u001b[1;32m    544\u001b[0m         \u001b[0;32mreturn\u001b[0m \u001b[0mresp\u001b[0m\u001b[0;34m\u001b[0m\u001b[0;34m\u001b[0m\u001b[0m\n",
      "\u001b[0;32m~/opt/anaconda3/lib/python3.8/site-packages/requests/sessions.py\u001b[0m in \u001b[0;36msend\u001b[0;34m(self, request, **kwargs)\u001b[0m\n\u001b[1;32m    653\u001b[0m \u001b[0;34m\u001b[0m\u001b[0m\n\u001b[1;32m    654\u001b[0m         \u001b[0;31m# Send the request\u001b[0m\u001b[0;34m\u001b[0m\u001b[0;34m\u001b[0m\u001b[0;34m\u001b[0m\u001b[0m\n\u001b[0;32m--> 655\u001b[0;31m         \u001b[0mr\u001b[0m \u001b[0;34m=\u001b[0m \u001b[0madapter\u001b[0m\u001b[0;34m.\u001b[0m\u001b[0msend\u001b[0m\u001b[0;34m(\u001b[0m\u001b[0mrequest\u001b[0m\u001b[0;34m,\u001b[0m \u001b[0;34m**\u001b[0m\u001b[0mkwargs\u001b[0m\u001b[0;34m)\u001b[0m\u001b[0;34m\u001b[0m\u001b[0;34m\u001b[0m\u001b[0m\n\u001b[0m\u001b[1;32m    656\u001b[0m \u001b[0;34m\u001b[0m\u001b[0m\n\u001b[1;32m    657\u001b[0m         \u001b[0;31m# Total elapsed time of the request (approximately)\u001b[0m\u001b[0;34m\u001b[0m\u001b[0;34m\u001b[0m\u001b[0;34m\u001b[0m\u001b[0m\n",
      "\u001b[0;32m~/opt/anaconda3/lib/python3.8/site-packages/requests/adapters.py\u001b[0m in \u001b[0;36msend\u001b[0;34m(self, request, stream, timeout, verify, cert, proxies)\u001b[0m\n\u001b[1;32m    437\u001b[0m         \u001b[0;32mtry\u001b[0m\u001b[0;34m:\u001b[0m\u001b[0;34m\u001b[0m\u001b[0;34m\u001b[0m\u001b[0m\n\u001b[1;32m    438\u001b[0m             \u001b[0;32mif\u001b[0m \u001b[0;32mnot\u001b[0m \u001b[0mchunked\u001b[0m\u001b[0;34m:\u001b[0m\u001b[0;34m\u001b[0m\u001b[0;34m\u001b[0m\u001b[0m\n\u001b[0;32m--> 439\u001b[0;31m                 resp = conn.urlopen(\n\u001b[0m\u001b[1;32m    440\u001b[0m                     \u001b[0mmethod\u001b[0m\u001b[0;34m=\u001b[0m\u001b[0mrequest\u001b[0m\u001b[0;34m.\u001b[0m\u001b[0mmethod\u001b[0m\u001b[0;34m,\u001b[0m\u001b[0;34m\u001b[0m\u001b[0;34m\u001b[0m\u001b[0m\n\u001b[1;32m    441\u001b[0m                     \u001b[0murl\u001b[0m\u001b[0;34m=\u001b[0m\u001b[0murl\u001b[0m\u001b[0;34m,\u001b[0m\u001b[0;34m\u001b[0m\u001b[0;34m\u001b[0m\u001b[0m\n",
      "\u001b[0;32m~/opt/anaconda3/lib/python3.8/site-packages/urllib3/connectionpool.py\u001b[0m in \u001b[0;36murlopen\u001b[0;34m(self, method, url, body, headers, retries, redirect, assert_same_host, timeout, pool_timeout, release_conn, chunked, body_pos, **response_kw)\u001b[0m\n\u001b[1;32m    697\u001b[0m \u001b[0;34m\u001b[0m\u001b[0m\n\u001b[1;32m    698\u001b[0m             \u001b[0;31m# Make the request on the httplib connection object.\u001b[0m\u001b[0;34m\u001b[0m\u001b[0;34m\u001b[0m\u001b[0;34m\u001b[0m\u001b[0m\n\u001b[0;32m--> 699\u001b[0;31m             httplib_response = self._make_request(\n\u001b[0m\u001b[1;32m    700\u001b[0m                 \u001b[0mconn\u001b[0m\u001b[0;34m,\u001b[0m\u001b[0;34m\u001b[0m\u001b[0;34m\u001b[0m\u001b[0m\n\u001b[1;32m    701\u001b[0m                 \u001b[0mmethod\u001b[0m\u001b[0;34m,\u001b[0m\u001b[0;34m\u001b[0m\u001b[0;34m\u001b[0m\u001b[0m\n",
      "\u001b[0;32m~/opt/anaconda3/lib/python3.8/site-packages/urllib3/connectionpool.py\u001b[0m in \u001b[0;36m_make_request\u001b[0;34m(self, conn, method, url, timeout, chunked, **httplib_request_kw)\u001b[0m\n\u001b[1;32m    443\u001b[0m                     \u001b[0;31m# Python 3 (including for exceptions like SystemExit).\u001b[0m\u001b[0;34m\u001b[0m\u001b[0;34m\u001b[0m\u001b[0;34m\u001b[0m\u001b[0m\n\u001b[1;32m    444\u001b[0m                     \u001b[0;31m# Otherwise it looks like a bug in the code.\u001b[0m\u001b[0;34m\u001b[0m\u001b[0;34m\u001b[0m\u001b[0;34m\u001b[0m\u001b[0m\n\u001b[0;32m--> 445\u001b[0;31m                     \u001b[0msix\u001b[0m\u001b[0;34m.\u001b[0m\u001b[0mraise_from\u001b[0m\u001b[0;34m(\u001b[0m\u001b[0me\u001b[0m\u001b[0;34m,\u001b[0m \u001b[0;32mNone\u001b[0m\u001b[0;34m)\u001b[0m\u001b[0;34m\u001b[0m\u001b[0;34m\u001b[0m\u001b[0m\n\u001b[0m\u001b[1;32m    446\u001b[0m         \u001b[0;32mexcept\u001b[0m \u001b[0;34m(\u001b[0m\u001b[0mSocketTimeout\u001b[0m\u001b[0;34m,\u001b[0m \u001b[0mBaseSSLError\u001b[0m\u001b[0;34m,\u001b[0m \u001b[0mSocketError\u001b[0m\u001b[0;34m)\u001b[0m \u001b[0;32mas\u001b[0m \u001b[0me\u001b[0m\u001b[0;34m:\u001b[0m\u001b[0;34m\u001b[0m\u001b[0;34m\u001b[0m\u001b[0m\n\u001b[1;32m    447\u001b[0m             \u001b[0mself\u001b[0m\u001b[0;34m.\u001b[0m\u001b[0m_raise_timeout\u001b[0m\u001b[0;34m(\u001b[0m\u001b[0merr\u001b[0m\u001b[0;34m=\u001b[0m\u001b[0me\u001b[0m\u001b[0;34m,\u001b[0m \u001b[0murl\u001b[0m\u001b[0;34m=\u001b[0m\u001b[0murl\u001b[0m\u001b[0;34m,\u001b[0m \u001b[0mtimeout_value\u001b[0m\u001b[0;34m=\u001b[0m\u001b[0mread_timeout\u001b[0m\u001b[0;34m)\u001b[0m\u001b[0;34m\u001b[0m\u001b[0;34m\u001b[0m\u001b[0m\n",
      "\u001b[0;32m~/opt/anaconda3/lib/python3.8/site-packages/urllib3/packages/six.py\u001b[0m in \u001b[0;36mraise_from\u001b[0;34m(value, from_value)\u001b[0m\n",
      "\u001b[0;32m~/opt/anaconda3/lib/python3.8/site-packages/urllib3/connectionpool.py\u001b[0m in \u001b[0;36m_make_request\u001b[0;34m(self, conn, method, url, timeout, chunked, **httplib_request_kw)\u001b[0m\n\u001b[1;32m    438\u001b[0m                 \u001b[0;31m# Python 3\u001b[0m\u001b[0;34m\u001b[0m\u001b[0;34m\u001b[0m\u001b[0;34m\u001b[0m\u001b[0m\n\u001b[1;32m    439\u001b[0m                 \u001b[0;32mtry\u001b[0m\u001b[0;34m:\u001b[0m\u001b[0;34m\u001b[0m\u001b[0;34m\u001b[0m\u001b[0m\n\u001b[0;32m--> 440\u001b[0;31m                     \u001b[0mhttplib_response\u001b[0m \u001b[0;34m=\u001b[0m \u001b[0mconn\u001b[0m\u001b[0;34m.\u001b[0m\u001b[0mgetresponse\u001b[0m\u001b[0;34m(\u001b[0m\u001b[0;34m)\u001b[0m\u001b[0;34m\u001b[0m\u001b[0;34m\u001b[0m\u001b[0m\n\u001b[0m\u001b[1;32m    441\u001b[0m                 \u001b[0;32mexcept\u001b[0m \u001b[0mBaseException\u001b[0m \u001b[0;32mas\u001b[0m \u001b[0me\u001b[0m\u001b[0;34m:\u001b[0m\u001b[0;34m\u001b[0m\u001b[0;34m\u001b[0m\u001b[0m\n\u001b[1;32m    442\u001b[0m                     \u001b[0;31m# Remove the TypeError from the exception chain in\u001b[0m\u001b[0;34m\u001b[0m\u001b[0;34m\u001b[0m\u001b[0;34m\u001b[0m\u001b[0m\n",
      "\u001b[0;32m~/opt/anaconda3/lib/python3.8/http/client.py\u001b[0m in \u001b[0;36mgetresponse\u001b[0;34m(self)\u001b[0m\n\u001b[1;32m   1345\u001b[0m         \u001b[0;32mtry\u001b[0m\u001b[0;34m:\u001b[0m\u001b[0;34m\u001b[0m\u001b[0;34m\u001b[0m\u001b[0m\n\u001b[1;32m   1346\u001b[0m             \u001b[0;32mtry\u001b[0m\u001b[0;34m:\u001b[0m\u001b[0;34m\u001b[0m\u001b[0;34m\u001b[0m\u001b[0m\n\u001b[0;32m-> 1347\u001b[0;31m                 \u001b[0mresponse\u001b[0m\u001b[0;34m.\u001b[0m\u001b[0mbegin\u001b[0m\u001b[0;34m(\u001b[0m\u001b[0;34m)\u001b[0m\u001b[0;34m\u001b[0m\u001b[0;34m\u001b[0m\u001b[0m\n\u001b[0m\u001b[1;32m   1348\u001b[0m             \u001b[0;32mexcept\u001b[0m \u001b[0mConnectionError\u001b[0m\u001b[0;34m:\u001b[0m\u001b[0;34m\u001b[0m\u001b[0;34m\u001b[0m\u001b[0m\n\u001b[1;32m   1349\u001b[0m                 \u001b[0mself\u001b[0m\u001b[0;34m.\u001b[0m\u001b[0mclose\u001b[0m\u001b[0;34m(\u001b[0m\u001b[0;34m)\u001b[0m\u001b[0;34m\u001b[0m\u001b[0;34m\u001b[0m\u001b[0m\n",
      "\u001b[0;32m~/opt/anaconda3/lib/python3.8/http/client.py\u001b[0m in \u001b[0;36mbegin\u001b[0;34m(self)\u001b[0m\n\u001b[1;32m    305\u001b[0m         \u001b[0;31m# read until we get a non-100 response\u001b[0m\u001b[0;34m\u001b[0m\u001b[0;34m\u001b[0m\u001b[0;34m\u001b[0m\u001b[0m\n\u001b[1;32m    306\u001b[0m         \u001b[0;32mwhile\u001b[0m \u001b[0;32mTrue\u001b[0m\u001b[0;34m:\u001b[0m\u001b[0;34m\u001b[0m\u001b[0;34m\u001b[0m\u001b[0m\n\u001b[0;32m--> 307\u001b[0;31m             \u001b[0mversion\u001b[0m\u001b[0;34m,\u001b[0m \u001b[0mstatus\u001b[0m\u001b[0;34m,\u001b[0m \u001b[0mreason\u001b[0m \u001b[0;34m=\u001b[0m \u001b[0mself\u001b[0m\u001b[0;34m.\u001b[0m\u001b[0m_read_status\u001b[0m\u001b[0;34m(\u001b[0m\u001b[0;34m)\u001b[0m\u001b[0;34m\u001b[0m\u001b[0;34m\u001b[0m\u001b[0m\n\u001b[0m\u001b[1;32m    308\u001b[0m             \u001b[0;32mif\u001b[0m \u001b[0mstatus\u001b[0m \u001b[0;34m!=\u001b[0m \u001b[0mCONTINUE\u001b[0m\u001b[0;34m:\u001b[0m\u001b[0;34m\u001b[0m\u001b[0;34m\u001b[0m\u001b[0m\n\u001b[1;32m    309\u001b[0m                 \u001b[0;32mbreak\u001b[0m\u001b[0;34m\u001b[0m\u001b[0;34m\u001b[0m\u001b[0m\n",
      "\u001b[0;32m~/opt/anaconda3/lib/python3.8/http/client.py\u001b[0m in \u001b[0;36m_read_status\u001b[0;34m(self)\u001b[0m\n\u001b[1;32m    266\u001b[0m \u001b[0;34m\u001b[0m\u001b[0m\n\u001b[1;32m    267\u001b[0m     \u001b[0;32mdef\u001b[0m \u001b[0m_read_status\u001b[0m\u001b[0;34m(\u001b[0m\u001b[0mself\u001b[0m\u001b[0;34m)\u001b[0m\u001b[0;34m:\u001b[0m\u001b[0;34m\u001b[0m\u001b[0;34m\u001b[0m\u001b[0m\n\u001b[0;32m--> 268\u001b[0;31m         \u001b[0mline\u001b[0m \u001b[0;34m=\u001b[0m \u001b[0mstr\u001b[0m\u001b[0;34m(\u001b[0m\u001b[0mself\u001b[0m\u001b[0;34m.\u001b[0m\u001b[0mfp\u001b[0m\u001b[0;34m.\u001b[0m\u001b[0mreadline\u001b[0m\u001b[0;34m(\u001b[0m\u001b[0m_MAXLINE\u001b[0m \u001b[0;34m+\u001b[0m \u001b[0;36m1\u001b[0m\u001b[0;34m)\u001b[0m\u001b[0;34m,\u001b[0m \u001b[0;34m\"iso-8859-1\"\u001b[0m\u001b[0;34m)\u001b[0m\u001b[0;34m\u001b[0m\u001b[0;34m\u001b[0m\u001b[0m\n\u001b[0m\u001b[1;32m    269\u001b[0m         \u001b[0;32mif\u001b[0m \u001b[0mlen\u001b[0m\u001b[0;34m(\u001b[0m\u001b[0mline\u001b[0m\u001b[0;34m)\u001b[0m \u001b[0;34m>\u001b[0m \u001b[0m_MAXLINE\u001b[0m\u001b[0;34m:\u001b[0m\u001b[0;34m\u001b[0m\u001b[0;34m\u001b[0m\u001b[0m\n\u001b[1;32m    270\u001b[0m             \u001b[0;32mraise\u001b[0m \u001b[0mLineTooLong\u001b[0m\u001b[0;34m(\u001b[0m\u001b[0;34m\"status line\"\u001b[0m\u001b[0;34m)\u001b[0m\u001b[0;34m\u001b[0m\u001b[0;34m\u001b[0m\u001b[0m\n",
      "\u001b[0;32m~/opt/anaconda3/lib/python3.8/socket.py\u001b[0m in \u001b[0;36mreadinto\u001b[0;34m(self, b)\u001b[0m\n\u001b[1;32m    667\u001b[0m         \u001b[0;32mwhile\u001b[0m \u001b[0;32mTrue\u001b[0m\u001b[0;34m:\u001b[0m\u001b[0;34m\u001b[0m\u001b[0;34m\u001b[0m\u001b[0m\n\u001b[1;32m    668\u001b[0m             \u001b[0;32mtry\u001b[0m\u001b[0;34m:\u001b[0m\u001b[0;34m\u001b[0m\u001b[0;34m\u001b[0m\u001b[0m\n\u001b[0;32m--> 669\u001b[0;31m                 \u001b[0;32mreturn\u001b[0m \u001b[0mself\u001b[0m\u001b[0;34m.\u001b[0m\u001b[0m_sock\u001b[0m\u001b[0;34m.\u001b[0m\u001b[0mrecv_into\u001b[0m\u001b[0;34m(\u001b[0m\u001b[0mb\u001b[0m\u001b[0;34m)\u001b[0m\u001b[0;34m\u001b[0m\u001b[0;34m\u001b[0m\u001b[0m\n\u001b[0m\u001b[1;32m    670\u001b[0m             \u001b[0;32mexcept\u001b[0m \u001b[0mtimeout\u001b[0m\u001b[0;34m:\u001b[0m\u001b[0;34m\u001b[0m\u001b[0;34m\u001b[0m\u001b[0m\n\u001b[1;32m    671\u001b[0m                 \u001b[0mself\u001b[0m\u001b[0;34m.\u001b[0m\u001b[0m_timeout_occurred\u001b[0m \u001b[0;34m=\u001b[0m \u001b[0;32mTrue\u001b[0m\u001b[0;34m\u001b[0m\u001b[0;34m\u001b[0m\u001b[0m\n",
      "\u001b[0;32m~/opt/anaconda3/lib/python3.8/ssl.py\u001b[0m in \u001b[0;36mrecv_into\u001b[0;34m(self, buffer, nbytes, flags)\u001b[0m\n\u001b[1;32m   1239\u001b[0m                   \u001b[0;34m\"non-zero flags not allowed in calls to recv_into() on %s\"\u001b[0m \u001b[0;34m%\u001b[0m\u001b[0;34m\u001b[0m\u001b[0;34m\u001b[0m\u001b[0m\n\u001b[1;32m   1240\u001b[0m                   self.__class__)\n\u001b[0;32m-> 1241\u001b[0;31m             \u001b[0;32mreturn\u001b[0m \u001b[0mself\u001b[0m\u001b[0;34m.\u001b[0m\u001b[0mread\u001b[0m\u001b[0;34m(\u001b[0m\u001b[0mnbytes\u001b[0m\u001b[0;34m,\u001b[0m \u001b[0mbuffer\u001b[0m\u001b[0;34m)\u001b[0m\u001b[0;34m\u001b[0m\u001b[0;34m\u001b[0m\u001b[0m\n\u001b[0m\u001b[1;32m   1242\u001b[0m         \u001b[0;32melse\u001b[0m\u001b[0;34m:\u001b[0m\u001b[0;34m\u001b[0m\u001b[0;34m\u001b[0m\u001b[0m\n\u001b[1;32m   1243\u001b[0m             \u001b[0;32mreturn\u001b[0m \u001b[0msuper\u001b[0m\u001b[0;34m(\u001b[0m\u001b[0;34m)\u001b[0m\u001b[0;34m.\u001b[0m\u001b[0mrecv_into\u001b[0m\u001b[0;34m(\u001b[0m\u001b[0mbuffer\u001b[0m\u001b[0;34m,\u001b[0m \u001b[0mnbytes\u001b[0m\u001b[0;34m,\u001b[0m \u001b[0mflags\u001b[0m\u001b[0;34m)\u001b[0m\u001b[0;34m\u001b[0m\u001b[0;34m\u001b[0m\u001b[0m\n",
      "\u001b[0;32m~/opt/anaconda3/lib/python3.8/ssl.py\u001b[0m in \u001b[0;36mread\u001b[0;34m(self, len, buffer)\u001b[0m\n\u001b[1;32m   1097\u001b[0m         \u001b[0;32mtry\u001b[0m\u001b[0;34m:\u001b[0m\u001b[0;34m\u001b[0m\u001b[0;34m\u001b[0m\u001b[0m\n\u001b[1;32m   1098\u001b[0m             \u001b[0;32mif\u001b[0m \u001b[0mbuffer\u001b[0m \u001b[0;32mis\u001b[0m \u001b[0;32mnot\u001b[0m \u001b[0;32mNone\u001b[0m\u001b[0;34m:\u001b[0m\u001b[0;34m\u001b[0m\u001b[0;34m\u001b[0m\u001b[0m\n\u001b[0;32m-> 1099\u001b[0;31m                 \u001b[0;32mreturn\u001b[0m \u001b[0mself\u001b[0m\u001b[0;34m.\u001b[0m\u001b[0m_sslobj\u001b[0m\u001b[0;34m.\u001b[0m\u001b[0mread\u001b[0m\u001b[0;34m(\u001b[0m\u001b[0mlen\u001b[0m\u001b[0;34m,\u001b[0m \u001b[0mbuffer\u001b[0m\u001b[0;34m)\u001b[0m\u001b[0;34m\u001b[0m\u001b[0;34m\u001b[0m\u001b[0m\n\u001b[0m\u001b[1;32m   1100\u001b[0m             \u001b[0;32melse\u001b[0m\u001b[0;34m:\u001b[0m\u001b[0;34m\u001b[0m\u001b[0;34m\u001b[0m\u001b[0m\n\u001b[1;32m   1101\u001b[0m                 \u001b[0;32mreturn\u001b[0m \u001b[0mself\u001b[0m\u001b[0;34m.\u001b[0m\u001b[0m_sslobj\u001b[0m\u001b[0;34m.\u001b[0m\u001b[0mread\u001b[0m\u001b[0;34m(\u001b[0m\u001b[0mlen\u001b[0m\u001b[0;34m)\u001b[0m\u001b[0;34m\u001b[0m\u001b[0;34m\u001b[0m\u001b[0m\n",
      "\u001b[0;31mKeyboardInterrupt\u001b[0m: "
     ]
    }
   ],
   "source": [
    "from tqdm import trange\n",
    "\n",
    "\n",
    "sz = len(fires)\n",
    "resaddress = []\n",
    "\n",
    "for i in trange(sz):\n",
    "    coordinates = fires['LocationString'][i]\n",
    "    location = locator.reverse(coordinates)\n",
    "    resaddress.append(str(location))"
   ]
  },
  {
   "cell_type": "code",
   "execution_count": 93,
   "id": "ae0f15c4",
   "metadata": {},
   "outputs": [
    {
     "ename": "ValueError",
     "evalue": "Length of values (7) does not match length of index (23035)",
     "output_type": "error",
     "traceback": [
      "\u001b[0;31m---------------------------------------------------------------------------\u001b[0m",
      "\u001b[0;31mValueError\u001b[0m                                Traceback (most recent call last)",
      "\u001b[0;32m<ipython-input-93-8205804ccc5c>\u001b[0m in \u001b[0;36m<module>\u001b[0;34m\u001b[0m\n\u001b[0;32m----> 1\u001b[0;31m \u001b[0mfires\u001b[0m\u001b[0;34m[\u001b[0m\u001b[0;34m'address'\u001b[0m\u001b[0;34m]\u001b[0m \u001b[0;34m=\u001b[0m \u001b[0mresaddress\u001b[0m\u001b[0;34m\u001b[0m\u001b[0;34m\u001b[0m\u001b[0m\n\u001b[0m",
      "\u001b[0;32m~/opt/anaconda3/lib/python3.8/site-packages/pandas/core/frame.py\u001b[0m in \u001b[0;36m__setitem__\u001b[0;34m(self, key, value)\u001b[0m\n\u001b[1;32m   3161\u001b[0m         \u001b[0;32melse\u001b[0m\u001b[0;34m:\u001b[0m\u001b[0;34m\u001b[0m\u001b[0;34m\u001b[0m\u001b[0m\n\u001b[1;32m   3162\u001b[0m             \u001b[0;31m# set column\u001b[0m\u001b[0;34m\u001b[0m\u001b[0;34m\u001b[0m\u001b[0;34m\u001b[0m\u001b[0m\n\u001b[0;32m-> 3163\u001b[0;31m             \u001b[0mself\u001b[0m\u001b[0;34m.\u001b[0m\u001b[0m_set_item\u001b[0m\u001b[0;34m(\u001b[0m\u001b[0mkey\u001b[0m\u001b[0;34m,\u001b[0m \u001b[0mvalue\u001b[0m\u001b[0;34m)\u001b[0m\u001b[0;34m\u001b[0m\u001b[0;34m\u001b[0m\u001b[0m\n\u001b[0m\u001b[1;32m   3164\u001b[0m \u001b[0;34m\u001b[0m\u001b[0m\n\u001b[1;32m   3165\u001b[0m     \u001b[0;32mdef\u001b[0m \u001b[0m_setitem_slice\u001b[0m\u001b[0;34m(\u001b[0m\u001b[0mself\u001b[0m\u001b[0;34m,\u001b[0m \u001b[0mkey\u001b[0m\u001b[0;34m:\u001b[0m \u001b[0mslice\u001b[0m\u001b[0;34m,\u001b[0m \u001b[0mvalue\u001b[0m\u001b[0;34m)\u001b[0m\u001b[0;34m:\u001b[0m\u001b[0;34m\u001b[0m\u001b[0;34m\u001b[0m\u001b[0m\n",
      "\u001b[0;32m~/opt/anaconda3/lib/python3.8/site-packages/pandas/core/frame.py\u001b[0m in \u001b[0;36m_set_item\u001b[0;34m(self, key, value)\u001b[0m\n\u001b[1;32m   3240\u001b[0m         \"\"\"\n\u001b[1;32m   3241\u001b[0m         \u001b[0mself\u001b[0m\u001b[0;34m.\u001b[0m\u001b[0m_ensure_valid_index\u001b[0m\u001b[0;34m(\u001b[0m\u001b[0mvalue\u001b[0m\u001b[0;34m)\u001b[0m\u001b[0;34m\u001b[0m\u001b[0;34m\u001b[0m\u001b[0m\n\u001b[0;32m-> 3242\u001b[0;31m         \u001b[0mvalue\u001b[0m \u001b[0;34m=\u001b[0m \u001b[0mself\u001b[0m\u001b[0;34m.\u001b[0m\u001b[0m_sanitize_column\u001b[0m\u001b[0;34m(\u001b[0m\u001b[0mkey\u001b[0m\u001b[0;34m,\u001b[0m \u001b[0mvalue\u001b[0m\u001b[0;34m)\u001b[0m\u001b[0;34m\u001b[0m\u001b[0;34m\u001b[0m\u001b[0m\n\u001b[0m\u001b[1;32m   3243\u001b[0m         \u001b[0mNDFrame\u001b[0m\u001b[0;34m.\u001b[0m\u001b[0m_set_item\u001b[0m\u001b[0;34m(\u001b[0m\u001b[0mself\u001b[0m\u001b[0;34m,\u001b[0m \u001b[0mkey\u001b[0m\u001b[0;34m,\u001b[0m \u001b[0mvalue\u001b[0m\u001b[0;34m)\u001b[0m\u001b[0;34m\u001b[0m\u001b[0;34m\u001b[0m\u001b[0m\n\u001b[1;32m   3244\u001b[0m \u001b[0;34m\u001b[0m\u001b[0m\n",
      "\u001b[0;32m~/opt/anaconda3/lib/python3.8/site-packages/pandas/core/frame.py\u001b[0m in \u001b[0;36m_sanitize_column\u001b[0;34m(self, key, value, broadcast)\u001b[0m\n\u001b[1;32m   3897\u001b[0m \u001b[0;34m\u001b[0m\u001b[0m\n\u001b[1;32m   3898\u001b[0m             \u001b[0;31m# turn me into an ndarray\u001b[0m\u001b[0;34m\u001b[0m\u001b[0;34m\u001b[0m\u001b[0;34m\u001b[0m\u001b[0m\n\u001b[0;32m-> 3899\u001b[0;31m             \u001b[0mvalue\u001b[0m \u001b[0;34m=\u001b[0m \u001b[0msanitize_index\u001b[0m\u001b[0;34m(\u001b[0m\u001b[0mvalue\u001b[0m\u001b[0;34m,\u001b[0m \u001b[0mself\u001b[0m\u001b[0;34m.\u001b[0m\u001b[0mindex\u001b[0m\u001b[0;34m)\u001b[0m\u001b[0;34m\u001b[0m\u001b[0;34m\u001b[0m\u001b[0m\n\u001b[0m\u001b[1;32m   3900\u001b[0m             \u001b[0;32mif\u001b[0m \u001b[0;32mnot\u001b[0m \u001b[0misinstance\u001b[0m\u001b[0;34m(\u001b[0m\u001b[0mvalue\u001b[0m\u001b[0;34m,\u001b[0m \u001b[0;34m(\u001b[0m\u001b[0mnp\u001b[0m\u001b[0;34m.\u001b[0m\u001b[0mndarray\u001b[0m\u001b[0;34m,\u001b[0m \u001b[0mIndex\u001b[0m\u001b[0;34m)\u001b[0m\u001b[0;34m)\u001b[0m\u001b[0;34m:\u001b[0m\u001b[0;34m\u001b[0m\u001b[0;34m\u001b[0m\u001b[0m\n\u001b[1;32m   3901\u001b[0m                 \u001b[0;32mif\u001b[0m \u001b[0misinstance\u001b[0m\u001b[0;34m(\u001b[0m\u001b[0mvalue\u001b[0m\u001b[0;34m,\u001b[0m \u001b[0mlist\u001b[0m\u001b[0;34m)\u001b[0m \u001b[0;32mand\u001b[0m \u001b[0mlen\u001b[0m\u001b[0;34m(\u001b[0m\u001b[0mvalue\u001b[0m\u001b[0;34m)\u001b[0m \u001b[0;34m>\u001b[0m \u001b[0;36m0\u001b[0m\u001b[0;34m:\u001b[0m\u001b[0;34m\u001b[0m\u001b[0;34m\u001b[0m\u001b[0m\n",
      "\u001b[0;32m~/opt/anaconda3/lib/python3.8/site-packages/pandas/core/internals/construction.py\u001b[0m in \u001b[0;36msanitize_index\u001b[0;34m(data, index)\u001b[0m\n\u001b[1;32m    749\u001b[0m     \"\"\"\n\u001b[1;32m    750\u001b[0m     \u001b[0;32mif\u001b[0m \u001b[0mlen\u001b[0m\u001b[0;34m(\u001b[0m\u001b[0mdata\u001b[0m\u001b[0;34m)\u001b[0m \u001b[0;34m!=\u001b[0m \u001b[0mlen\u001b[0m\u001b[0;34m(\u001b[0m\u001b[0mindex\u001b[0m\u001b[0;34m)\u001b[0m\u001b[0;34m:\u001b[0m\u001b[0;34m\u001b[0m\u001b[0;34m\u001b[0m\u001b[0m\n\u001b[0;32m--> 751\u001b[0;31m         raise ValueError(\n\u001b[0m\u001b[1;32m    752\u001b[0m             \u001b[0;34m\"Length of values \"\u001b[0m\u001b[0;34m\u001b[0m\u001b[0;34m\u001b[0m\u001b[0m\n\u001b[1;32m    753\u001b[0m             \u001b[0;34mf\"({len(data)}) \"\u001b[0m\u001b[0;34m\u001b[0m\u001b[0;34m\u001b[0m\u001b[0m\n",
      "\u001b[0;31mValueError\u001b[0m: Length of values (7) does not match length of index (23035)"
     ]
    }
   ],
   "source": [
    "fires['address'] = resaddress"
   ]
  },
  {
   "cell_type": "code",
   "execution_count": 101,
   "id": "0689682d",
   "metadata": {},
   "outputs": [
    {
     "name": "stdout",
     "output_type": "stream",
     "text": [
      "95075\n"
     ]
    }
   ],
   "source": [
    "zips = []\n",
    "for i in range(sz):\n",
    "    arr = fires['address'][i].split(',')\n",
    "    zipc = arr[len(arr)-2]\n",
    "    zipc = zipc.split('-')[0].strip()\n",
    "    zipc = zipc.split(' ')\n",
    "    zipc = zipc[len(zipc)-1]\n",
    "#     print(zipc)\n",
    "    zips.append(zipc)\n",
    "#     print(zipc)\n",
    "\n",
    "print(zips[0])\n",
    "fires['zipcode'] = zips"
   ]
  },
  {
   "cell_type": "code",
   "execution_count": 102,
   "id": "818bb7df",
   "metadata": {},
   "outputs": [],
   "source": [
    "search = SearchEngine(\n",
    "... simple_or_comprehensive=SearchEngine.SimpleOrComprehensiveArgEnum.comprehensive\n",
    ")"
   ]
  },
  {
   "cell_type": "code",
   "execution_count": 119,
   "id": "5269babf",
   "metadata": {},
   "outputs": [],
   "source": [
    "def dealWithMissingValue():\n",
    "    #Another option is to replace with the average of the entire test column of **the training dataset**\n",
    "    return 0\n",
    "#     return -9999"
   ]
  },
  {
   "cell_type": "code",
   "execution_count": 113,
   "id": "ce0887a3",
   "metadata": {},
   "outputs": [
    {
     "name": "stderr",
     "output_type": "stream",
     "text": [
      "\n",
      "\n",
      "  0%|          | 0/23035 [00:00<?, ?it/s]\u001b[A\u001b[A\n",
      "\n",
      "  0%|          | 8/23035 [00:00<04:52, 78.77it/s]\u001b[A\u001b[A\n",
      "\n",
      "  0%|          | 89/23035 [00:00<03:32, 108.01it/s]\u001b[A\u001b[A\n",
      "\n",
      "  1%|          | 186/23035 [00:00<02:35, 147.25it/s]\u001b[A\u001b[A\n",
      "\n",
      "  1%|          | 273/23035 [00:00<01:56, 196.08it/s]\u001b[A\u001b[A\n",
      "\n",
      "  2%|▏         | 346/23035 [00:00<01:30, 250.94it/s]\u001b[A\u001b[A\n",
      "\n",
      "  2%|▏         | 413/23035 [00:00<01:13, 308.52it/s]\u001b[A\u001b[A\n",
      "\n",
      "  2%|▏         | 480/23035 [00:00<01:01, 367.82it/s]\u001b[A\u001b[A\n",
      "\n",
      "  2%|▏         | 545/23035 [00:00<00:56, 398.73it/s]\u001b[A\u001b[A\n",
      "\n",
      "  3%|▎         | 606/23035 [00:00<00:52, 429.12it/s]\u001b[A\u001b[A\n",
      "\n",
      "  3%|▎         | 680/23035 [00:01<00:45, 490.54it/s]\u001b[A\u001b[A\n",
      "\n",
      "  3%|▎         | 758/23035 [00:01<00:43, 515.05it/s]\u001b[A\u001b[A\n"
     ]
    },
    {
     "ename": "KeyboardInterrupt",
     "evalue": "",
     "output_type": "error",
     "traceback": [
      "\u001b[0;31m---------------------------------------------------------------------------\u001b[0m",
      "\u001b[0;31mKeyboardInterrupt\u001b[0m                         Traceback (most recent call last)",
      "\u001b[0;32m<ipython-input-113-e08ab6bd7b9e>\u001b[0m in \u001b[0;36m<module>\u001b[0;34m\u001b[0m\n\u001b[1;32m     16\u001b[0m \u001b[0;34m\u001b[0m\u001b[0m\n\u001b[1;32m     17\u001b[0m \u001b[0;32mfor\u001b[0m \u001b[0mi\u001b[0m \u001b[0;32min\u001b[0m \u001b[0mtrange\u001b[0m\u001b[0;34m(\u001b[0m\u001b[0msz\u001b[0m\u001b[0;34m)\u001b[0m\u001b[0;34m:\u001b[0m\u001b[0;34m\u001b[0m\u001b[0;34m\u001b[0m\u001b[0m\n\u001b[0;32m---> 18\u001b[0;31m     \u001b[0minfo\u001b[0m \u001b[0;34m=\u001b[0m \u001b[0msearch\u001b[0m\u001b[0;34m.\u001b[0m\u001b[0mby_zipcode\u001b[0m\u001b[0;34m(\u001b[0m\u001b[0mfires\u001b[0m\u001b[0;34m[\u001b[0m\u001b[0;34m'zipcode'\u001b[0m\u001b[0;34m]\u001b[0m\u001b[0;34m[\u001b[0m\u001b[0mi\u001b[0m\u001b[0;34m]\u001b[0m\u001b[0;34m)\u001b[0m\u001b[0;34m\u001b[0m\u001b[0;34m\u001b[0m\u001b[0m\n\u001b[0m\u001b[1;32m     19\u001b[0m     \u001b[0;32mif\u001b[0m \u001b[0minfo\u001b[0m \u001b[0;32mis\u001b[0m \u001b[0;32mNone\u001b[0m\u001b[0;34m:\u001b[0m\u001b[0;34m\u001b[0m\u001b[0;34m\u001b[0m\u001b[0m\n\u001b[1;32m     20\u001b[0m         \u001b[0mnons\u001b[0m\u001b[0;34m.\u001b[0m\u001b[0mappend\u001b[0m\u001b[0;34m(\u001b[0m\u001b[0mi\u001b[0m\u001b[0;34m)\u001b[0m\u001b[0;34m\u001b[0m\u001b[0;34m\u001b[0m\u001b[0m\n",
      "\u001b[0;32m~/opt/anaconda3/lib/python3.8/site-packages/uszipcode/search.py\u001b[0m in \u001b[0;36mby_zipcode\u001b[0;34m(self, zipcode, zero_padding)\u001b[0m\n\u001b[1;32m    708\u001b[0m         \u001b[0;32melse\u001b[0m\u001b[0;34m:\u001b[0m  \u001b[0;31m# pragma: no cover\u001b[0m\u001b[0;34m\u001b[0m\u001b[0;34m\u001b[0m\u001b[0m\n\u001b[1;32m    709\u001b[0m             \u001b[0mzipcode\u001b[0m \u001b[0;34m=\u001b[0m \u001b[0mstr\u001b[0m\u001b[0;34m(\u001b[0m\u001b[0mzipcode\u001b[0m\u001b[0;34m)\u001b[0m\u001b[0;34m\u001b[0m\u001b[0;34m\u001b[0m\u001b[0m\n\u001b[0;32m--> 710\u001b[0;31m         \u001b[0;32mreturn\u001b[0m \u001b[0mself\u001b[0m\u001b[0;34m.\u001b[0m\u001b[0mses\u001b[0m\u001b[0;34m.\u001b[0m\u001b[0mget\u001b[0m\u001b[0;34m(\u001b[0m\u001b[0mself\u001b[0m\u001b[0;34m.\u001b[0m\u001b[0mzip_klass\u001b[0m\u001b[0;34m,\u001b[0m \u001b[0mzipcode\u001b[0m\u001b[0;34m)\u001b[0m\u001b[0;34m\u001b[0m\u001b[0;34m\u001b[0m\u001b[0m\n\u001b[0m\u001b[1;32m    711\u001b[0m \u001b[0;34m\u001b[0m\u001b[0m\n\u001b[1;32m    712\u001b[0m     def by_prefix(\n",
      "\u001b[0;32m~/opt/anaconda3/lib/python3.8/site-packages/sqlalchemy/orm/session.py\u001b[0m in \u001b[0;36mget\u001b[0;34m(self, entity, ident, options, populate_existing, with_for_update, identity_token)\u001b[0m\n\u001b[1;32m   2679\u001b[0m \u001b[0;34m\u001b[0m\u001b[0m\n\u001b[1;32m   2680\u001b[0m         \"\"\"\n\u001b[0;32m-> 2681\u001b[0;31m         return self._get_impl(\n\u001b[0m\u001b[1;32m   2682\u001b[0m             \u001b[0mentity\u001b[0m\u001b[0;34m,\u001b[0m\u001b[0;34m\u001b[0m\u001b[0;34m\u001b[0m\u001b[0m\n\u001b[1;32m   2683\u001b[0m             \u001b[0mident\u001b[0m\u001b[0;34m,\u001b[0m\u001b[0;34m\u001b[0m\u001b[0;34m\u001b[0m\u001b[0m\n",
      "\u001b[0;32m~/opt/anaconda3/lib/python3.8/site-packages/sqlalchemy/orm/session.py\u001b[0m in \u001b[0;36m_get_impl\u001b[0;34m(self, entity, primary_key_identity, db_load_fn, options, populate_existing, with_for_update, identity_token, execution_options)\u001b[0m\n\u001b[1;32m   2780\u001b[0m         \u001b[0;32mif\u001b[0m \u001b[0mexecution_options\u001b[0m\u001b[0;34m:\u001b[0m\u001b[0;34m\u001b[0m\u001b[0;34m\u001b[0m\u001b[0m\n\u001b[1;32m   2781\u001b[0m             \u001b[0mstatement\u001b[0m \u001b[0;34m=\u001b[0m \u001b[0mstatement\u001b[0m\u001b[0;34m.\u001b[0m\u001b[0mexecution_options\u001b[0m\u001b[0;34m(\u001b[0m\u001b[0;34m**\u001b[0m\u001b[0mexecution_options\u001b[0m\u001b[0;34m)\u001b[0m\u001b[0;34m\u001b[0m\u001b[0;34m\u001b[0m\u001b[0m\n\u001b[0;32m-> 2782\u001b[0;31m         return db_load_fn(\n\u001b[0m\u001b[1;32m   2783\u001b[0m             \u001b[0mself\u001b[0m\u001b[0;34m,\u001b[0m\u001b[0;34m\u001b[0m\u001b[0;34m\u001b[0m\u001b[0m\n\u001b[1;32m   2784\u001b[0m             \u001b[0mstatement\u001b[0m\u001b[0;34m,\u001b[0m\u001b[0;34m\u001b[0m\u001b[0;34m\u001b[0m\u001b[0m\n",
      "\u001b[0;32m~/opt/anaconda3/lib/python3.8/site-packages/sqlalchemy/orm/loading.py\u001b[0m in \u001b[0;36mload_on_pk_identity\u001b[0;34m(session, statement, primary_key_identity, load_options, refresh_state, with_for_update, only_load_props, identity_token, no_autoflush, bind_arguments, execution_options)\u001b[0m\n\u001b[1;32m    540\u001b[0m \u001b[0;34m\u001b[0m\u001b[0m\n\u001b[1;32m    541\u001b[0m     \u001b[0;32mtry\u001b[0m\u001b[0;34m:\u001b[0m\u001b[0;34m\u001b[0m\u001b[0;34m\u001b[0m\u001b[0m\n\u001b[0;32m--> 542\u001b[0;31m         \u001b[0;32mreturn\u001b[0m \u001b[0mresult\u001b[0m\u001b[0;34m.\u001b[0m\u001b[0mone\u001b[0m\u001b[0;34m(\u001b[0m\u001b[0;34m)\u001b[0m\u001b[0;34m\u001b[0m\u001b[0;34m\u001b[0m\u001b[0m\n\u001b[0m\u001b[1;32m    543\u001b[0m     \u001b[0;32mexcept\u001b[0m \u001b[0morm_exc\u001b[0m\u001b[0;34m.\u001b[0m\u001b[0mNoResultFound\u001b[0m\u001b[0;34m:\u001b[0m\u001b[0;34m\u001b[0m\u001b[0;34m\u001b[0m\u001b[0m\n\u001b[1;32m    544\u001b[0m         \u001b[0;32mreturn\u001b[0m \u001b[0;32mNone\u001b[0m\u001b[0;34m\u001b[0m\u001b[0;34m\u001b[0m\u001b[0m\n",
      "\u001b[0;32m~/opt/anaconda3/lib/python3.8/site-packages/sqlalchemy/engine/result.py\u001b[0m in \u001b[0;36mone\u001b[0;34m(self)\u001b[0m\n\u001b[1;32m   1378\u001b[0m \u001b[0;34m\u001b[0m\u001b[0m\n\u001b[1;32m   1379\u001b[0m         \"\"\"\n\u001b[0;32m-> 1380\u001b[0;31m         \u001b[0;32mreturn\u001b[0m \u001b[0mself\u001b[0m\u001b[0;34m.\u001b[0m\u001b[0m_only_one_row\u001b[0m\u001b[0;34m(\u001b[0m\u001b[0;32mTrue\u001b[0m\u001b[0;34m,\u001b[0m \u001b[0;32mTrue\u001b[0m\u001b[0;34m,\u001b[0m \u001b[0;32mFalse\u001b[0m\u001b[0;34m)\u001b[0m\u001b[0;34m\u001b[0m\u001b[0;34m\u001b[0m\u001b[0m\n\u001b[0m\u001b[1;32m   1381\u001b[0m \u001b[0;34m\u001b[0m\u001b[0m\n\u001b[1;32m   1382\u001b[0m \u001b[0;34m\u001b[0m\u001b[0m\n",
      "\u001b[0;32m~/opt/anaconda3/lib/python3.8/site-packages/sqlalchemy/engine/result.py\u001b[0m in \u001b[0;36m_only_one_row\u001b[0;34m(self, raise_for_second_row, raise_for_none, scalar)\u001b[0m\n\u001b[1;32m    564\u001b[0m         \u001b[0monerow\u001b[0m \u001b[0;34m=\u001b[0m \u001b[0mself\u001b[0m\u001b[0;34m.\u001b[0m\u001b[0m_fetchone_impl\u001b[0m\u001b[0;34m\u001b[0m\u001b[0;34m\u001b[0m\u001b[0m\n\u001b[1;32m    565\u001b[0m \u001b[0;34m\u001b[0m\u001b[0m\n\u001b[0;32m--> 566\u001b[0;31m         \u001b[0mrow\u001b[0m \u001b[0;34m=\u001b[0m \u001b[0monerow\u001b[0m\u001b[0;34m(\u001b[0m\u001b[0mhard_close\u001b[0m\u001b[0;34m=\u001b[0m\u001b[0;32mTrue\u001b[0m\u001b[0;34m)\u001b[0m\u001b[0;34m\u001b[0m\u001b[0;34m\u001b[0m\u001b[0m\n\u001b[0m\u001b[1;32m    567\u001b[0m         \u001b[0;32mif\u001b[0m \u001b[0mrow\u001b[0m \u001b[0;32mis\u001b[0m \u001b[0;32mNone\u001b[0m\u001b[0;34m:\u001b[0m\u001b[0;34m\u001b[0m\u001b[0;34m\u001b[0m\u001b[0m\n\u001b[1;32m    568\u001b[0m             \u001b[0;32mif\u001b[0m \u001b[0mraise_for_none\u001b[0m\u001b[0;34m:\u001b[0m\u001b[0;34m\u001b[0m\u001b[0;34m\u001b[0m\u001b[0m\n",
      "\u001b[0;32m~/opt/anaconda3/lib/python3.8/site-packages/sqlalchemy/engine/result.py\u001b[0m in \u001b[0;36m_fetchone_impl\u001b[0;34m(self, hard_close)\u001b[0m\n\u001b[1;32m   1238\u001b[0m \u001b[0;34m\u001b[0m\u001b[0m\n\u001b[1;32m   1239\u001b[0m     \u001b[0;32mdef\u001b[0m \u001b[0m_fetchone_impl\u001b[0m\u001b[0;34m(\u001b[0m\u001b[0mself\u001b[0m\u001b[0;34m,\u001b[0m \u001b[0mhard_close\u001b[0m\u001b[0;34m=\u001b[0m\u001b[0;32mFalse\u001b[0m\u001b[0;34m)\u001b[0m\u001b[0;34m:\u001b[0m\u001b[0;34m\u001b[0m\u001b[0;34m\u001b[0m\u001b[0m\n\u001b[0;32m-> 1240\u001b[0;31m         \u001b[0;32mreturn\u001b[0m \u001b[0mself\u001b[0m\u001b[0;34m.\u001b[0m\u001b[0m_real_result\u001b[0m\u001b[0;34m.\u001b[0m\u001b[0m_fetchone_impl\u001b[0m\u001b[0;34m(\u001b[0m\u001b[0mhard_close\u001b[0m\u001b[0;34m=\u001b[0m\u001b[0mhard_close\u001b[0m\u001b[0;34m)\u001b[0m\u001b[0;34m\u001b[0m\u001b[0;34m\u001b[0m\u001b[0m\n\u001b[0m\u001b[1;32m   1241\u001b[0m \u001b[0;34m\u001b[0m\u001b[0m\n\u001b[1;32m   1242\u001b[0m     \u001b[0;32mdef\u001b[0m \u001b[0m_fetchall_impl\u001b[0m\u001b[0;34m(\u001b[0m\u001b[0mself\u001b[0m\u001b[0;34m)\u001b[0m\u001b[0;34m:\u001b[0m\u001b[0;34m\u001b[0m\u001b[0;34m\u001b[0m\u001b[0m\n",
      "\u001b[0;32m~/opt/anaconda3/lib/python3.8/site-packages/sqlalchemy/engine/result.py\u001b[0m in \u001b[0;36m_fetchone_impl\u001b[0;34m(self, hard_close)\u001b[0m\n\u001b[1;32m   1625\u001b[0m \u001b[0;34m\u001b[0m\u001b[0m\n\u001b[1;32m   1626\u001b[0m     \u001b[0;32mdef\u001b[0m \u001b[0m_fetchone_impl\u001b[0m\u001b[0;34m(\u001b[0m\u001b[0mself\u001b[0m\u001b[0;34m,\u001b[0m \u001b[0mhard_close\u001b[0m\u001b[0;34m=\u001b[0m\u001b[0;32mFalse\u001b[0m\u001b[0;34m)\u001b[0m\u001b[0;34m:\u001b[0m\u001b[0;34m\u001b[0m\u001b[0;34m\u001b[0m\u001b[0m\n\u001b[0;32m-> 1627\u001b[0;31m         \u001b[0mrow\u001b[0m \u001b[0;34m=\u001b[0m \u001b[0mnext\u001b[0m\u001b[0;34m(\u001b[0m\u001b[0mself\u001b[0m\u001b[0;34m.\u001b[0m\u001b[0miterator\u001b[0m\u001b[0;34m,\u001b[0m \u001b[0m_NO_ROW\u001b[0m\u001b[0;34m)\u001b[0m\u001b[0;34m\u001b[0m\u001b[0;34m\u001b[0m\u001b[0m\n\u001b[0m\u001b[1;32m   1628\u001b[0m         \u001b[0;32mif\u001b[0m \u001b[0mrow\u001b[0m \u001b[0;32mis\u001b[0m \u001b[0m_NO_ROW\u001b[0m\u001b[0;34m:\u001b[0m\u001b[0;34m\u001b[0m\u001b[0;34m\u001b[0m\u001b[0m\n\u001b[1;32m   1629\u001b[0m             \u001b[0mself\u001b[0m\u001b[0;34m.\u001b[0m\u001b[0m_soft_close\u001b[0m\u001b[0;34m(\u001b[0m\u001b[0mhard\u001b[0m\u001b[0;34m=\u001b[0m\u001b[0mhard_close\u001b[0m\u001b[0;34m)\u001b[0m\u001b[0;34m\u001b[0m\u001b[0;34m\u001b[0m\u001b[0m\n",
      "\u001b[0;32m~/opt/anaconda3/lib/python3.8/site-packages/sqlalchemy/orm/loading.py\u001b[0m in \u001b[0;36mchunks\u001b[0;34m(size)\u001b[0m\n\u001b[1;32m    118\u001b[0m                     \u001b[0;32mbreak\u001b[0m\u001b[0;34m\u001b[0m\u001b[0;34m\u001b[0m\u001b[0m\n\u001b[1;32m    119\u001b[0m             \u001b[0;32melse\u001b[0m\u001b[0;34m:\u001b[0m\u001b[0;34m\u001b[0m\u001b[0;34m\u001b[0m\u001b[0m\n\u001b[0;32m--> 120\u001b[0;31m                 \u001b[0mfetch\u001b[0m \u001b[0;34m=\u001b[0m \u001b[0mcursor\u001b[0m\u001b[0;34m.\u001b[0m\u001b[0m_raw_all_rows\u001b[0m\u001b[0;34m(\u001b[0m\u001b[0;34m)\u001b[0m\u001b[0;34m\u001b[0m\u001b[0;34m\u001b[0m\u001b[0m\n\u001b[0m\u001b[1;32m    121\u001b[0m \u001b[0;34m\u001b[0m\u001b[0m\n\u001b[1;32m    122\u001b[0m             \u001b[0;32mif\u001b[0m \u001b[0msingle_entity\u001b[0m\u001b[0;34m:\u001b[0m\u001b[0;34m\u001b[0m\u001b[0;34m\u001b[0m\u001b[0m\n",
      "\u001b[0;32m~/opt/anaconda3/lib/python3.8/site-packages/sqlalchemy/engine/result.py\u001b[0m in \u001b[0;36m_raw_all_rows\u001b[0;34m(self)\u001b[0m\n\u001b[1;32m    398\u001b[0m         \u001b[0mmake_row\u001b[0m \u001b[0;34m=\u001b[0m \u001b[0mself\u001b[0m\u001b[0;34m.\u001b[0m\u001b[0m_row_getter\u001b[0m\u001b[0;34m\u001b[0m\u001b[0;34m\u001b[0m\u001b[0m\n\u001b[1;32m    399\u001b[0m         \u001b[0mrows\u001b[0m \u001b[0;34m=\u001b[0m \u001b[0mself\u001b[0m\u001b[0;34m.\u001b[0m\u001b[0m_fetchall_impl\u001b[0m\u001b[0;34m(\u001b[0m\u001b[0;34m)\u001b[0m\u001b[0;34m\u001b[0m\u001b[0;34m\u001b[0m\u001b[0m\n\u001b[0;32m--> 400\u001b[0;31m         \u001b[0;32mreturn\u001b[0m \u001b[0;34m[\u001b[0m\u001b[0mmake_row\u001b[0m\u001b[0;34m(\u001b[0m\u001b[0mrow\u001b[0m\u001b[0;34m)\u001b[0m \u001b[0;32mfor\u001b[0m \u001b[0mrow\u001b[0m \u001b[0;32min\u001b[0m \u001b[0mrows\u001b[0m\u001b[0;34m]\u001b[0m\u001b[0;34m\u001b[0m\u001b[0;34m\u001b[0m\u001b[0m\n\u001b[0m\u001b[1;32m    401\u001b[0m \u001b[0;34m\u001b[0m\u001b[0m\n\u001b[1;32m    402\u001b[0m     \u001b[0;32mdef\u001b[0m \u001b[0m_allrows\u001b[0m\u001b[0;34m(\u001b[0m\u001b[0mself\u001b[0m\u001b[0;34m)\u001b[0m\u001b[0;34m:\u001b[0m\u001b[0;34m\u001b[0m\u001b[0;34m\u001b[0m\u001b[0m\n",
      "\u001b[0;32m~/opt/anaconda3/lib/python3.8/site-packages/sqlalchemy/engine/result.py\u001b[0m in \u001b[0;36m<listcomp>\u001b[0;34m(.0)\u001b[0m\n\u001b[1;32m    398\u001b[0m         \u001b[0mmake_row\u001b[0m \u001b[0;34m=\u001b[0m \u001b[0mself\u001b[0m\u001b[0;34m.\u001b[0m\u001b[0m_row_getter\u001b[0m\u001b[0;34m\u001b[0m\u001b[0;34m\u001b[0m\u001b[0m\n\u001b[1;32m    399\u001b[0m         \u001b[0mrows\u001b[0m \u001b[0;34m=\u001b[0m \u001b[0mself\u001b[0m\u001b[0;34m.\u001b[0m\u001b[0m_fetchall_impl\u001b[0m\u001b[0;34m(\u001b[0m\u001b[0;34m)\u001b[0m\u001b[0;34m\u001b[0m\u001b[0;34m\u001b[0m\u001b[0m\n\u001b[0;32m--> 400\u001b[0;31m         \u001b[0;32mreturn\u001b[0m \u001b[0;34m[\u001b[0m\u001b[0mmake_row\u001b[0m\u001b[0;34m(\u001b[0m\u001b[0mrow\u001b[0m\u001b[0;34m)\u001b[0m \u001b[0;32mfor\u001b[0m \u001b[0mrow\u001b[0m \u001b[0;32min\u001b[0m \u001b[0mrows\u001b[0m\u001b[0;34m]\u001b[0m\u001b[0;34m\u001b[0m\u001b[0;34m\u001b[0m\u001b[0m\n\u001b[0m\u001b[1;32m    401\u001b[0m \u001b[0;34m\u001b[0m\u001b[0m\n\u001b[1;32m    402\u001b[0m     \u001b[0;32mdef\u001b[0m \u001b[0m_allrows\u001b[0m\u001b[0;34m(\u001b[0m\u001b[0mself\u001b[0m\u001b[0;34m)\u001b[0m\u001b[0;34m:\u001b[0m\u001b[0;34m\u001b[0m\u001b[0;34m\u001b[0m\u001b[0m\n",
      "\u001b[0;32m~/opt/anaconda3/lib/python3.8/site-packages/sqlalchemy/sql/type_api.py\u001b[0m in \u001b[0;36mprocess\u001b[0;34m(value)\u001b[0m\n\u001b[1;32m   1352\u001b[0m \u001b[0;34m\u001b[0m\u001b[0m\n\u001b[1;32m   1353\u001b[0m                 \u001b[0;32mdef\u001b[0m \u001b[0mprocess\u001b[0m\u001b[0;34m(\u001b[0m\u001b[0mvalue\u001b[0m\u001b[0;34m)\u001b[0m\u001b[0;34m:\u001b[0m\u001b[0;34m\u001b[0m\u001b[0;34m\u001b[0m\u001b[0m\n\u001b[0;32m-> 1354\u001b[0;31m                     \u001b[0;32mreturn\u001b[0m \u001b[0mprocess_value\u001b[0m\u001b[0;34m(\u001b[0m\u001b[0mimpl_processor\u001b[0m\u001b[0;34m(\u001b[0m\u001b[0mvalue\u001b[0m\u001b[0;34m)\u001b[0m\u001b[0;34m,\u001b[0m \u001b[0mdialect\u001b[0m\u001b[0;34m)\u001b[0m\u001b[0;34m\u001b[0m\u001b[0;34m\u001b[0m\u001b[0m\n\u001b[0m\u001b[1;32m   1355\u001b[0m \u001b[0;34m\u001b[0m\u001b[0m\n\u001b[1;32m   1356\u001b[0m             \u001b[0;32melse\u001b[0m\u001b[0;34m:\u001b[0m\u001b[0;34m\u001b[0m\u001b[0;34m\u001b[0m\u001b[0m\n",
      "\u001b[0;32m~/opt/anaconda3/lib/python3.8/site-packages/sqlalchemy_mate/types/compressed_json.py\u001b[0m in \u001b[0;36mprocess_result_value\u001b[0;34m(self, value, dialect)\u001b[0m\n\u001b[1;32m     83\u001b[0m             \u001b[0;32mreturn\u001b[0m \u001b[0;32mNone\u001b[0m\u001b[0;34m\u001b[0m\u001b[0;34m\u001b[0m\u001b[0m\n\u001b[1;32m     84\u001b[0m         return self.json_lib.loads(\n\u001b[0;32m---> 85\u001b[0;31m             \u001b[0mzlib\u001b[0m\u001b[0;34m.\u001b[0m\u001b[0mdecompress\u001b[0m\u001b[0;34m(\u001b[0m\u001b[0mvalue\u001b[0m\u001b[0;34m)\u001b[0m\u001b[0;34m.\u001b[0m\u001b[0mdecode\u001b[0m\u001b[0;34m(\u001b[0m\u001b[0;34m\"utf-8\"\u001b[0m\u001b[0;34m)\u001b[0m\u001b[0;34m\u001b[0m\u001b[0;34m\u001b[0m\u001b[0m\n\u001b[0m\u001b[1;32m     86\u001b[0m         )\n",
      "\u001b[0;31mKeyboardInterrupt\u001b[0m: "
     ]
    }
   ],
   "source": [
    "#features of interest\n",
    "mp = {\n",
    "    \"population\": [],\n",
    "    \"population_density\": [],\n",
    "    \"population_by_race\" : [],\n",
    "    \"land_area_in_sqmi\": [],\n",
    "    \"water_area_in_sqmi\": [],\n",
    "    \"housing_units\": [],\n",
    "    \"occupied_housing_units\": [],\n",
    "    \"median_home_value\": [],\n",
    "    \"median_household_income\": [],\n",
    "    \"sources_of_household_income____average_income_per_household_by_income_source\": []\n",
    "}\n",
    "\n",
    "nons = []\n",
    "nonsIdx = []\n",
    "\n",
    "for i in trange(sz):\n",
    "    info = search.by_zipcode(fires['zipcode'][i])\n",
    "    if info is None:\n",
    "        nons.append(i)\n",
    "        continue\n",
    "    info = info.to_dict()\n",
    "#     for k in info:\n",
    "#         print(k)\n",
    "    for k in mp:\n",
    "        if info[k] is None:\n",
    "            nons.append(info)\n",
    "            nonsIdx.append(i)\n",
    "#             info[k] = dealWithMissingValue()\n",
    "            #Then do the radius search thing and find a zipcode that has a value\n",
    "        mp[k].append(info[k])\n",
    "        \n",
    "print(len(fires))\n",
    "print(len(nons))\n",
    "#approximatrely half will have missing values..."
   ]
  },
  {
   "cell_type": "code",
   "execution_count": 118,
   "id": "861ab078",
   "metadata": {},
   "outputs": [
    {
     "name": "stdout",
     "output_type": "stream",
     "text": [
      "{'zipcode': '95604', 'zipcode_type': 'PO BOX', 'major_city': 'Auburn', 'post_office_city': 'Auburn, CA', 'common_city_list': ['Auburn', 'Bowman'], 'county': 'Placer County', 'state': 'CA', 'lat': 39.24, 'lng': -120.07, 'timezone': 'America/Los_Angeles', 'radius_in_miles': 8.0, 'area_code_list': '530', 'population': None, 'population_density': None, 'land_area_in_sqmi': None, 'water_area_in_sqmi': None, 'housing_units': None, 'occupied_housing_units': None, 'median_home_value': None, 'median_household_income': None, 'bounds_west': -120.078544, 'bounds_east': -120.064082, 'bounds_north': 39.251787, 'bounds_south': 39.235853, 'polygon': [[-120.072798, 39.238265], [-120.07289, 39.238355], [-120.072923, 39.23838], [-120.072963, 39.238411], [-120.073019, 39.238447], [-120.073109, 39.238494], [-120.073216, 39.238544], [-120.073297, 39.23857], [-120.073384, 39.238587], [-120.073552, 39.238622], [-120.073486, 39.238754], [-120.073462, 39.23879], [-120.073442, 39.238821], [-120.073412, 39.238883], [-120.073392, 39.238941], [-120.073355, 39.239107], [-120.073328, 39.239197], [-120.073325, 39.239236], [-120.073283, 39.239329], [-120.073262, 39.23938], [-120.073213, 39.239507], [-120.073477, 39.23955], [-120.073546, 39.239562], [-120.074356, 39.239712], [-120.074533, 39.239753], [-120.074544, 39.239754], [-120.07479, 39.239799], [-120.074876, 39.239821], [-120.075007, 39.239837], [-120.075078, 39.239847], [-120.075206, 39.239873], [-120.075375, 39.239893], [-120.0754, 39.239898], [-120.075531, 39.239925], [-120.075453, 39.240087], [-120.075439, 39.240113], [-120.07543, 39.240148], [-120.075397, 39.240205], [-120.07538, 39.24024], [-120.075353, 39.2403], [-120.075338, 39.240363], [-120.07529, 39.2405], [-120.075272, 39.240538], [-120.07525, 39.240565], [-120.075227, 39.240618], [-120.075212, 39.240666], [-120.075181, 39.240708], [-120.075168, 39.240762], [-120.075155, 39.240779], [-120.075133, 39.240862], [-120.075127, 39.240894], [-120.075091, 39.240999], [-120.07499, 39.241154], [-120.074971, 39.241196], [-120.074945, 39.241258], [-120.074912, 39.241321], [-120.074832, 39.241428], [-120.074795, 39.241497], [-120.07479, 39.241536], [-120.074801, 39.241633], [-120.07483, 39.241677], [-120.074881, 39.241736], [-120.074991, 39.241873], [-120.075131, 39.242011], [-120.075156, 39.242028], [-120.075218, 39.242091], [-120.075254, 39.242124], [-120.075329, 39.242237], [-120.075397, 39.242356], [-120.075418, 39.242424], [-120.075449, 39.242495], [-120.075466, 39.242514], [-120.075586, 39.242814], [-120.075617, 39.242876], [-120.075662, 39.243013], [-120.075661, 39.243041], [-120.075733, 39.243218], [-120.075768, 39.243283], [-120.075771, 39.243305], [-120.075758, 39.243367], [-120.075756, 39.243403], [-120.075771, 39.24345], [-120.075769, 39.243515], [-120.075788, 39.243705], [-120.075796, 39.243794], [-120.075797, 39.243804], [-120.075811, 39.243852], [-120.075813, 39.243877], [-120.075798, 39.243933], [-120.075805, 39.243998], [-120.075823, 39.244117], [-120.075821, 39.244171], [-120.07577, 39.244391], [-120.075742, 39.244477], [-120.075736, 39.244502], [-120.075736, 39.244559], [-120.075731, 39.24459], [-120.075707, 39.244633], [-120.075697, 39.24468], [-120.075675, 39.244864], [-120.075671, 39.244941], [-120.075679, 39.245014], [-120.075693, 39.245054], [-120.075705, 39.245141], [-120.075709, 39.245234], [-120.075744, 39.245392], [-120.075762, 39.245461], [-120.075772, 39.245512], [-120.075809, 39.245683], [-120.075849, 39.245837], [-120.075869, 39.245874], [-120.075878, 39.245907], [-120.075906, 39.245971], [-120.075928, 39.246052], [-120.075968, 39.246158], [-120.075972, 39.246182], [-120.075999, 39.246243], [-120.076053, 39.24632], [-120.076123, 39.246475], [-120.076173, 39.246564], [-120.076243, 39.246667], [-120.076261, 39.246711], [-120.076349, 39.246819], [-120.076379, 39.246895], [-120.076442, 39.246991], [-120.076527, 39.247098], [-120.076691, 39.247285], [-120.076752, 39.24737], [-120.076927, 39.247507], [-120.07699, 39.247548], [-120.077011, 39.247571], [-120.077104, 39.247618], [-120.07712, 39.247633], [-120.07714, 39.247644], [-120.077169, 39.247645], [-120.077199, 39.247638], [-120.077234, 39.247635], [-120.077349, 39.247665], [-120.077535, 39.247669], [-120.077736, 39.247656], [-120.07783, 39.247623], [-120.077919, 39.247612], [-120.078069, 39.2476], [-120.078368, 39.247606], [-120.078473, 39.247631], [-120.078498, 39.247647], [-120.078529, 39.247682], [-120.078544, 39.247711], [-120.078543, 39.247737], [-120.078518, 39.247788], [-120.078466, 39.247853], [-120.078369, 39.247946], [-120.078317, 39.248009], [-120.078288, 39.24805], [-120.078234, 39.24811], [-120.078155, 39.248206], [-120.078063, 39.248291], [-120.077949, 39.248378], [-120.07789, 39.248429], [-120.077815, 39.248484], [-120.077794, 39.248507], [-120.07768, 39.248575], [-120.077548, 39.248651], [-120.077511, 39.248681], [-120.07746, 39.248715], [-120.077403, 39.248762], [-120.077346, 39.248859], [-120.077227, 39.249059], [-120.0772, 39.249113], [-120.077183, 39.249151], [-120.077178, 39.249182], [-120.077198, 39.249234], [-120.077198, 39.249261], [-120.077171, 39.249336], [-120.077171, 39.249368], [-120.077176, 39.249386], [-120.077148, 39.249474], [-120.077118, 39.24953], [-120.077083, 39.249606], [-120.077067, 39.249623], [-120.077034, 39.249687], [-120.077009, 39.24979], [-120.076935, 39.249968], [-120.076907, 39.250005], [-120.076848, 39.25006], [-120.076797, 39.250106], [-120.076776, 39.250131], [-120.076737, 39.250207], [-120.07671, 39.250284], [-120.076686, 39.250339], [-120.076617, 39.25053], [-120.076615, 39.250605], [-120.076608, 39.250664], [-120.076587, 39.250712], [-120.07657, 39.250778], [-120.076559, 39.250794], [-120.076525, 39.250874], [-120.076509, 39.250896], [-120.076501, 39.250933], [-120.076505, 39.250994], [-120.076491, 39.251049], [-120.076463, 39.251129], [-120.076444, 39.251205], [-120.076431, 39.251301], [-120.076408, 39.251339], [-120.076362, 39.251371], [-120.076247, 39.251398], [-120.076161, 39.251418], [-120.07614, 39.251427], [-120.076135, 39.251429], [-120.076053, 39.251477], [-120.076034, 39.251498], [-120.075985, 39.251655], [-120.075953, 39.251708], [-120.075948, 39.251718], [-120.075873, 39.251784], [-120.075869, 39.251787], [-120.075661, 39.251679], [-120.075039, 39.251356], [-120.074832, 39.251249], [-120.072321, 39.249918], [-120.071666, 39.24939], [-120.071457, 39.249221], [-120.070838, 39.248605], [-120.069435, 39.246816], [-120.068715, 39.245735], [-120.067725, 39.244259], [-120.066529, 39.242375], [-120.065391, 39.240348], [-120.065273, 39.240137], [-120.064728, 39.238659], [-120.064082, 39.236909], [-120.064385, 39.236843], [-120.064427, 39.236835], [-120.064614, 39.236801], [-120.065037, 39.236751], [-120.065243, 39.236731], [-120.06531, 39.236726], [-120.06562, 39.236703], [-120.065653, 39.236701], [-120.066069, 39.236682], [-120.066073, 39.236681], [-120.0667, 39.236677], [-120.066901, 39.236669], [-120.067114, 39.236667], [-120.067321, 39.236658], [-120.067435, 39.236659], [-120.06754, 39.23666], [-120.06789, 39.236652], [-120.06789, 39.236749], [-120.067899, 39.236794], [-120.067898, 39.236847], [-120.067898, 39.236932], [-120.067888, 39.236982], [-120.067896, 39.237046], [-120.067887, 39.237404], [-120.067884, 39.237436], [-120.067881, 39.23747], [-120.067883, 39.237577], [-120.067877, 39.237633], [-120.067944, 39.237627], [-120.068108, 39.237628], [-120.068153, 39.237626], [-120.068252, 39.237622], [-120.068535, 39.237604], [-120.068634, 39.237592], [-120.06898, 39.237555], [-120.069254, 39.237513], [-120.069291, 39.237507], [-120.069451, 39.237467], [-120.069546, 39.237428], [-120.069697, 39.237379], [-120.069751, 39.237367], [-120.069808, 39.237344], [-120.069912, 39.237305], [-120.069967, 39.237278], [-120.070145, 39.237185], [-120.070292, 39.237089], [-120.070379, 39.23704], [-120.070466, 39.236984], [-120.070706, 39.236844], [-120.070746, 39.236813], [-120.070892, 39.236686], [-120.071045, 39.23653], [-120.071121, 39.23646], [-120.071154, 39.236423], [-120.071214, 39.236346], [-120.071313, 39.23622], [-120.071363, 39.236139], [-120.071399, 39.236051], [-120.071427, 39.236008], [-120.071516, 39.235853], [-120.071546, 39.235861], [-120.071651, 39.235911], [-120.071702, 39.235936], [-120.071781, 39.235961], [-120.071852, 39.235978], [-120.072042, 39.23604], [-120.072073, 39.236055], [-120.072192, 39.236112], [-120.072204, 39.236124], [-120.072252, 39.236173], [-120.072298, 39.236231], [-120.072346, 39.236322], [-120.072366, 39.236384], [-120.072373, 39.236424], [-120.072375, 39.236434], [-120.072344, 39.236599], [-120.072314, 39.236679], [-120.072278, 39.236745], [-120.072191, 39.236883], [-120.07207, 39.237114], [-120.07205, 39.237189], [-120.072044, 39.237273], [-120.07206, 39.237354], [-120.072076, 39.237401], [-120.072087, 39.237432], [-120.072122, 39.237504], [-120.072167, 39.237571], [-120.072232, 39.23765], [-120.072272, 39.237691], [-120.072378, 39.237804], [-120.072655, 39.238102], [-120.072693, 39.238149], [-120.072709, 39.238168], [-120.072798, 39.238265]], 'population_by_year': [{'key': 'Data', 'values': [{'x': 2005, 'y': 3232}, {'x': 2006, 'y': 3158}, {'x': 2007, 'y': 3451}, {'x': 2008, 'y': 3253}, {'x': 2016, 'y': 2800}]}], 'population_by_age': [{'key': 'Male', 'values': [{'x': 0, 'y': 0}, {'x': 1, 'y': 3}, {'x': 2, 'y': 0}, {'x': 3, 'y': 3}, {'x': 4, 'y': 3}, {'x': 5, 'y': 6}, {'x': 6, 'y': 1}, {'x': 7, 'y': 3}, {'x': 8, 'y': 3}, {'x': 9, 'y': 3}, {'x': 10, 'y': 3}, {'x': 11, 'y': 3}, {'x': 12, 'y': 5}, {'x': 13, 'y': 1}, {'x': 14, 'y': 3}, {'x': 15, 'y': 0}, {'x': 16, 'y': 2}, {'x': 17, 'y': 2}]}, {'key': 'Female', 'values': [{'x': 0, 'y': 0}, {'x': 1, 'y': 0}, {'x': 2, 'y': 2}, {'x': 3, 'y': 0}, {'x': 4, 'y': 0}, {'x': 5, 'y': 0}, {'x': 6, 'y': 4}, {'x': 7, 'y': 3}, {'x': 8, 'y': 2}, {'x': 9, 'y': 2}, {'x': 10, 'y': 2}, {'x': 11, 'y': 5}, {'x': 12, 'y': 6}, {'x': 13, 'y': 2}, {'x': 14, 'y': 1}, {'x': 15, 'y': 1}, {'x': 16, 'y': 0}, {'x': 17, 'y': 1}]}, {'key': 'Total', 'color': '#000000', 'values': [{'x': 0, 'y': 0}, {'x': 1, 'y': 3}, {'x': 2, 'y': 2}, {'x': 3, 'y': 3}, {'x': 4, 'y': 3}, {'x': 5, 'y': 6}, {'x': 6, 'y': 5}, {'x': 7, 'y': 6}, {'x': 8, 'y': 5}, {'x': 9, 'y': 5}, {'x': 10, 'y': 5}, {'x': 11, 'y': 8}, {'x': 12, 'y': 11}, {'x': 13, 'y': 3}, {'x': 14, 'y': 4}, {'x': 15, 'y': 1}, {'x': 16, 'y': 2}, {'x': 17, 'y': 3}]}], 'population_by_gender': [{'key': 'Data', 'values': [{'x': 'Male', 'y': 44}, {'x': 'Female', 'y': 31}]}], 'population_by_race': [{'key': 'Data', 'values': [{'x': 'White', 'y': 71}, {'x': 'Black Or African American', 'y': 0}, {'x': 'American Indian Or Alaskan Native', 'y': 0}, {'x': 'Asian', 'y': 2}, {'x': 'Native Hawaiian & Other Pacific Islander', 'y': 0}, {'x': 'Other Race', 'y': 0}, {'x': 'Two Or More Races', 'y': 2}]}], 'head_of_household_by_age': [{'key': 'Owner', 'values': [{'x': 0, 'y': 0}, {'x': 1, 'y': 1}, {'x': 2, 'y': 4}, {'x': 3, 'y': 5}, {'x': 4, 'y': 9}, {'x': 5, 'y': 4}, {'x': 6, 'y': 2}, {'x': 7, 'y': 2}]}, {'key': 'Renter', 'values': [{'x': 0, 'y': 1}, {'x': 1, 'y': 2}, {'x': 2, 'y': 1}, {'x': 3, 'y': 1}, {'x': 4, 'y': 2}, {'x': 5, 'y': 0}, {'x': 6, 'y': 0}, {'x': 7, 'y': 0}]}, {'key': 'Total', 'color': '#000000', 'values': [{'x': 0, 'y': 1}, {'x': 1, 'y': 3}, {'x': 2, 'y': 5}, {'x': 3, 'y': 6}, {'x': 4, 'y': 11}, {'x': 5, 'y': 4}, {'x': 6, 'y': 2}, {'x': 7, 'y': 2}]}], 'families_vs_singles': [{'key': 'Data', 'values': [{'x': 'Husband Wife Family Households', 'y': 18}, {'x': 'Single Guardian', 'y': 5}, {'x': 'Singles', 'y': 8}, {'x': 'Singles With Roommate', 'y': 3}]}], 'households_with_kids': [{'key': 'Data', 'values': [{'x': 'Households Without Kids', 'y': 28}, {'x': 'Households With Kids', 'y': 6}]}], 'children_by_age': [{'key': 'Male', 'values': [{'x': 0, 'y': 0}, {'x': 1, 'y': 0}, {'x': 2, 'y': 0}, {'x': 3, 'y': 0}, {'x': 4, 'y': 0}, {'x': 5, 'y': 0}, {'x': 6, 'y': 1}, {'x': 7, 'y': 2}, {'x': 8, 'y': 0}, {'x': 9, 'y': 0}, {'x': 10, 'y': 0}, {'x': 11, 'y': 0}, {'x': 12, 'y': 0}, {'x': 13, 'y': 0}, {'x': 14, 'y': 1}, {'x': 15, 'y': 0}, {'x': 16, 'y': 0}, {'x': 17, 'y': 2}, {'x': 18, 'y': 0}, {'x': 19, 'y': 1}]}, {'key': 'Female', 'values': [{'x': 0, 'y': 0}, {'x': 1, 'y': 0}, {'x': 2, 'y': 0}, {'x': 3, 'y': 0}, {'x': 4, 'y': 0}, {'x': 5, 'y': 0}, {'x': 6, 'y': 0}, {'x': 7, 'y': 0}, {'x': 8, 'y': 0}, {'x': 9, 'y': 0}, {'x': 10, 'y': 0}, {'x': 11, 'y': 1}, {'x': 12, 'y': 1}, {'x': 13, 'y': 0}, {'x': 14, 'y': 0}, {'x': 15, 'y': 0}, {'x': 16, 'y': 0}, {'x': 17, 'y': 0}, {'x': 18, 'y': 0}, {'x': 19, 'y': 0}]}, {'key': 'Total', 'color': '#000000', 'values': [{'x': 0, 'y': 0}, {'x': 1, 'y': 0}, {'x': 2, 'y': 0}, {'x': 3, 'y': 0}, {'x': 4, 'y': 0}, {'x': 5, 'y': 0}, {'x': 6, 'y': 1}, {'x': 7, 'y': 2}, {'x': 8, 'y': 0}, {'x': 9, 'y': 0}, {'x': 10, 'y': 0}, {'x': 11, 'y': 1}, {'x': 12, 'y': 1}, {'x': 13, 'y': 0}, {'x': 14, 'y': 1}, {'x': 15, 'y': 0}, {'x': 16, 'y': 0}, {'x': 17, 'y': 2}, {'x': 18, 'y': 0}, {'x': 19, 'y': 1}]}], 'housing_type': [{'key': 'Data', 'values': [{'x': 'In Occupied Housing Units', 'y': 75}, {'x': 'Correctional Facility For Adults', 'y': 0}, {'x': 'Juvenile Facilities', 'y': 0}, {'x': 'Nursing Facilities', 'y': 0}, {'x': 'Other Institutional', 'y': 0}, {'x': 'College Student Housing', 'y': 0}, {'x': 'Military Quarters', 'y': 0}, {'x': 'Other Noninstitutional', 'y': 0}]}], 'year_housing_was_built': [{'key': 'Data', 'values': [{'x': '1939 Or Earlier', 'y': 0}, {'x': '1940s', 'y': 0}, {'x': '1950s', 'y': 0}, {'x': '1960s', 'y': 30}, {'x': '1970s', 'y': 30}, {'x': '1980s', 'y': 30}, {'x': '1990s', 'y': 0}, {'x': '2000s', 'y': 0}, {'x': '2010 Or Later', 'y': 0}]}], 'housing_occupancy': [{'key': 'Data', 'values': [{'x': 'Owned Households With A Mortgage', 'y': 18}, {'x': 'Owned Households Free & Clear', 'y': 9}, {'x': 'Renter Occupied Households', 'y': 7}, {'x': 'Households Vacant', 'y': 83}]}], 'vacancy_reason': [{'key': 'Data', 'values': [{'x': 'For Rent', 'y': 1}, {'x': 'Rented & Unoccupied', 'y': 1}, {'x': 'For Sale Only', 'y': 3}, {'x': 'Sold & Unoccupied', 'y': 0}, {'x': 'For Season Recreational Or Occasional Use', 'y': 78}, {'x': 'For Migrant Workers', 'y': 0}, {'x': 'Vacant For Other Reasons', 'y': 0}]}], 'owner_occupied_home_values': [{'key': 'Data', 'values': [{'x': '$1-$24,999', 'y': 0}, {'x': '$25,000-$49,999', 'y': 0}, {'x': '$50,000-$99,999', 'y': 0}, {'x': '$100,000-$149,999', 'y': 0}, {'x': '$150,000-$199,999', 'y': 0}, {'x': '$200,000-$399,999', 'y': 0}, {'x': '$400,000-$749,999', 'y': 10}, {'x': '$750,000+', 'y': 11}]}], 'rental_properties_by_number_of_rooms': None, 'monthly_rent_including_utilities_studio_apt': None, 'monthly_rent_including_utilities_1_b': None, 'monthly_rent_including_utilities_2_b': None, 'monthly_rent_including_utilities_3plus_b': None, 'employment_status': [{'key': 'Data', 'values': [{'x': 'Worked Full-time With Earnings', 'y': 22}, {'x': 'Worked Part-time With Earnings', 'y': 11}, {'x': 'No Earnings', 'y': 11}]}], 'average_household_income_over_time': [{'key': 'Data', 'values': [{'x': 2005, 'y': 51277.7168}, {'x': 2006, 'y': 56337.6764}, {'x': 2007, 'y': 50984.6114}, {'x': 2008, 'y': 55799.0935}, {'x': 2016, 'y': 69158.0838}]}], 'household_income': [{'key': 'Data', 'values': [{'x': '< $25,000', 'y': 0}, {'x': '$25,000-$44,999', 'y': 0}, {'x': '$45,000-$59,999', 'y': 0}, {'x': '$60,000-$99,999', 'y': 0}, {'x': '$100,000-$149,999', 'y': 10}, {'x': '$150,000-$199,999', 'y': 11}, {'x': '$200,000+', 'y': 0}]}], 'annual_individual_earnings': [{'key': 'Data', 'values': [{'x': '< $10,000', 'y': 0}, {'x': '$10,000-$19,999', 'y': 0}, {'x': '$20,000-$29,999', 'y': 0}, {'x': '$30,000-$39,999', 'y': 23}, {'x': '$40,000-$49,999', 'y': 0}, {'x': '$50,000-$64,999', 'y': 0}, {'x': '$65,000-$74,999', 'y': 0}, {'x': '$75,000-$99,999', 'y': 0}, {'x': '$100,000+', 'y': 10}]}], 'sources_of_household_income____percent_of_households_receiving_income': None, 'sources_of_household_income____average_income_per_household_by_income_source': None, 'household_investment_income____percent_of_households_receiving_investment_income': None, 'household_investment_income____average_income_per_household_by_income_source': None, 'household_retirement_income____percent_of_households_receiving_retirement_incom': None, 'household_retirement_income____average_income_per_household_by_income_source': None, 'source_of_earnings': [{'key': 'Data', 'values': [{'x': 'Worked Full-time With Earnings', 'y': 22}, {'x': 'Worked Part-time With Earnings', 'y': 11}, {'x': 'No Earnings', 'y': 11}]}], 'means_of_transportation_to_work_for_workers_16_and_over': [{'key': 'Data', 'values': [{'x': 'Car, Truck, Or Van', 'y': 22}, {'x': 'Public Transportation', 'y': 0}, {'x': 'Taxicab', 'y': 0}, {'x': 'Motorcycle', 'y': 0}, {'x': 'Bicycle, Walked, Or Other Means', 'y': 0}, {'x': 'Worked At Home', 'y': 11}]}], 'travel_time_to_work_in_minutes': [{'key': 'Data', 'values': [{'x': '< 10', 'y': 22}, {'x': '10-19', 'y': 0}, {'x': '20-29', 'y': 0}, {'x': '30-39', 'y': 0}, {'x': '40-44', 'y': 0}, {'x': '45-59', 'y': 0}, {'x': '60-89', 'y': 0}, {'x': '90+', 'y': 0}]}], 'educational_attainment_for_population_25_and_over': [{'key': 'Data', 'values': [{'x': 'Less Than High School Diploma', 'y': 0}, {'x': 'High School Graduate', 'y': 0}, {'x': \"Associate's Degree\", 'y': 12}, {'x': \"Bachelor's Degree\", 'y': 10}, {'x': \"Master's Degree\", 'y': 22}, {'x': 'Professional School Degree', 'y': 0}, {'x': 'Doctorate Degree', 'y': 0}]}], 'school_enrollment_age_3_to_17': None}\n"
     ]
    }
   ],
   "source": [
    "print(nons[100])"
   ]
  },
  {
   "cell_type": "code",
   "execution_count": null,
   "id": "697618b2",
   "metadata": {},
   "outputs": [],
   "source": []
  }
 ],
 "metadata": {
  "kernelspec": {
   "display_name": "Python 3",
   "language": "python",
   "name": "python3"
  },
  "language_info": {
   "codemirror_mode": {
    "name": "ipython",
    "version": 3
   },
   "file_extension": ".py",
   "mimetype": "text/x-python",
   "name": "python",
   "nbconvert_exporter": "python",
   "pygments_lexer": "ipython3",
   "version": "3.8.8"
  }
 },
 "nbformat": 4,
 "nbformat_minor": 5
}
