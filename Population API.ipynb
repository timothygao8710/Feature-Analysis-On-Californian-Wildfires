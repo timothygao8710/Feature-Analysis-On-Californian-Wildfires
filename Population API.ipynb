{
 "cells": [
  {
   "cell_type": "code",
   "execution_count": 36,
   "id": "85f20a93",
   "metadata": {},
   "outputs": [],
   "source": [
    "import requests\n",
    "import pandas as pd\n",
    "import json\n",
    "import numpy as np\n",
    "from datetime import datetime\n",
    "import sqlite3\n",
    "Key = 'bd608daa318a1fa9e9170fdf07691f9c5d711c7b'\n",
    "#From US Census data:\n",
    "\n",
    "#https://www.census.gov/data/developers/data-sets/popest-popproj/popest.html\n",
    "#https://api.census.gov/data/2019/pep/charagegroups/examples.html"
   ]
  },
  {
   "cell_type": "code",
   "execution_count": 37,
   "id": "ed330cec",
   "metadata": {},
   "outputs": [],
   "source": [
    "conn = sqlite3.connect(\"KaggleUSWildfires.sqlite\")\n"
   ]
  },
  {
   "cell_type": "code",
   "execution_count": 47,
   "id": "164ddfc6",
   "metadata": {},
   "outputs": [
    {
     "name": "stdout",
     "output_type": "stream",
     "text": [
      "   OBJECTID  FOD_ID      FPA_ID SOURCE_SYSTEM_TYPE SOURCE_SYSTEM  \\\n",
      "0         1       1  FS-1418826                FED   FS-FIRESTAT   \n",
      "1         2       2  FS-1418827                FED   FS-FIRESTAT   \n",
      "2         3       3  FS-1418835                FED   FS-FIRESTAT   \n",
      "3         4       4  FS-1418845                FED   FS-FIRESTAT   \n",
      "4         5       5  FS-1418847                FED   FS-FIRESTAT   \n",
      "\n",
      "  NWCG_REPORTING_AGENCY NWCG_REPORTING_UNIT_ID  NWCG_REPORTING_UNIT_NAME  \\\n",
      "0                    FS                USCAPNF    Plumas National Forest   \n",
      "1                    FS                USCAENF  Eldorado National Forest   \n",
      "2                    FS                USCAENF  Eldorado National Forest   \n",
      "3                    FS                USCAENF  Eldorado National Forest   \n",
      "4                    FS                USCAENF  Eldorado National Forest   \n",
      "\n",
      "  SOURCE_REPORTING_UNIT SOURCE_REPORTING_UNIT_NAME  ... FIRE_SIZE_CLASS  \\\n",
      "0                  0511     Plumas National Forest  ...               A   \n",
      "1                  0503   Eldorado National Forest  ...               A   \n",
      "2                  0503   Eldorado National Forest  ...               A   \n",
      "3                  0503   Eldorado National Forest  ...               A   \n",
      "4                  0503   Eldorado National Forest  ...               A   \n",
      "\n",
      "    LATITUDE   LONGITUDE OWNER_CODE       OWNER_DESCR STATE COUNTY FIPS_CODE  \\\n",
      "0  40.036944 -121.005833        5.0              USFS    CA     63       063   \n",
      "1  38.933056 -120.404444        5.0              USFS    CA     61       061   \n",
      "2  38.984167 -120.735556       13.0  STATE OR PRIVATE    CA     17       017   \n",
      "3  38.559167 -119.913333        5.0              USFS    CA      3       003   \n",
      "4  38.559167 -119.933056        5.0              USFS    CA      3       003   \n",
      "\n",
      "   FIPS_NAME                                              Shape  \n",
      "0     Plumas  b'\\x00\\x01\\xad\\x10\\x00\\x00\\xe8d\\xc2\\x92_@^\\xc0...  \n",
      "1     Placer  b'\\x00\\x01\\xad\\x10\\x00\\x00T\\xb6\\xeej\\xe2\\x19^\\...  \n",
      "2  El Dorado  b'\\x00\\x01\\xad\\x10\\x00\\x00\\xd0\\xa5\\xa0W\\x13/^\\...  \n",
      "3     Alpine  b'\\x00\\x01\\xad\\x10\\x00\\x00\\x94\\xac\\xa3\\rt\\xfa]...  \n",
      "4     Alpine  b'\\x00\\x01\\xad\\x10\\x00\\x00@\\xe3\\xaa.\\xb7\\xfb]\\...  \n",
      "\n",
      "[5 rows x 39 columns]\n"
     ]
    }
   ],
   "source": [
    "# print(len(conn))\n",
    "df = pd.read_sql_query(\"SELECT * FROM Fires\", conn)\n",
    "# df = pd.read_sql_query(\"SELECT FIRE_SIZE AS SUM_FIRE_SIZE, State FROM Fires GROUP BY State;\", conn)\n",
    "print(df.head())"
   ]
  },
  {
   "cell_type": "code",
   "execution_count": 81,
   "id": "11b9bf4d",
   "metadata": {},
   "outputs": [
    {
     "name": "stdout",
     "output_type": "stream",
     "text": [
      "1880465\n",
      "189550\n",
      "None\n"
     ]
    }
   ],
   "source": [
    "sz = len(df)\n",
    "print(sz)\n",
    "dates = []\n",
    "longs = []\n",
    "lats = []\n",
    "county = []\n",
    "\n",
    "for i in range(sz):\n",
    "    if df['STATE'][i] != 'CA':\n",
    "        continue\n",
    "    dates.append(df['DISCOVERY_DATE'][i])\n",
    "    longs.append(df['LONGITUDE'][i])\n",
    "    lats.append(df['LATITUDE'][i])\n",
    "    county.append(df['COUNTY'][i])\n",
    "    \n",
    "print(len(dates))\n",
    "print(county[len(county)-1])"
   ]
  },
  {
   "cell_type": "code",
   "execution_count": 75,
   "id": "ffbddf60",
   "metadata": {},
   "outputs": [
    {
     "name": "stdout",
     "output_type": "stream",
     "text": [
      "       dates       longs       lats   c\n",
      "0  2453403.5 -121.005833  40.036944  63\n",
      "1  2453137.5 -120.404444  38.933056  61\n",
      "2  2453156.5 -120.735556  38.984167  17\n",
      "3  2453184.5 -119.913333  38.559167   3\n",
      "4  2453184.5 -119.933056  38.559167   3\n",
      "63\n"
     ]
    }
   ],
   "source": [
    "moda = pd.DataFrame()\n",
    "moda['dates'] = dates\n",
    "moda['longs'] = longs\n",
    "moda['lats'] = lats\n",
    "moda['c'] = county\n",
    "print(moda.head())\n",
    "print(moda['c'][0])"
   ]
  },
  {
   "cell_type": "code",
   "execution_count": 78,
   "id": "c64c16b6",
   "metadata": {},
   "outputs": [
    {
     "name": "stdout",
     "output_type": "stream",
     "text": [
      "63\n"
     ]
    }
   ],
   "source": [
    "sz = len(moda)\n",
    "dates = []\n",
    "longs = []\n",
    "lats = []\n",
    "county = []\n",
    "\n",
    "moda['DATETIME'] = pd.to_datetime(moda['dates'] - pd.Timestamp(0).to_julian_date(), unit='D')\n",
    "\n",
    "# print(moda['DATETIME'][0].year)\n",
    "for i in range(sz):\n",
    "    if int(moda['DATETIME'][i].year) < 2010:\n",
    "        continue\n",
    "    dates.append(moda['dates'][i])\n",
    "    longs.append(moda['longs'][i])\n",
    "    lats.append(moda['lats'][i])\n",
    "    county.append(moda['c'][i])\n",
    "#     print(moda['c'][i])\n",
    "    \n",
    "print(moda['c'][0])"
   ]
  },
  {
   "cell_type": "code",
   "execution_count": 79,
   "id": "a1ecd374",
   "metadata": {},
   "outputs": [
    {
     "name": "stdout",
     "output_type": "stream",
     "text": [
      "0           63\n",
      "1           61\n",
      "2           17\n",
      "3            3\n",
      "4            3\n",
      "          ... \n",
      "189545    None\n",
      "189546    None\n",
      "189547    None\n",
      "189548    None\n",
      "189549    None\n",
      "Name: c, Length: 189550, dtype: object\n"
     ]
    }
   ],
   "source": [
    "print(moda['c'])\n",
    "# # modb = pd.DataFrame()\n",
    "# # modb['DISCOVERY_DATE'] = dates\n",
    "# # modb['LATITUDE'] = longs\n",
    "# # modb['LONGITUDE'] = lats\n",
    "# # modb['c'] = county\n",
    "# # print(modb.head())\n",
    "# # print(len(modb))"
   ]
  },
  {
   "cell_type": "code",
   "execution_count": 63,
   "id": "cabbebb9",
   "metadata": {},
   "outputs": [
    {
     "name": "stdout",
     "output_type": "stream",
     "text": [
      "   Unnamed: 0  FIRE_YEAR STAT_CAUSE_DESCR   LATITUDE   LONGITUDE STATE  \\\n",
      "0           0       2010    Equipment Use  36.766944 -121.303056    CA   \n",
      "1           1       2010    Miscellaneous  36.776944 -121.311111    CA   \n",
      "2           2       2010    Miscellaneous  36.856111 -121.381111    CA   \n",
      "3           3       2010    Miscellaneous  36.818056 -121.391111    CA   \n",
      "4           4       2010    Miscellaneous  36.883056 -121.561944    CA   \n",
      "\n",
      "   DISCOVERY_DATE  FIRE_SIZE        DATE      zipcode  \\\n",
      "0       2455335.5       70.0  2010-05-19  95075-9701,   \n",
      "1       2455355.5        0.5  2010-06-08       95023,   \n",
      "2       2455359.5        0.1  2010-06-12       95023,   \n",
      "3       2455361.5        0.1  2010-06-14       95023,   \n",
      "4       2455388.5        1.0  2010-07-11  95045-9662,   \n",
      "\n",
      "                                             address   DATETIME  \n",
      "0  Saddle Association Museum, Airline Highway, Tr... 2010-05-19  \n",
      "1  Pinnacle Hills Golf Club, 7777, Airline Highwa... 2010-06-08  \n",
      "2  1198, Santa Ana Road, Hollister, San Benito Co... 2010-06-12  \n",
      "3  186, Hospital Road, Hollister, San Benito Coun... 2010-06-14  \n",
      "4  Chittenden Road, River Oaks, San Benito County... 2010-07-11  \n"
     ]
    }
   ],
   "source": [
    "other = pd.read_csv('mod_CA2010Fires.csv')\n",
    "other['DATETIME'] = pd.to_datetime(other['DISCOVERY_DATE'] - pd.Timestamp(0).to_julian_date(), unit='D')\n",
    "print(other.head())"
   ]
  },
  {
   "cell_type": "code",
   "execution_count": null,
   "id": "6f815cbb",
   "metadata": {},
   "outputs": [],
   "source": [
    "int p = 0\n",
    "res = []\n",
    "for i in range(len(other)):\n",
    "    if p == len(moda) or other['DISCOVERY_DATE'][i] != moda['dates'][p] or other['LONGITUDE'][i] != moda['DISCOVERY_DATE'][p] or "
   ]
  },
  {
   "cell_type": "code",
   "execution_count": 33,
   "id": "31f35e57",
   "metadata": {},
   "outputs": [
    {
     "name": "stdout",
     "output_type": "stream",
     "text": [
      "https://api.census.gov/data/2019/pep/charagegroups?get=NAME,POP&for=county:001&in=state:06&key=bd608daa318a1fa9e9170fdf07691f9c5d711c7b\n"
     ]
    }
   ],
   "source": [
    "\n",
    "def generateURL(time, countycode):\n",
    "    base_url = 'https://api.census.gov/data/{YEAR}/pep/charagegroups?get=NAME,POP&for=county:{COUNTY}&in=state:06&key=bd608daa318a1fa9e9170fdf07691f9c5d711c7b'\n",
    "    api_request_url = base_url.format(YEAR=time, COUNTY=countycode)\n",
    "    return api_request_url\n",
    "print(generateURL(2019,'001'))"
   ]
  },
  {
   "cell_type": "code",
   "execution_count": 10,
   "id": "4b9e144e",
   "metadata": {},
   "outputs": [],
   "source": [
    "year = []\n",
    "sz = len(df)\n",
    "for i in range(sz):\n",
    "    s = df['DATE'][i]\n",
    "    res = s[0:4]\n",
    "    year.append(res)\n",
    "    \n",
    "df['YEAR'] = year"
   ]
  },
  {
   "cell_type": "code",
   "execution_count": 28,
   "id": "4fafa378",
   "metadata": {},
   "outputs": [
    {
     "data": {
      "text/plain": [
       "'1671329'"
      ]
     },
     "execution_count": 28,
     "metadata": {},
     "output_type": "execute_result"
    }
   ],
   "source": [
    "\n",
    "example = 'https://api.census.gov/data/2019/pep/charagegroups?get=NAME,POP&for=county:001&in=state:06&key=bd608daa318a1fa9e9170fdf07691f9c5d711c7b'\n",
    "\n",
    "# ONE_MINUTE = 60\n",
    "# MAX_CALLS_PER_MINUTE = 55\n",
    "\n",
    "# @sleep_and_retry\n",
    "# @limits(calls=MAX_CALLS_PER_MINUTE, period=ONE_MINUTE)\n",
    "def access_rate_limited_api(req_url):\n",
    "    try:\n",
    "        response = requests.get(url=req_url, verify=True, timeout=None)\n",
    "        if response.status_code != 200:\n",
    "            raise Exception('API response: {}'.format(response.status_code))\n",
    "        content = response.text\n",
    "        a = content.split(',')\n",
    "        b = a[6].split('\"')\n",
    "        return b[1]\n",
    "    except Exception:\n",
    "        print('exception with:')\n",
    "        print(req_url)\n",
    "        SLEEPTIME.sleep(101)\n",
    "        # wait = min(wait+2, 600)\n",
    "        return access_rate_limited_api(req_url)\n",
    "\n",
    "access_rate_limited_api(example)\n",
    "#Correct, according to google... Yay!"
   ]
  },
  {
   "cell_type": "code",
   "execution_count": 26,
   "id": "c9d89f4a",
   "metadata": {},
   "outputs": [
    {
     "name": "stdout",
     "output_type": "stream",
     "text": [
      "<class 'str'>\n"
     ]
    }
   ],
   "source": [
    "sz = len(df)\n",
    "for i in range(sz):\n",
    "    yr = df['YEAR'][i]\n",
    "\n",
    "    url = generateURL(yr, )\n",
    "    s = access_rate_limited_api(url)\n",
    "    vals = s.split(',')\n",
    "#     if i%100 == 0:\n",
    "    print('done: ' + str(i) + ' requests...')\n",
    "\n",
    "    for i in range(len(vals)):\n",
    "        mp[params[i]].append(vals[i])\n",
    "\n",
    "print(mp)"
   ]
  },
  {
   "cell_type": "code",
   "execution_count": null,
   "id": "6178ea22",
   "metadata": {},
   "outputs": [],
   "source": []
  }
 ],
 "metadata": {
  "kernelspec": {
   "display_name": "Python 3",
   "language": "python",
   "name": "python3"
  },
  "language_info": {
   "codemirror_mode": {
    "name": "ipython",
    "version": 3
   },
   "file_extension": ".py",
   "mimetype": "text/x-python",
   "name": "python",
   "nbconvert_exporter": "python",
   "pygments_lexer": "ipython3",
   "version": "3.8.8"
  }
 },
 "nbformat": 4,
 "nbformat_minor": 5
}
