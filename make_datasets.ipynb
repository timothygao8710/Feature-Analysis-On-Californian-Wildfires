{
 "cells": [
  {
   "cell_type": "code",
   "execution_count": 3,
   "metadata": {
    "gather": {
     "logged": 1655661373344
    }
   },
   "outputs": [],
   "source": [
    "import pandas as pd\n",
    "import matplotlib.pyplot as plt\n",
    "import numpy as np\n",
    "import time\n",
    "from datetime import datetime"
   ]
  },
  {
   "cell_type": "code",
   "execution_count": 98,
   "metadata": {
    "collapsed": false,
    "gather": {
     "logged": 1655708548488
    },
    "jupyter": {
     "outputs_hidden": false,
     "source_hidden": false
    },
    "nteract": {
     "transient": {
      "deleting": false
     }
    }
   },
   "outputs": [
    {
     "name": "stdout",
     "output_type": "stream",
     "text": [
      "0.31494740378356817\n",
      "47627\n"
     ]
    }
   ],
   "source": [
    "satelliteA = pd.read_csv('satellite_fires1_finished.csv')\n",
    "satelliteB = pd.read_csv('satellite_fires2_finished.csv')\n",
    "nofires = pd.read_csv('final15kNoFires.csv')\n",
    "calfires = pd.read_csv('finished2kFires.csv')\n",
    "\n",
    "# To Generate Large sample: 1-1-1-1\n",
    "# To Generate Med-Large sample (27k): 0.4-0.3-1-0.9\n",
    "# To Generate Med Sample (15k): 0.15-0.1-0.7-0.7\n",
    "# To Generate Small Sample (9k): 0.1-0.08-0.4-0.4\n",
    "\n",
    "#Gridded-Large: 1 - 1 - 1\n",
    "#Gridded-Med: 0.5 - 0.5 - 1\n",
    "#Gridded-Small: 0.1 - 0.2 - 0.5\n",
    "\n",
    "#Look for better resolution (250, 500, 1000)\n",
    "\n",
    "#NASA MERRA2 Reanalysis\n",
    "\n",
    "#Check quality flag for data\n",
    "#Get rid of the 2k data, just use the gridded data so there's no conlfict\n",
    "\n",
    "# print(len(satelliteA))\n",
    "# print(satelliteA.head())\n",
    "satelliteA = satelliteA.sample(frac = 1)\n",
    "satelliteA.index = range(len(satelliteA.index))\n",
    "\n",
    "satelliteB = satelliteB.sample(frac = 1)\n",
    "satelliteB.index = range(len(satelliteB.index))\n",
    "\n",
    "nofires = nofires.sample(frac = 1)\n",
    "nofires.index = range(len(nofires.index))\n",
    "\n",
    "calfires = calfires.sample(frac = 0)\n",
    "calfires.index = range(len(calfires.index))\n",
    "\n",
    "endsize = len(satelliteA) + len(satelliteB) + len(nofires) + len(calfires)\n",
    "print(len(nofires)/endsize)\n",
    "print(endsize)\n",
    "\n",
    "# print(len(satelliteA))\n",
    "# print(satelliteA.head())"
   ]
  },
  {
   "cell_type": "code",
   "execution_count": 99,
   "metadata": {
    "collapsed": false,
    "gather": {
     "logged": 1655708548584
    },
    "jupyter": {
     "outputs_hidden": false,
     "source_hidden": false
    },
    "nteract": {
     "transient": {
      "deleting": false
     }
    }
   },
   "outputs": [],
   "source": [
    "calfires['Fire'] = 1\n",
    "satelliteA['Fire'] = 1\n",
    "satelliteB['Fire'] = 1\n",
    "nofires['Fire'] = 0\n",
    "print(calfires.head())\n",
    "print(satelliteA.head())\n",
    "print(satelliteB.head())\n",
    "print(nofires.head())\n",
    "\n",
    "print(len(calfires))\n",
    "print(len(satelliteA))\n",
    "print(len(satelliteB))\n",
    "print(len(nofires))\n"
   ]
  },
  {
   "cell_type": "code",
   "execution_count": 100,
   "metadata": {
    "collapsed": false,
    "gather": {
     "logged": 1655708523550
    },
    "jupyter": {
     "outputs_hidden": false,
     "source_hidden": false
    },
    "nteract": {
     "transient": {
      "deleting": false
     }
    }
   },
   "outputs": [],
   "source": [
    "lons = []\n",
    "lats = []\n",
    "dats = []\n",
    "# address = []\n",
    "fires = []\n",
    "\n",
    "for i in range(len(calfires)):\n",
    "    lons.append(calfires['Longitude'][i])\n",
    "    lats.append(calfires['Latitude'][i])\n",
    "    dats.append(calfires['Datetime'][i])\n",
    "    fires.append(calfires['Fire'][i])\n",
    "    # address.append(calfires['Fire'][i])\n",
    "\n",
    "\n",
    "\n",
    "for i in range(len(satelliteA)):\n",
    "    lons.append(satelliteA['longitude'][i])\n",
    "    lats.append(satelliteA['latitude'][i])\n",
    "    dats.append(satelliteA['Datetime'][i])\n",
    "    # address.append(satelliteA['Address'][i])\n",
    "    fires.append(satelliteA['Fire'][i])\n",
    "\n",
    "\n",
    "\n",
    "for i in range(len(satelliteB)):\n",
    "    lons.append(satelliteB['longitude'][i])\n",
    "    lats.append(satelliteB['latitude'][i])\n",
    "    dats.append(satelliteB['Datetime'][i])\n",
    "    # address.append(satelliteB['Address'][i])\n",
    "    fires.append(satelliteB['Fire'][i])\n",
    "\n",
    "\n",
    "\n",
    "for i in range(len(nofires)):\n",
    "    lons.append(nofires['Longitude'][i])\n",
    "    lats.append(nofires['Latitude'][i])\n",
    "    dats.append(nofires['Datetime'][i])\n",
    "    # address.append(nofires[i]['Address'])\n",
    "    fires.append(nofires['Fire'][i])\n",
    "\n"
   ]
  },
  {
   "cell_type": "code",
   "execution_count": null,
   "metadata": {
    "collapsed": false,
    "gather": {
     "logged": 1655708523803
    },
    "jupyter": {
     "outputs_hidden": false,
     "source_hidden": false
    },
    "nteract": {
     "transient": {
      "deleting": false
     }
    }
   },
   "outputs": [],
   "source": [
    "print(len(fires))\n",
    "print(len(lons))\n",
    "result = pd.DataFrame()\n",
    "result['Longitude'] = lons\n",
    "result['Latitude'] = lats\n",
    "result['Datetime'] = dats\n",
    "result['Fire'] = fires\n",
    "\n",
    "\n",
    "\n",
    "print(len(result))\n",
    "result.to_csv('Gridded_Large_Fires.csv')\n"
   ]
  }
 ],
 "metadata": {
  "kernel_info": {
   "name": "python38-azureml"
  },
  "kernelspec": {
   "display_name": "Python 3",
   "language": "python",
   "name": "python3"
  },
  "language_info": {
   "codemirror_mode": {
    "name": "ipython",
    "version": 3
   },
   "file_extension": ".py",
   "mimetype": "text/x-python",
   "name": "python",
   "nbconvert_exporter": "python",
   "pygments_lexer": "ipython3",
   "version": "3.8.8"
  },
  "microsoft": {
   "host": {
    "AzureML": {
     "notebookHasBeenCompleted": true
    }
   }
  },
  "nteract": {
   "version": "nteract-front-end@1.0.0"
  }
 },
 "nbformat": 4,
 "nbformat_minor": 4
}
