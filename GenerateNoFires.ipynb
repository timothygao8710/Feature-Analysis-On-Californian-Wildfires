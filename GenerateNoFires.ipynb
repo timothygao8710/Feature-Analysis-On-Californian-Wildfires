{
 "cells": [
  {
   "cell_type": "code",
   "execution_count": 21,
   "id": "08a4dcf9",
   "metadata": {
    "gather": {
     "logged": 1655968470388
    }
   },
   "outputs": [],
   "source": [
    "# !pip install earthengine-api\n",
    "\n",
    "import pandas as pd\n",
    "import matplotlib.pyplot as plt\n",
    "import numpy as np\n",
    "from datetime import datetime\n",
    "from datetime import timedelta\n",
    "import ee\n",
    "import math\n",
    "scale = 0.009\n",
    "#Experimentally found smaller = pinpoint location"
   ]
  },
  {
   "cell_type": "code",
   "execution_count": null,
   "id": "a61e3cde",
   "metadata": {
    "gather": {
     "logged": 1655968443701
    }
   },
   "outputs": [],
   "source": [
    "ee.Authenticate()\n",
    "ee.Initialize()"
   ]
  },
  {
   "cell_type": "code",
   "execution_count": 15,
   "id": "e8e98504",
   "metadata": {
    "gather": {
     "logged": 1655968448465
    }
   },
   "outputs": [
    {
     "name": "stdout",
     "output_type": "stream",
     "text": [
      "   Unnamed: 0  Longitude  Latitude   Datetime  Fire\n",
      "0           0   -116.700    33.862 2020-09-18     1\n",
      "1           1   -123.000    39.855 2020-09-10     1\n",
      "2           2   -121.473    36.068 2020-09-07     1\n",
      "3           3   -121.608    36.151 2020-08-21     1\n",
      "4           4   -119.435    37.286 2020-09-21     1\n"
     ]
    }
   ],
   "source": [
    "fires = pd.read_csv('Gridded_Small_Fires.csv')\n",
    "\n",
    "dts = []\n",
    "for i in fires['Datetime']:\n",
    "    dts.append(datetime.strptime(i, '%Y-%m-%d'))\n",
    "\n",
    "fires['Datetime'] = dts\n",
    "print(fires.head())"
   ]
  },
  {
   "cell_type": "code",
   "execution_count": 16,
   "id": "5d857d84",
   "metadata": {
    "gather": {
     "logged": 1655968450856
    }
   },
   "outputs": [],
   "source": [
    "dataset = ee.ImageCollection(\"MODIS/MYD09GA_006_NDVI\")\n",
    "\n",
    "feature_array = ['NDVI']\n",
    "\n",
    "#Use the 16-day NDVI Modis data as well - seems more legit\n"
   ]
  },
  {
   "cell_type": "code",
   "execution_count": 18,
   "id": "9b819474",
   "metadata": {
    "gather": {
     "logged": 1655968457388
    }
   },
   "outputs": [],
   "source": [
    "#Transforms client-side ee.Image.getRegion array to pandas.DataFrame.\n",
    "#List of bands is the list of features that we are interested in\n",
    "def ee_array_to_df(arr, list_of_bands):\n",
    "    df = pd.DataFrame(arr)\n",
    "    headers = df.iloc[0]\n",
    "    df = pd.DataFrame(df.values[1:], columns=headers)\n",
    "\n",
    "    # Remove rows without data inside.\n",
    "    # df = df[['longitude', 'latitude', 'time', *list_of_bands]].dropna()\n",
    "    # print(len(df))\n",
    "\n",
    "    # Convert the data to numeric values.\n",
    "    for band in list_of_bands:\n",
    "        df[band] = pd.to_numeric(df[band], errors='coerce')\n",
    "\n",
    "    #Check for NaN values\n",
    "#     print(df)\n",
    "#     for i in df:\n",
    "#         if math.isnan(float(df[i][0])):\n",
    "#             marker = 1\n",
    "#             raise Exception(\"NaN Value detected\")\n",
    "\n",
    "    # Convert the time field into a datetime.\n",
    "    df['datetime'] = pd.to_datetime(df['time'], unit='ms')\n",
    "\n",
    "    # Keep the columns of interest.\n",
    "    df = df[['time','datetime',  *list_of_bands]]\n",
    "    \n",
    "    return df"
   ]
  },
  {
   "cell_type": "code",
   "execution_count": 19,
   "id": "fe45ea8a",
   "metadata": {
    "gather": {
     "logged": 1655968459503
    }
   },
   "outputs": [
    {
     "name": "stdout",
     "output_type": "stream",
     "text": [
      "<class 'pandas._libs.tslibs.timestamps.Timestamp'>\n",
      "['2020-09-16', '2020-09-21']\n"
     ]
    }
   ],
   "source": [
    "# a_date = datetime. date(2015, 10, 10)\n",
    "# days = datetime. timedelta(5)\n",
    "# new_date = a_date - days. Subtract 5 days from a_date.\n",
    "# print(new_date)\n",
    "\n",
    "# print(fires['datetime'][0])\n",
    "# print(type(fires['datetime'][0]))\n",
    "# #Year-Month-Date\n",
    "# a = fires['datetime'][0].strftime('%Y-%m-%d')\n",
    "# print(a)\n",
    "# print(type(a))\n",
    "#returns [i_date, f_date]\n",
    "#freq - e.g, 7 days per observation\n",
    "\n",
    "#NOTE: Its EXCLUSIVE last date\n",
    "#Data interpolation\n",
    "def getDate(dt, freq):\n",
    "#     freq -= 1\n",
    "    half = int(freq/2)\n",
    "    sub = timedelta(half)\n",
    "    add = timedelta(freq - half)\n",
    "    i_d = dt - sub\n",
    "    f_d = dt + add\n",
    "    \n",
    "    i_d = i_d.strftime('%Y-%m-%d')\n",
    "    f_d = f_d.strftime('%Y-%m-%d')\n",
    "    return [i_d, f_d]\n",
    "\n",
    "test = fires['Datetime'][0]\n",
    "print(type(test))\n",
    "#^ is 2010-05-19\n",
    "print(getDate(test, 5))"
   ]
  },
  {
   "cell_type": "code",
   "execution_count": 23,
   "id": "2d9b3b54",
   "metadata": {
    "gather": {
     "logged": 1655968717806
    }
   },
   "outputs": [
    {
     "name": "stdout",
     "output_type": "stream",
     "text": [
      "0           time   datetime      NDVI\n",
      "0  1533081600000 2018-08-01  0.425548\n"
     ]
    }
   ],
   "source": [
    "#i_date - string, inclusive\n",
    "#f_date - string, exclusive\n",
    "def request(i_date, f_date, lon, lat, feature_array):\n",
    "    cur = dataset.filter(ee.Filter.date(i_date, f_date))\n",
    "    pos = ee.Geometry.Point(lon, lat)\n",
    "    res = cur.getRegion(pos, scale).getInfo()\n",
    "    # if(len(res) > 2):\n",
    "        # print(\"more than one satellite entry for date range\")\n",
    "    df = ee_array_to_df(res,feature_array)\n",
    "    return df\n",
    "\n",
    "i_date = '2018-08-01'\n",
    "f_date = '2018-08-02'\n",
    "# test = dataset.filter(ee.Filter.date(i_date, f_date))\n",
    "u_lon = -119.16\n",
    "u_lat = 37.5650\n",
    "\n",
    "# r_lon = -120.0\n",
    "# r_lat = 37.8\n",
    "\n",
    "# !! ___ TEST FOR FREQUENCY HERE ____ !!\n",
    "print(request(i_date, f_date, u_lon, u_lat, feature_array))\n",
    "# print(request(i_date, f_date, r_lon, r_lat, feature_array))\n",
    "freq = 1"
   ]
  },
  {
   "cell_type": "code",
   "execution_count": 24,
   "id": "47b5b99a",
   "metadata": {
    "gather": {
     "logged": 1655968743325
    }
   },
   "outputs": [
    {
     "name": "stdout",
     "output_type": "stream",
     "text": [
      "-119.435\n",
      "37.286\n",
      "2020-09-21 00:00:00\n",
      "<class 'pandas.core.series.Series'>\n",
      "0\n",
      "time              1600646400000\n",
      "datetime    2020-09-21 00:00:00\n",
      "NDVI                   0.300939\n",
      "Name: 0, dtype: object\n"
     ]
    }
   ],
   "source": [
    "all_exceptions = set()\n",
    "def query(lon, lat, dat, daterange):\n",
    "#     print(str(lon) + \" \" + str(lat) + \" \" + str(dat) + \" \" + str(daterange))\n",
    "    try:\n",
    "        i_d, f_d = getDate(dat, daterange)\n",
    "        cur = request(i_d, f_d, lon, lat, feature_array)\n",
    "\n",
    "        #Deal with NaNs --> They can be date dependent or location dependent\n",
    "        idx = -1\n",
    "        for i in cur:\n",
    "            #Here, we can either do average, or take the closest date to the current date\n",
    "            \n",
    "            #Current approach: Take the closest date\n",
    "            \n",
    "            j = 0\n",
    "            while j < len(cur):\n",
    "                if not isinstance(cur[i][j], float):\n",
    "                    j += 1\n",
    "                    continue\n",
    "                \n",
    "                \n",
    "                if not math.isnan(float(cur[i][j])):\n",
    "                    idx = j\n",
    "                    #Assumption: If one feature is non-NaN, then all values will be non-NaN\n",
    "\n",
    "                    #THIS PART IS SCUFFED LMAO\n",
    "                j+=1\n",
    "                \n",
    "        \n",
    "        if idx == -1:\n",
    "            raise Exception(\"All NaN Values -> try larger date range\")\n",
    "        \n",
    "        #Essentially we're increasing range until we find the first date with all non-NaN values\n",
    "        return cur.iloc[idx]\n",
    "    except Exception as e:\n",
    "        all_exceptions.add(e)\n",
    "        print(e)\n",
    "        print(str(lon) + \" \" + str(lat))\n",
    "        return query(lon, lat, dat, daterange+1)\n",
    "\n",
    "    \n",
    "print(fires['Longitude'][4])\n",
    "print(fires['Latitude'][4])\n",
    "print(fires['datetime'][4])\n",
    "\n",
    "temp = query(fires['Longitude'][4], fires['Latitude'][4], fires['datetime'][4], freq)\n",
    "print(type(temp))\n",
    "print(temp)\n"
   ]
  },
  {
   "cell_type": "code",
   "execution_count": null,
   "id": "0126cade-70a4-4165-adad-ccceca88a1e2",
   "metadata": {
    "collapsed": false,
    "gather": {
     "logged": 1655968443762
    },
    "jupyter": {
     "outputs_hidden": false,
     "source_hidden": false
    },
    "nteract": {
     "transient": {
      "deleting": false
     }
    }
   },
   "outputs": [],
   "source": [
    "from random import randrange\n",
    "from datetime import date\n",
    "startdt = date(2015, 1, 1)\n",
    "enddt = date(2021, 1, 1)\n",
    "#2015-2020\n",
    "\n",
    "all_set = set()\n",
    "all_tuples = set()\n",
    "\n",
    "for i in range(len(fires)):\n",
    "    all_set.add((fires['Longitude'][i], fires['Latitude'][i]))\n",
    "print(len(all))\n",
    "\n",
    "all = []\n",
    "for i in all_set:\n",
    "    all.append(i)\n",
    "\n",
    "nofires = []\n",
    "nofiresz = 15000\n",
    "\n",
    "idx = 0"
   ]
  },
  {
   "cell_type": "code",
   "execution_count": null,
   "id": "2453f3c2-79ba-4804-82c8-0c4c74f75769",
   "metadata": {
    "collapsed": false,
    "gather": {
     "logged": 1655968443770
    },
    "jupyter": {
     "outputs_hidden": false,
     "source_hidden": false
    },
    "nteract": {
     "transient": {
      "deleting": false
     }
    }
   },
   "outputs": [],
   "source": [
    "def random_date(start, end):\n",
    "    \"\"\"\n",
    "    This function will return a random datetime between two datetime \n",
    "    objects.\n",
    "    \"\"\"\n",
    "    delta = end - start\n",
    "    int_delta = (delta.days * 24 * 60 * 60) + delta.seconds\n",
    "    random_second = randrange(int_delta)\n",
    "    return start + timedelta(seconds=random_second)\n",
    "\n",
    "while idx < nofiresz:\n",
    "    i = randrange(0, len(all))\n",
    "    lon = all[i][0]\n",
    "    lat = all[i][1]\n",
    "    randomdt = random_date(startdt, enddt)\n",
    "\n",
    "    tup = (lon, lat, randomdt)\n",
    "\n",
    "    if(tup in all_tuples):\n",
    "        continue\n",
    "\n",
    "    all_tuples.add(tup)\n",
    "    #two months buffer\n",
    "    if(query(lon, lat, randomdt, 62)):\n",
    "        nofires.append(tup)\n",
    "        idx += 1\n",
    "        print(tup)\n",
    "\n"
   ]
  },
  {
   "cell_type": "code",
   "execution_count": null,
   "id": "5fce44ea-e2bb-46b1-809c-631829b64fb3",
   "metadata": {
    "collapsed": false,
    "gather": {
     "logged": 1655968443781
    },
    "jupyter": {
     "outputs_hidden": false,
     "source_hidden": false
    },
    "nteract": {
     "transient": {
      "deleting": false
     }
    }
   },
   "outputs": [],
   "source": [
    "print(nofires)"
   ]
  },
  {
   "cell_type": "code",
   "execution_count": null,
   "id": "22147e9d-3d11-4426-8d2d-fed36af7db28",
   "metadata": {
    "collapsed": false,
    "gather": {
     "logged": 1655968443788
    },
    "jupyter": {
     "outputs_hidden": false,
     "source_hidden": false
    },
    "nteract": {
     "transient": {
      "deleting": false
     }
    }
   },
   "outputs": [],
   "source": [
    "lats = []\n",
    "lons = []\n",
    "times = []\n",
    "\n",
    "for i in nofires:\n",
    "    lats.append(i[1])\n",
    "    lons.append(i[0])\n",
    "    times.append(i[2])\n",
    "\n",
    "res = pd.DataFrame()\n",
    "res['Longitude'] = lons\n",
    "res['Latitude'] = lats\n",
    "res['Datetime'] = times\n",
    "\n",
    "res.to_csv('15kNoFires.csv')\n"
   ]
  },
  {
   "cell_type": "code",
   "execution_count": null,
   "id": "0ae0846e-c10c-4c5d-89e4-d5f30b8d3983",
   "metadata": {
    "collapsed": false,
    "gather": {
     "logged": 1655968443797
    },
    "jupyter": {
     "outputs_hidden": false,
     "source_hidden": false
    },
    "nteract": {
     "transient": {
      "deleting": false
     }
    }
   },
   "outputs": [],
   "source": [
    "#combine everything -- we only keep time, lon, lat, address, yes/no\n",
    "import geopandas as gpd\n",
    "import geopy\n",
    "from geopy.geocoders import Nominatim\n",
    "from geopy.extra.rate_limiter import RateLimiter\n",
    "\n",
    "res = pd.read_csv('2kCalFires.csv')\n",
    "# print(res.head())\n",
    "\n",
    "res['LocationString'] = res['Latitude'].map(str) + ',' + res['Longitude'].map(str)\n",
    "print(res['LocationString'][1211])\n",
    "\n",
    "for i in range(len(res)):\n",
    "    l = float(res['Latitude'][i])\n",
    "    \n",
    "    if not (-90 <= l and l <= 90):\n",
    "        res.at[i, 'Latitude'] = res['Longitude'][i]\n",
    "        res.at[i, 'Longitude'] = l\n",
    "print(res['LocationString'][1211])\n",
    "\n",
    "locator = geopy.Nominatim(user_agent='need zipcode plz', timeout=10)\n",
    "res['LocationString'] = res['Latitude'].map(str) + ',' + res['Longitude'].map(str)\n",
    "# print(res['Longitude'])\n",
    "print(len(res))"
   ]
  },
  {
   "cell_type": "code",
   "execution_count": null,
   "id": "360bb208-4881-469b-b563-ce6e71537cac",
   "metadata": {
    "collapsed": false,
    "gather": {
     "logged": 1655968443806
    },
    "jupyter": {
     "outputs_hidden": false,
     "source_hidden": false
    },
    "nteract": {
     "transient": {
      "deleting": false
     }
    }
   },
   "outputs": [],
   "source": [
    "idx = 0\n",
    "final_addresses = []\n",
    "notpossible = []\n",
    "drops = []"
   ]
  },
  {
   "cell_type": "code",
   "execution_count": null,
   "id": "76607075-fcf7-4130-9926-84407b5e9c4c",
   "metadata": {
    "collapsed": false,
    "gather": {
     "logged": 1655968443819
    },
    "jupyter": {
     "outputs_hidden": false,
     "source_hidden": false
    },
    "nteract": {
     "transient": {
      "deleting": false
     }
    }
   },
   "outputs": [],
   "source": [
    "sz = len(res)\n",
    "\n",
    "while idx < sz:\n",
    "    try:\n",
    "        location = locator.reverse(res['LocationString'][idx])\n",
    "        \n",
    "        #There are some mess ups -- 228 for example, they entered the long and lat backwards -- swaps to be made\n",
    "        address = location.address\n",
    "\n",
    "        if not \" California,\" in address:\n",
    "            print(\"NOT POSSIBLE AT: \" + str(idx))\n",
    "            raise Exception(\"Not possible\")\n",
    "            notpossible.append(idx)\n",
    "        \n",
    "        final_addresses.append(address)\n",
    "        print(address)\n",
    "        # if i % 1000 == 0:\n",
    "        print(\"done with \" + str(idx))\n",
    "    except:\n",
    "        drops.append(idx)\n",
    "        print(\"error with \" + str(idx))\n",
    "    idx += 1\n",
    "\n",
    "#THIS RES IS ACTUALLY THE CAL FIRES ONE NOW\n",
    "#Drop, and then assign to address\n",
    "\n",
    "# res['Address'] = final_addresses\n",
    "# res.to_csv('final15kNoFires.csv')"
   ]
  },
  {
   "cell_type": "code",
   "execution_count": null,
   "id": "98ceca91-67b1-4124-933f-8cd28623ee71",
   "metadata": {
    "collapsed": false,
    "gather": {
     "logged": 1655968443825
    },
    "jupyter": {
     "outputs_hidden": false,
     "source_hidden": false
    },
    "nteract": {
     "transient": {
      "deleting": false
     }
    }
   },
   "outputs": [],
   "source": [
    "# print(len(notpossible))\n",
    "# print(len(drops))\n",
    "# print(drops)\n",
    "# print(len(res))\n",
    "res = res.drop(drops)\n",
    "res = res.reset_index(drop=True)\n",
    "print(\"now df is only \" + str(len(res)))"
   ]
  },
  {
   "cell_type": "code",
   "execution_count": null,
   "id": "d5a5adc6-9fc8-4b0a-a842-e8043d18aafc",
   "metadata": {
    "collapsed": false,
    "gather": {
     "logged": 1655968443831
    },
    "jupyter": {
     "outputs_hidden": false,
     "source_hidden": false
    },
    "nteract": {
     "transient": {
      "deleting": false
     }
    }
   },
   "outputs": [],
   "source": [
    "print(len(drops))\n",
    "print(len(res))\n",
    "print(len(notpossible))\n",
    "res['Address'] = final_addresses\n",
    "print(res.head())"
   ]
  },
  {
   "cell_type": "code",
   "execution_count": null,
   "id": "552c5a63-1efe-40b9-b0d8-5d59643923bc",
   "metadata": {
    "collapsed": false,
    "gather": {
     "logged": 1655968443835
    },
    "jupyter": {
     "outputs_hidden": false,
     "source_hidden": false
    },
    "nteract": {
     "transient": {
      "deleting": false
     }
    }
   },
   "outputs": [],
   "source": [
    "res.to_csv('finished2kFires.csv')"
   ]
  }
 ],
 "metadata": {
  "kernel_info": {
   "name": "python3"
  },
  "kernelspec": {
   "display_name": "Python 3",
   "language": "python",
   "name": "python3"
  },
  "language_info": {
   "codemirror_mode": {
    "name": "ipython",
    "version": 3
   },
   "file_extension": ".py",
   "mimetype": "text/x-python",
   "name": "python",
   "nbconvert_exporter": "python",
   "pygments_lexer": "ipython3",
   "version": "3.8.8"
  },
  "microsoft": {
   "host": {
    "AzureML": {
     "notebookHasBeenCompleted": true
    }
   }
  },
  "nteract": {
   "version": "nteract-front-end@1.0.0"
  }
 },
 "nbformat": 4,
 "nbformat_minor": 5
}
