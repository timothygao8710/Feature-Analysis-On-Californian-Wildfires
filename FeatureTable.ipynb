{
 "cells": [
  {
   "cell_type": "code",
   "execution_count": 81,
   "id": "5eef8c81",
   "metadata": {},
   "outputs": [],
   "source": [
    "from matplotlib import pyplot as plt\n",
    "import pandas as pd"
   ]
  },
  {
   "cell_type": "code",
   "execution_count": 82,
   "id": "1fb52fa7",
   "metadata": {},
   "outputs": [],
   "source": [
    "with open('10PaperFeatures.txt') as f:\n",
    "    content = f.read()"
   ]
  },
  {
   "cell_type": "code",
   "execution_count": 83,
   "id": "2e05e910",
   "metadata": {},
   "outputs": [],
   "source": [
    "content = content.split('|')"
   ]
  },
  {
   "cell_type": "code",
   "execution_count": 84,
   "id": "2bea86fd",
   "metadata": {},
   "outputs": [],
   "source": [
    "feats = []\n",
    "for i in range(len(content)):\n",
    "    a = content[i].split('\\n')\n",
    "    if len(a) == 1:\n",
    "        continue\n",
    "    feats.append(a[2])"
   ]
  },
  {
   "cell_type": "code",
   "execution_count": 85,
   "id": "7ade6a1a",
   "metadata": {},
   "outputs": [
    {
     "name": "stdout",
     "output_type": "stream",
     "text": [
      "['Temperature', 'Precipitation', 'Humidity', 'Speed', 'Humidity', 'Precipitation', 'Temperature', 'History', 'Pressure', 'Precipitation', 'Speed', 'Temperature', 'Vegetation', 'History', 'Elevation', 'Direction', 'Speed', 'Temperature', 'Humidity', 'Precipitation', 'Index', 'Vegetation', 'Density', 'Component', 'Temperature', 'Humidity', 'Radiation', 'Precipitation', 'Temperature', 'Humidity', 'Speed', 'Radiation', 'Precipitation', 'Moisture', 'Elevation', 'Humidity', 'Speed', 'Radiation', 'Flux', 'Pressure', 'Moisture', 'Temperature', 'Index', 'Vegetation', 'Cover', 'Precipitation', 'Factors', 'Temperature', 'Precipitation', 'Moisture', 'Land', 'Speed', 'Humidity', 'Sunshine', 'Population']\n"
     ]
    }
   ],
   "source": [
    "fNum = []\n",
    "total = []\n",
    "for i in range(len(feats)):\n",
    "    cur = feats[i].split(',')\n",
    "    fNum.append(len(cur))\n",
    "    for j in cur:\n",
    "        j = j.lower()\n",
    "        a = j.split(' ')\n",
    "        k = a[len(a)-1]\n",
    "        k = k.capitalize()\n",
    "        total.append(k)\n",
    "print(total)"
   ]
  },
  {
   "cell_type": "code",
   "execution_count": 86,
   "id": "3753b06c",
   "metadata": {},
   "outputs": [
    {
     "name": "stdout",
     "output_type": "stream",
     "text": [
      "{0: 0, 1: 1, 2: 0, 3: 0, 4: 5, 5: 0, 6: 4, 7: 0, 8: 0, 9: 0, 10: 1}\n"
     ]
    }
   ],
   "source": [
    "mpNum = {}\n",
    "for i in range(11):\n",
    "    mpNum[i] = 0\n",
    "for i in fNum:\n",
    "#     print(mpNum[i])\n",
    "    mpNum[int(i)] += 1\n",
    "print(mpNum)"
   ]
  },
  {
   "cell_type": "code",
   "execution_count": 90,
   "id": "df96cbb7",
   "metadata": {},
   "outputs": [
    {
     "data": {
      "text/plain": [
       "<BarContainer object of 11 artists>"
      ]
     },
     "execution_count": 90,
     "metadata": {},
     "output_type": "execute_result"
    },
    {
     "data": {
      "image/png": "[encoded data removed]",
      "text/plain": [
       "<Figure size 432x288 with 1 Axes>"
      ]
     },
     "metadata": {
      "needs_background": "light"
     },
     "output_type": "display_data"
    }
   ],
   "source": [
    "a = mpNum.keys()\n",
    "b = mpNum.values()\n",
    "xs = []\n",
    "ys = []\n",
    "for i in a:\n",
    "    xs.append(i)\n",
    "for i in b:\n",
    "    ys.append(i)\n",
    "\n",
    "# print(xs)\n",
    "# print(ys)\n",
    "plt.xlabel('Number of Features Used')\n",
    "plt.bar(xs, ys)"
   ]
  },
  {
   "cell_type": "code",
   "execution_count": 88,
   "id": "23195b07",
   "metadata": {},
   "outputs": [
    {
     "name": "stdout",
     "output_type": "stream",
     "text": [
      "['Temperature', 'Precipitation', 'Humidity', 'Speed', 'Humidity', 'Precipitation', 'Temperature', 'History', 'Pressure', 'Precipitation', 'Speed', 'Temperature', 'Vegetation', 'History', 'Elevation', 'Direction', 'Speed', 'Temperature', 'Humidity', 'Precipitation', 'Index', 'Vegetation', 'Density', 'Component', 'Temperature', 'Humidity', 'Radiation', 'Precipitation', 'Temperature', 'Humidity', 'Speed', 'Radiation', 'Precipitation', 'Moisture', 'Elevation', 'Humidity', 'Speed', 'Radiation', 'Flux', 'Pressure', 'Moisture', 'Temperature', 'Index', 'Vegetation', 'Cover', 'Precipitation', 'Factors', 'Temperature', 'Precipitation', 'Moisture', 'Land', 'Speed', 'Humidity', 'Sunshine', 'Population']\n",
      "['Others', 'Moisture', 'Radiation', 'Index', 'Elevation', 'Vegetation', 'Pressure', 'History', 'Speed', 'Humidity', 'Precipitation', 'Temperature']\n",
      "[9, 3, 3, 2, 2, 3, 2, 2, 6, 7, 8, 8]\n"
     ]
    }
   ],
   "source": [
    "print(total)\n",
    "mpF = {}\n",
    "for i in total:\n",
    "    if not i in mpF:\n",
    "        mpF[i] = 0\n",
    "    mpF[i] += 1\n",
    "\n",
    "mpActual = {}\n",
    "mpActual['Others'] = 0\n",
    "for i in mpF:\n",
    "    if mpF[i] == 1:\n",
    "        mpActual['Others'] += 1\n",
    "    else:\n",
    "        mpActual[i] = mpF[i]\n",
    "\n",
    "a = mpActual.keys()\n",
    "b = mpActual.values()\n",
    "xs = []\n",
    "ys = []\n",
    "\n",
    "for i in a:\n",
    "    xs.append(i)\n",
    "for i in b:\n",
    "    ys.append(i)\n",
    "xs.append(xs[0])\n",
    "ys.append(ys[0])\n",
    "ys.remove(ys[0])\n",
    "xs.remove(xs[0])\n",
    "xs.reverse()\n",
    "ys.reverse()\n",
    "print(xs)\n",
    "print(ys)\n",
    "# plt.barh(xs, ys)"
   ]
  },
  {
   "cell_type": "code",
   "execution_count": 89,
   "id": "a479018f",
   "metadata": {},
   "outputs": [
    {
     "data": {
      "image/png": "[encoded data removed]",
      "text/plain": [
       "<Figure size 432x288 with 1 Axes>"
      ]
     },
     "metadata": {
      "needs_background": "light"
     },
     "output_type": "display_data"
    }
   ],
   "source": [
    "temp = []\n",
    "for i in range(10):\n",
    "    temp.append(i)\n",
    "plt.barh(xs, ys)\n",
    "plt.xticks(temp)\n",
    "# plt.xlabel('Number of Papers')\n",
    "# ax.set_title('Feature Table')\n",
    "plt.xlabel('Features')\n",
    "plt.show()"
   ]
  },
  {
   "cell_type": "code",
   "execution_count": null,
   "id": "fbb8475c",
   "metadata": {},
   "outputs": [],
   "source": []
  },
  {
   "cell_type": "code",
   "execution_count": null,
   "id": "cf1c2a04",
   "metadata": {},
   "outputs": [],
   "source": []
  },
  {
   "cell_type": "code",
   "execution_count": null,
   "id": "dd6404c6",
   "metadata": {},
   "outputs": [],
   "source": []
  },
  {
   "cell_type": "code",
   "execution_count": null,
   "id": "266be3a1",
   "metadata": {},
   "outputs": [],
   "source": []
  }
 ],
 "metadata": {
  "kernelspec": {
   "display_name": "Python 3",
   "language": "python",
   "name": "python3"
  },
  "language_info": {
   "codemirror_mode": {
    "name": "ipython",
    "version": 3
   },
   "file_extension": ".py",
   "mimetype": "text/x-python",
   "name": "python",
   "nbconvert_exporter": "python",
   "pygments_lexer": "ipython3",
   "version": "3.8.8"
  }
 },
 "nbformat": 4,
 "nbformat_minor": 5
}
