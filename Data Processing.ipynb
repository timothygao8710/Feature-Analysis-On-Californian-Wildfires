{
 "cells": [
  {
   "cell_type": "code",
   "execution_count": 26,
   "id": "b8bc6cc1",
   "metadata": {},
   "outputs": [],
   "source": [
    "import requests\n",
    "import pandas as pd\n",
    "import json\n",
    "import numpy as np\n",
    "from datetime import datetime\n",
    "import sqlite3\n",
    "import matplotlib.pyplot as plt\n",
    "import scipy.stats as stats\n",
    "\n",
    "\n",
    "from uszipcode import SearchEngine"
   ]
  },
  {
   "cell_type": "code",
   "execution_count": 19,
   "id": "a194f9fd",
   "metadata": {},
   "outputs": [
    {
     "name": "stdout",
     "output_type": "stream",
     "text": [
      "   Unnamed: 0  FIRE_YEAR STAT_CAUSE_DESCR   LATITUDE   LONGITUDE STATE  \\\n",
      "0           0       2010    Equipment Use  36.766944 -121.303056    CA   \n",
      "1           1       2010    Miscellaneous  36.776944 -121.311111    CA   \n",
      "2           2       2010    Miscellaneous  36.856111 -121.381111    CA   \n",
      "3           3       2010    Miscellaneous  36.818056 -121.391111    CA   \n",
      "4           4       2010    Miscellaneous  36.883056 -121.561944    CA   \n",
      "\n",
      "   DISCOVERY_DATE  FIRE_SIZE        DATE      zipcode  \\\n",
      "0       2455335.5       70.0  2010-05-19  95075-9701,   \n",
      "1       2455355.5        0.5  2010-06-08       95023,   \n",
      "2       2455359.5        0.1  2010-06-12       95023,   \n",
      "3       2455361.5        0.1  2010-06-14       95023,   \n",
      "4       2455388.5        1.0  2010-07-11  95045-9662,   \n",
      "\n",
      "                                             address  \n",
      "0  Saddle Association Museum, Airline Highway, Tr...  \n",
      "1  Pinnacle Hills Golf Club, 7777, Airline Highwa...  \n",
      "2  1198, Santa Ana Road, Hollister, San Benito Co...  \n",
      "3  186, Hospital Road, Hollister, San Benito Coun...  \n",
      "4  Chittenden Road, River Oaks, San Benito County...  \n",
      "31858\n"
     ]
    }
   ],
   "source": [
    "df = pd.read_csv('mod_CA2010Fires.csv')\n",
    "batcha = pd.read_csv('nasapowerbatch1.csv')\n",
    "batchb = pd.read_csv('nasapowerbatch2.csv')\n",
    "df['DATE'] = pd.to_datetime(df['DISCOVERY_DATE'] - pd.Timestamp(0).to_julian_date(), unit='D')\n",
    "print(df.head())"
   ]
  },
  {
   "cell_type": "code",
   "execution_count": 13,
   "id": "903f333c",
   "metadata": {},
   "outputs": [
    {
     "name": "stdout",
     "output_type": "stream",
     "text": [
      "   Unnamed: 0  FIRE_YEAR STAT_CAUSE_DESCR   LATITUDE   LONGITUDE STATE  \\\n",
      "0           0       2010    Equipment Use  36.766944 -121.303056    CA   \n",
      "1           1       2010    Miscellaneous  36.776944 -121.311111    CA   \n",
      "2           2       2010    Miscellaneous  36.856111 -121.381111    CA   \n",
      "3           3       2010    Miscellaneous  36.818056 -121.391111    CA   \n",
      "4           4       2010    Miscellaneous  36.883056 -121.561944    CA   \n",
      "\n",
      "   DISCOVERY_DATE  FIRE_SIZE        DATE      zipcode  \\\n",
      "0       2455335.5       70.0  2010-05-19  95075-9701,   \n",
      "1       2455355.5        0.5  2010-06-08       95023,   \n",
      "2       2455359.5        0.1  2010-06-12       95023,   \n",
      "3       2455361.5        0.1  2010-06-14       95023,   \n",
      "4       2455388.5        1.0  2010-07-11  95045-9662,   \n",
      "\n",
      "                                             address  \n",
      "0  Saddle Association Museum, Airline Highway, Tr...  \n",
      "1  Pinnacle Hills Golf Club, 7777, Airline Highwa...  \n",
      "2  1198, Santa Ana Road, Hollister, San Benito Co...  \n",
      "3  186, Hospital Road, Hollister, San Benito Coun...  \n",
      "4  Chittenden Road, River Oaks, San Benito County...  \n",
      "31858\n"
     ]
    }
   ],
   "source": [
    "drops = []\n",
    "for i in range(len(df)):\n",
    "    if df['zipcode'][i][0] < '0' or df['zipcode'][i][0] > '9':\n",
    "        drops.append(i)\n",
    "print(len(drops))"
   ]
  },
  {
   "cell_type": "code",
   "execution_count": 14,
   "id": "27482294",
   "metadata": {},
   "outputs": [],
   "source": [
    "print(len(df))\n",
    "print(len(batcha))\n",
    "print(len(batchb))\n",
    "batcha = batcha.drop(drops)\n",
    "batchb = batchb.drop(drops)\n",
    "df = df.drop(drops)\n",
    "print(len(df))\n",
    "print(len(batcha))\n",
    "print(len(batchb))"
   ]
  },
  {
   "cell_type": "code",
   "execution_count": 15,
   "id": "f5238a8c",
   "metadata": {},
   "outputs": [
    {
     "name": "stdout",
     "output_type": "stream",
     "text": [
      "   Unnamed: 0  Unnamed: 0.1                      LLstr  \\\n",
      "0           0             0  36.76694444,-121.30305555   \n",
      "1           1             1  36.77694444,-121.31111111   \n",
      "2           2             2  36.85611111,-121.38111111   \n",
      "3           3             3  36.81805555,-121.39111111   \n",
      "4           4             4  36.88305555,-121.56194444   \n",
      "\n",
      "                                             address      zipcode  \n",
      "0  Saddle Association Museum, Airline Highway, Tr...  95075-9701,  \n",
      "1  Pinnacle Hills Golf Club, 7777, Airline Highwa...       95023,  \n",
      "2  1198, Santa Ana Road, Hollister, San Benito Co...       95023,  \n",
      "3  186, Hospital Road, Hollister, San Benito Coun...       95023,  \n",
      "4  Chittenden Road, River Oaks, San Benito County...  95045-9662,  \n",
      "31858\n"
     ]
    }
   ],
   "source": [
    "df.reset_index(inplace=True, drop=True)\n",
    "batcha.reset_index(inplace=True, drop=True)\n",
    "batchb.reset_index(inplace=True, drop=True)"
   ]
  },
  {
   "cell_type": "code",
   "execution_count": 17,
   "id": "7a8e6e44",
   "metadata": {},
   "outputs": [
    {
     "name": "stdout",
     "output_type": "stream",
     "text": [
      "92508,\n",
      "92314,\n"
     ]
    }
   ],
   "source": [
    "t = [batcha, batchb]\n",
    "res = pd.concat(t, axis=1)\n",
    "print(res)"
   ]
  },
  {
   "cell_type": "code",
   "execution_count": null,
   "id": "af7897d4",
   "metadata": {},
   "outputs": [],
   "source": [
    "# df.to_csv('20kFires.csv')"
   ]
  },
  {
   "cell_type": "code",
   "execution_count": 3,
   "id": "c1e02117",
   "metadata": {},
   "outputs": [
    {
     "name": "stderr",
     "output_type": "stream",
     "text": [
      "/Users/gaofamily/opt/anaconda3/lib/python3.8/site-packages/IPython/core/interactiveshell.py:3165: DtypeWarning: Columns (9,11,12,13,14,15,16,17,18,19,36,38) have mixed types.Specify dtype option on import or set low_memory=False.\n",
      "  has_raised = await self.run_ast_nodes(code_ast.body, cell_name,\n"
     ]
    },
    {
     "name": "stdout",
     "output_type": "stream",
     "text": [
      "   Unnamed: 0  OBJECTID  FOD_ID      FPA_ID SOURCE_SYSTEM_TYPE SOURCE_SYSTEM  \\\n",
      "0           0         1       1  FS-1418826                FED   FS-FIRESTAT   \n",
      "1           1         2       2  FS-1418827                FED   FS-FIRESTAT   \n",
      "2           2         3       3  FS-1418835                FED   FS-FIRESTAT   \n",
      "3           3         4       4  FS-1418845                FED   FS-FIRESTAT   \n",
      "4           4         5       5  FS-1418847                FED   FS-FIRESTAT   \n",
      "\n",
      "  NWCG_REPORTING_AGENCY NWCG_REPORTING_UNIT_ID  NWCG_REPORTING_UNIT_NAME  \\\n",
      "0                    FS                USCAPNF    Plumas National Forest   \n",
      "1                    FS                USCAENF  Eldorado National Forest   \n",
      "2                    FS                USCAENF  Eldorado National Forest   \n",
      "3                    FS                USCAENF  Eldorado National Forest   \n",
      "4                    FS                USCAENF  Eldorado National Forest   \n",
      "\n",
      "  SOURCE_REPORTING_UNIT  ... FIRE_SIZE_CLASS   LATITUDE   LONGITUDE  \\\n",
      "0                   511  ...               A  40.036944 -121.005833   \n",
      "1                   503  ...               A  38.933056 -120.404444   \n",
      "2                   503  ...               A  38.984167 -120.735556   \n",
      "3                   503  ...               A  38.559167 -119.913333   \n",
      "4                   503  ...               A  38.559167 -119.933056   \n",
      "\n",
      "  OWNER_CODE       OWNER_DESCR STATE COUNTY FIPS_CODE  FIPS_NAME  \\\n",
      "0        5.0              USFS    CA   63.0      63.0     Plumas   \n",
      "1        5.0              USFS    CA   61.0      61.0     Placer   \n",
      "2       13.0  STATE OR PRIVATE    CA   17.0      17.0  El Dorado   \n",
      "3        5.0              USFS    CA    3.0       3.0     Alpine   \n",
      "4        5.0              USFS    CA    3.0       3.0     Alpine   \n",
      "\n",
      "                                               Shape  \n",
      "0  b'\\x00\\x01\\xad\\x10\\x00\\x00\\xe8d\\xc2\\x92_@^\\xc0...  \n",
      "1  b'\\x00\\x01\\xad\\x10\\x00\\x00T\\xb6\\xeej\\xe2\\x19^\\...  \n",
      "2  b'\\x00\\x01\\xad\\x10\\x00\\x00\\xd0\\xa5\\xa0W\\x13/^\\...  \n",
      "3  b'\\x00\\x01\\xad\\x10\\x00\\x00\\x94\\xac\\xa3\\rt\\xfa]...  \n",
      "4  b'\\x00\\x01\\xad\\x10\\x00\\x00@\\xe3\\xaa.\\xb7\\xfb]\\...  \n",
      "\n",
      "[5 rows x 40 columns]\n"
     ]
    }
   ],
   "source": [
    "test = pd.read_csv('full_fires.csv')\n",
    "print(test.head())\n"
   ]
  },
  {
   "cell_type": "code",
   "execution_count": 5,
   "id": "1368763d",
   "metadata": {},
   "outputs": [],
   "source": [
    "test['DATE'] = pd.to_datetime(test['DISCOVERY_DATE'] - pd.Timestamp(0).to_julian_date(), unit='D')"
   ]
  },
  {
   "cell_type": "code",
   "execution_count": 6,
   "id": "335be2c8",
   "metadata": {},
   "outputs": [
    {
     "name": "stdout",
     "output_type": "stream",
     "text": [
      "2015-03-14 00:00:00\n"
     ]
    }
   ],
   "source": [
    "print(test['DATE'][len(test)-1])"
   ]
  },
  {
   "cell_type": "code",
   "execution_count": 41,
   "id": "7a0ded8d",
   "metadata": {},
   "outputs": [
    {
     "name": "stdout",
     "output_type": "stream",
     "text": [
      "   Unnamed: 0  Unnamed: 0.1  FIRE_YEAR STAT_CAUSE_DESCR   LATITUDE  \\\n",
      "0           0             0       2010    Equipment Use  36.766944   \n",
      "1           1             1       2010    Miscellaneous  36.776944   \n",
      "2           2             2       2010    Miscellaneous  36.856111   \n",
      "3           3             3       2010    Miscellaneous  36.818056   \n",
      "4           4             4       2010    Miscellaneous  36.883056   \n",
      "\n",
      "    LONGITUDE STATE  DISCOVERY_DATE  FIRE_SIZE        DATE     zipcode  \\\n",
      "0 -121.303056    CA       2455335.5       70.0  2010-05-19  95075-9701   \n",
      "1 -121.311111    CA       2455355.5        0.5  2010-06-08       95023   \n",
      "2 -121.381111    CA       2455359.5        0.1  2010-06-12       95023   \n",
      "3 -121.391111    CA       2455361.5        0.1  2010-06-14       95023   \n",
      "4 -121.561944    CA       2455388.5        1.0  2010-07-11  95045-9662   \n",
      "\n",
      "                                             address  \n",
      "0  Saddle Association Museum, Airline Highway, Tr...  \n",
      "1  Pinnacle Hills Golf Club, 7777, Airline Highwa...  \n",
      "2  1198, Santa Ana Road, Hollister, San Benito Co...  \n",
      "3  186, Hospital Road, Hollister, San Benito Coun...  \n",
      "4  Chittenden Road, River Oaks, San Benito County...  \n",
      "   Unnamed: 0  Unnamed: 0.1  YEAR  MO  DY    T2M  T2MDEW  T2MWET     TS  \\\n",
      "0           0             0  2010   5  19  14.14    8.85   11.50  15.37   \n",
      "1           1             1  2010   6   8  15.71    8.62   12.16  17.72   \n",
      "2           2             2  2010   6  12  21.69    5.98   13.83  22.86   \n",
      "3           3             3  2010   6  14  19.74    8.31   14.03  21.72   \n",
      "4           4             4  2010   7  11  25.21   10.52   17.87  28.01   \n",
      "\n",
      "   T2M_RANGE  ...    TQV   TS.1  WS10M  WS10M_MAX  WS10M_MIN  WS10M_RANGE  \\\n",
      "0      14.57  ...   0.98  98.03   2.55     311.29       4.24        13.87   \n",
      "1      13.14  ...  97.68   2.45   7.14       3.67       7.52        22.77   \n",
      "2      19.36  ...   1.22  97.42   2.42     294.60       3.72        21.83   \n",
      "3      20.33  ...   1.75  97.60   3.27     304.59       4.67        19.21   \n",
      "4      20.21  ...  46.00   4.13   8.24      28.01       6.00        35.23   \n",
      "\n",
      "    WS2M  WS2M_MAX  WS2M_MIN  WS2M_RANGE  \n",
      "0  12.73     15.37      0.04        0.12  \n",
      "1  66.38    299.49      0.00        0.14  \n",
      "2  16.59     22.86      0.00        0.12  \n",
      "3  18.62     21.72      0.00        0.16  \n",
      "4   4.21      0.10      0.00        0.16  \n",
      "\n",
      "[5 rows x 36 columns]\n",
      "   Unnamed: 0             County  Population  PopulationDensity  HousingUnits  \\\n",
      "0           0  San Benito County       331.0                4.0         122.0   \n",
      "1           1  San Benito County     48841.0              118.0       15301.0   \n",
      "2           2  San Benito County     48841.0              118.0       15301.0   \n",
      "3           3  San Benito County     48841.0              118.0       15301.0   \n",
      "4           4  San Benito County      4046.0               85.0        1542.0   \n",
      "\n",
      "   HousingOccupied  HomeValue   Income  AreaCode  WaterArea  \n",
      "0            114.0   317900.0  52500.0     408.0       0.15  \n",
      "1          14491.0   338300.0  67481.0     408.0       0.75  \n",
      "2          14491.0   338300.0  67481.0     408.0       0.75  \n",
      "3          14491.0   338300.0  67481.0     408.0       0.75  \n",
      "4           1408.0   384800.0  58005.0     408.0       0.03  \n"
     ]
    }
   ],
   "source": [
    "fires = pd.read_csv('20kFires.csv')\n",
    "climate = pd.read_csv('20kClimate.csv')\n",
    "human = pd.read_csv('20kHuman.csv')\n",
    "print(fires.head())\n",
    "print(climate.head())\n",
    "print(human.head())"
   ]
  },
  {
   "cell_type": "code",
   "execution_count": 8,
   "id": "35c3cec0",
   "metadata": {},
   "outputs": [
    {
     "name": "stdout",
     "output_type": "stream",
     "text": [
      "23035\n",
      "23035\n"
     ]
    }
   ],
   "source": [
    "print(len(climate))\n",
    "print(len(fires))"
   ]
  },
  {
   "cell_type": "code",
   "execution_count": 38,
   "id": "2e4680e8",
   "metadata": {
    "scrolled": true
   },
   "outputs": [
    {
     "name": "stdout",
     "output_type": "stream",
     "text": [
      "slope 0.41356026306157695\n",
      "intercept 22.34926650525342\n",
      "r_value 0.11174844401734757\n"
     ]
    },
    {
     "data": {
      "image/png": "[encoded data removed]",
      "text/plain": [
       "<Figure size 432x288 with 1 Axes>"
      ]
     },
     "metadata": {
      "needs_background": "light"
     },
     "output_type": "display_data"
    }
   ],
   "source": [
    "x = []\n",
    "y = []\n",
    "\n",
    "mx = 100\n",
    "mn = 10\n",
    "for i in range(len(fires)):\n",
    "    if fires['FIRE_SIZE'][i] < mx and fires['FIRE_SIZE'][i] > mn:\n",
    "        x.append(float(climate['T2M'][i]))\n",
    "        y.append(float(fires['FIRE_SIZE'][i]))\n",
    "\n",
    "nx = np.array(x)\n",
    "ny = np.array(y)\n",
    "plt.scatter(nx, ny, s=1.5)\n",
    "slope, intercept, r_value, p_value, std_err = stats.linregress(nx, ny)\n",
    "plt.plot(nx, slope*nx+intercept)\n",
    "print(\"slope \" + str(slope))\n",
    "print(\"intercept \" + str(intercept))\n",
    "print(\"r_value \" + str(r_value))\n",
    "\n",
    "plt.xlabel('Temperature at 2M')\n",
    "plt.ylabel('Fire Size')\n",
    "plt.show()\n",
    "# print(x)\n",
    "# print(y)\n",
    "# print(fires.columns)"
   ]
  },
  {
   "cell_type": "code",
   "execution_count": 40,
   "id": "24dff713",
   "metadata": {},
   "outputs": [
    {
     "name": "stdout",
     "output_type": "stream",
     "text": [
      "slope -0.006954625404824956\n",
      "intercept 31.5686961349568\n",
      "r_value -0.0026057699668234372\n"
     ]
    },
    {
     "data": {
      "image/png": "[encoded data removed]",
      "text/plain": [
       "<Figure size 432x288 with 1 Axes>"
      ]
     },
     "metadata": {
      "needs_background": "light"
     },
     "output_type": "display_data"
    }
   ],
   "source": [
    "x = []\n",
    "y = []\n",
    "\n",
    "mx = 100\n",
    "mn = 10\n",
    "for i in range(len(fires)):\n",
    "    if fires['FIRE_SIZE'][i] < mx and fires['FIRE_SIZE'][i] > mn and climate['WS10M'][i] < 50:\n",
    "        x.append(float(climate['WS10M'][i]))\n",
    "        y.append(float(fires['FIRE_SIZE'][i]))\n",
    "\n",
    "nx = np.array(x)\n",
    "ny = np.array(y)\n",
    "plt.scatter(nx, ny, s=1.5)\n",
    "slope, intercept, r_value, p_value, std_err = stats.linregress(nx, ny)\n",
    "plt.plot(nx, slope*nx+intercept)\n",
    "print(\"slope \" + str(slope))\n",
    "print(\"intercept \" + str(intercept))\n",
    "print(\"r_value \" + str(r_value))\n",
    "\n",
    "plt.xlabel('Wind speed at 10M')\n",
    "plt.ylabel('Fire Size')\n",
    "plt.show()\n",
    "# print(x)\n",
    "# print(y)\n",
    "# print(fires.columns)"
   ]
  },
  {
   "cell_type": "code",
   "execution_count": 48,
   "id": "ca341165",
   "metadata": {},
   "outputs": [
    {
     "name": "stdout",
     "output_type": "stream",
     "text": [
      "slope -4.945877803962505e-05\n",
      "intercept 32.69816032776716\n",
      "r_value -0.049574621151043\n"
     ]
    },
    {
     "data": {
      "image/png": "[encoded data removed]",
      "text/plain": [
       "<Figure size 432x288 with 1 Axes>"
      ]
     },
     "metadata": {
      "needs_background": "light"
     },
     "output_type": "display_data"
    }
   ],
   "source": [
    "x = []\n",
    "y = []\n",
    "\n",
    "mx = 100\n",
    "mn = 10\n",
    "for i in range(len(fires)):\n",
    "    if fires['FIRE_SIZE'][i] < mx and fires['FIRE_SIZE'][i] > mn:\n",
    "        if human['Population'][i] is None or np.isnan(human['Population'][i]):\n",
    "            continue\n",
    "        x.append(float(human['Population'][i]))\n",
    "        y.append(float(fires['FIRE_SIZE'][i]))\n",
    "\n",
    "nx = np.array(x)\n",
    "ny = np.array(y)\n",
    "plt.scatter(nx, ny, s=1.5)\n",
    "slope, intercept, r_value, p_value, std_err = stats.linregress(nx, ny)\n",
    "plt.plot(nx, slope*nx+intercept)\n",
    "print(\"slope \" + str(slope))\n",
    "print(\"intercept \" + str(intercept))\n",
    "print(\"r_value \" + str(r_value))\n",
    "\n",
    "plt.xlabel('Population')\n",
    "plt.ylabel('Fire Size')\n",
    "plt.show()\n",
    "# print(x)\n",
    "# print(y)\n",
    "# print(fires.columns)"
   ]
  },
  {
   "cell_type": "code",
   "execution_count": null,
   "id": "89414d86",
   "metadata": {},
   "outputs": [],
   "source": []
  }
 ],
 "metadata": {
  "kernelspec": {
   "display_name": "Python 3",
   "language": "python",
   "name": "python3"
  },
  "language_info": {
   "codemirror_mode": {
    "name": "ipython",
    "version": 3
   },
   "file_extension": ".py",
   "mimetype": "text/x-python",
   "name": "python",
   "nbconvert_exporter": "python",
   "pygments_lexer": "ipython3",
   "version": "3.8.8"
  }
 },
 "nbformat": 4,
 "nbformat_minor": 5
}
