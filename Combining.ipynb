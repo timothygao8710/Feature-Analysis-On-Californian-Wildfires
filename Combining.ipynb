{
 "cells": [
  {
   "cell_type": "code",
   "execution_count": 1,
   "id": "a00765e8-5889-40df-8872-d7b63b9680bb",
   "metadata": {},
   "outputs": [],
   "source": [
    "import pandas as pd\n",
    "import numpy as np"
   ]
  },
  {
   "cell_type": "code",
   "execution_count": 4,
   "id": "0f1a813c-1497-4a49-b099-22b95957f8aa",
   "metadata": {},
   "outputs": [],
   "source": [
    "def horizontal(A, B):\n",
    "    if len(A) != len(B):\n",
    "        raise Exception(\"Different lengths dataframe\")\n",
    "    return pd.concat([A, B], axis=1)"
   ]
  },
  {
   "cell_type": "code",
   "execution_count": 5,
   "id": "bff1753a-c89d-4b7d-a2f3-a0c4f0b70ec7",
   "metadata": {},
   "outputs": [],
   "source": [
    "def vertical(A, B):\n",
    "    return pd.concat([A, B], ignore_index=True)"
   ]
  },
  {
   "cell_type": "code",
   "execution_count": 7,
   "id": "890c4a4b-b26e-4ef2-bd5b-6f140aa3f25b",
   "metadata": {},
   "outputs": [
    {
     "name": "stdout",
     "output_type": "stream",
     "text": [
      "   Unnamed: 0  Longitude  Latitude    Datetime  Fire\n",
      "0           0   -116.700    33.862  2020-09-18     1\n",
      "1           1   -123.000    39.855  2020-09-10     1\n",
      "2           2   -121.473    36.068  2020-09-07     1\n",
      "3           3   -121.608    36.151  2020-08-21     1\n",
      "4           4   -119.435    37.286  2020-09-21     1\n",
      "   Unnamed: 0  YEAR  MO  DY  ALLSKY_SFC_LW_DWN  PRECTOT     PS   QV2M  RH2M  \\\n",
      "0           0  2020   9  18               5.87     3.13  19.25  10.63  4.32   \n",
      "1           1  2020   9  10               1.38     1.81  28.12  11.24  0.98   \n",
      "2           2  2020   9   7               3.09     4.40  22.81  17.17  2.47   \n",
      "3           3  2020   8  21               3.05     5.91  89.62   4.05  2.06   \n",
      "4           4  2020   9  21               3.32     1.95  30.00   7.81  0.95   \n",
      "\n",
      "   SRF_ALB  ...     TQV      TS  WS10M  WS10M_MAX  WS10M_MIN  WS10M_RANGE  \\\n",
      "0    28.10  ...  347.70   90.43  16.68       4.39      26.41        23.37   \n",
      "1    18.91  ...  388.71   89.95  10.40       3.78      16.05        14.44   \n",
      "2    32.38  ...  351.70   96.57  17.47       6.16      29.01        23.73   \n",
      "3    16.52  ...  349.70  100.03  21.26      10.25      14.83        14.86   \n",
      "4    15.08  ...  300.93   79.31   6.30       3.54      10.08        12.05   \n",
      "\n",
      "   WS2M  WS2M_MAX  WS2M_MIN  WS2M_RANGE  \n",
      "0  6.74     33.99      0.00        0.16  \n",
      "1  2.30     25.67      0.00        0.15  \n",
      "2  6.55     40.91      0.00        0.16  \n",
      "3  7.78     18.91      0.01        0.17  \n",
      "4  3.62     19.87      0.00        0.16  \n",
      "\n",
      "[5 rows x 24 columns]\n"
     ]
    }
   ],
   "source": [
    "dfa = pd.read_csv('Gridded_Small_Fires.csv')\n",
    "dfb = pd.read_csv('1Gridded_Small_Fires.csv')\n",
    "print(dfa.head())\n",
    "print(dfb.head())"
   ]
  },
  {
   "cell_type": "code",
   "execution_count": 10,
   "id": "4e3a3fdd-9616-4e68-b672-01d41e53950f",
   "metadata": {},
   "outputs": [
    {
     "name": "stdout",
     "output_type": "stream",
     "text": [
      "   Longitude  Latitude    Datetime  Fire  YEAR  MO  DY  ALLSKY_SFC_LW_DWN  \\\n",
      "0   -116.700    33.862  2020-09-18     1  2020   9  18               5.87   \n",
      "1   -123.000    39.855  2020-09-10     1  2020   9  10               1.38   \n",
      "2   -121.473    36.068  2020-09-07     1  2020   9   7               3.09   \n",
      "3   -121.608    36.151  2020-08-21     1  2020   8  21               3.05   \n",
      "4   -119.435    37.286  2020-09-21     1  2020   9  21               3.32   \n",
      "\n",
      "   PRECTOT     PS  ...     TQV      TS  WS10M  WS10M_MAX  WS10M_MIN  \\\n",
      "0     3.13  19.25  ...  347.70   90.43  16.68       4.39      26.41   \n",
      "1     1.81  28.12  ...  388.71   89.95  10.40       3.78      16.05   \n",
      "2     4.40  22.81  ...  351.70   96.57  17.47       6.16      29.01   \n",
      "3     5.91  89.62  ...  349.70  100.03  21.26      10.25      14.83   \n",
      "4     1.95  30.00  ...  300.93   79.31   6.30       3.54      10.08   \n",
      "\n",
      "   WS10M_RANGE  WS2M  WS2M_MAX  WS2M_MIN  WS2M_RANGE  \n",
      "0        23.37  6.74     33.99      0.00        0.16  \n",
      "1        14.44  2.30     25.67      0.00        0.15  \n",
      "2        23.73  6.55     40.91      0.00        0.16  \n",
      "3        14.86  7.78     18.91      0.01        0.17  \n",
      "4        12.05  3.62     19.87      0.00        0.16  \n",
      "\n",
      "[5 rows x 27 columns]\n"
     ]
    }
   ],
   "source": [
    "res = horizontal(dfa, dfb)\n",
    "res.drop('Unnamed: 0', axis=1, inplace=True)\n",
    "\n",
    "print(res.head())"
   ]
  },
  {
   "cell_type": "code",
   "execution_count": 11,
   "id": "603b15e7-2727-4ace-a4f8-4cd3f393913e",
   "metadata": {},
   "outputs": [],
   "source": [
    "res.to_csv('tempFires.csv')"
   ]
  },
  {
   "cell_type": "code",
   "execution_count": null,
   "id": "bf7b0741-5431-48dc-86fd-45f861ce3d18",
   "metadata": {},
   "outputs": [],
   "source": []
  }
 ],
 "metadata": {
  "kernelspec": {
   "display_name": "Python 3",
   "language": "python",
   "name": "python3"
  },
  "language_info": {
   "codemirror_mode": {
    "name": "ipython",
    "version": 3
   },
   "file_extension": ".py",
   "mimetype": "text/x-python",
   "name": "python",
   "nbconvert_exporter": "python",
   "pygments_lexer": "ipython3",
   "version": "3.8.8"
  }
 },
 "nbformat": 4,
 "nbformat_minor": 5
}
