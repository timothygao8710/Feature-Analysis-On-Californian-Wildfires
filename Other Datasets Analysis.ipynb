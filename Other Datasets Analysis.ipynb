{
 "cells": [
  {
   "cell_type": "code",
   "execution_count": 2,
   "id": "31d66be9",
   "metadata": {},
   "outputs": [],
   "source": [
    "import pandas as pd\n",
    "import matplotlib.pyplot as plt\n",
    "import numpy as np"
   ]
  },
  {
   "cell_type": "code",
   "execution_count": 4,
   "id": "a1c61392",
   "metadata": {},
   "outputs": [
    {
     "name": "stdout",
     "output_type": "stream",
     "text": [
      "1636\n",
      "   AcresBurned  Active                                          AdminUnit  \\\n",
      "0     257314.0   False  Stanislaus National Forest/Yosemite National Park   \n",
      "1      30274.0   False  USFS Angeles National Forest/Los Angeles Count...   \n",
      "2      27531.0   False  CAL FIRE Riverside Unit / San Bernardino Natio...   \n",
      "3      27440.0   False                              Tahoe National Forest   \n",
      "4      24251.0   False                       Ventura County Fire/CAL FIRE   \n",
      "\n",
      "   AirTankers  ArchiveYear  CalFireIncident  \\\n",
      "0         NaN         2013             True   \n",
      "1         NaN         2013             True   \n",
      "2         NaN         2013             True   \n",
      "3         NaN         2013            False   \n",
      "4         NaN         2013             True   \n",
      "\n",
      "                            CanonicalUrl  \\\n",
      "0         /incidents/2013/8/17/rim-fire/   \n",
      "1  /incidents/2013/5/30/powerhouse-fire/   \n",
      "2    /incidents/2013/7/15/mountain-fire/   \n",
      "3    /incidents/2013/8/10/american-fire/   \n",
      "4      /incidents/2013/5/2/springs-fire/   \n",
      "\n",
      "                                  ConditionStatement ControlStatement  \\\n",
      "0                                                NaN              NaN   \n",
      "1                                                NaN              NaN   \n",
      "2                                                NaN              NaN   \n",
      "3                                                NaN              NaN   \n",
      "4  Acreage has been reduced based upon more accur...              NaN   \n",
      "\n",
      "      Counties  ...                                     SearchKeywords  \\\n",
      "0     Tuolumne  ...  Rim Fire, Stanislaus National Forest, Yosemite...   \n",
      "1  Los Angeles  ...  Powerhouse Fire, May 2013, June 2013, Angeles ...   \n",
      "2    Riverside  ...  Mountain Fire, July 2013, Highway 243, Highway...   \n",
      "3       Placer  ...  American Fire, August 2013, Deadwood Ridge, Fo...   \n",
      "4      Ventura  ...  Springs Fire, May 2013, Highway 101, Camarillo...   \n",
      "\n",
      "                Started     Status  StructuresDamaged StructuresDestroyed  \\\n",
      "0  2013-08-17T15:25:00Z  Finalized                NaN                 NaN   \n",
      "1  2013-05-30T15:28:00Z  Finalized                NaN                 NaN   \n",
      "2  2013-07-15T13:43:00Z  Finalized                NaN                 NaN   \n",
      "3  2013-08-10T16:30:00Z  Finalized                NaN                 NaN   \n",
      "4  2013-05-02T07:01:00Z  Finalized                6.0                10.0   \n",
      "\n",
      "   StructuresEvacuated  StructuresThreatened  \\\n",
      "0                  NaN                   NaN   \n",
      "1                  NaN                   NaN   \n",
      "2                  NaN                   NaN   \n",
      "3                  NaN                   NaN   \n",
      "4                  NaN                   NaN   \n",
      "\n",
      "                               UniqueId               Updated  WaterTenders  \n",
      "0  5fb18d4d-213f-4d83-a179-daaf11939e78  2013-09-06T18:30:00Z           NaN  \n",
      "1  bf37805e-1cc2-4208-9972-753e47874c87  2013-06-08T18:30:00Z           NaN  \n",
      "2  a3149fec-4d48-427c-8b2c-59e8b79d59db  2013-07-30T18:00:00Z           NaN  \n",
      "3  8213f5c7-34fa-403b-a4bc-da2ace6e6625  2013-08-30T08:00:00Z           NaN  \n",
      "4  46731fb8-3350-4920-bdf7-910ac0eb715c  2013-05-11T06:30:00Z          11.0  \n",
      "\n",
      "[5 rows x 40 columns]\n",
      "Index(['AcresBurned', 'Active', 'AdminUnit', 'AirTankers', 'ArchiveYear',\n",
      "       'CalFireIncident', 'CanonicalUrl', 'ConditionStatement',\n",
      "       'ControlStatement', 'Counties', 'CountyIds', 'CrewsInvolved', 'Dozers',\n",
      "       'Engines', 'Extinguished', 'Fatalities', 'Featured', 'Final',\n",
      "       'FuelType', 'Helicopters', 'Injuries', 'Latitude', 'Location',\n",
      "       'Longitude', 'MajorIncident', 'Name', 'PercentContained',\n",
      "       'PersonnelInvolved', 'Public', 'SearchDescription', 'SearchKeywords',\n",
      "       'Started', 'Status', 'StructuresDamaged', 'StructuresDestroyed',\n",
      "       'StructuresEvacuated', 'StructuresThreatened', 'UniqueId', 'Updated',\n",
      "       'WaterTenders'],\n",
      "      dtype='object')\n"
     ]
    }
   ],
   "source": [
    "calfires = pd.read_csv('2kCalFires.csv')\n",
    "print(len(calfires))\n",
    "print(calfires.head())\n",
    "print(calfires.columns)"
   ]
  },
  {
   "cell_type": "code",
   "execution_count": 84,
   "id": "fe051977",
   "metadata": {},
   "outputs": [],
   "source": [
    "def ee_array_to_df(arr, list_of_bands):\n",
    "    \"\"\"Transforms client-side ee.Image.getRegion array to pandas.DataFrame.\"\"\"\n",
    "    df = pd.DataFrame(arr)\n",
    "\n",
    "    # Rearrange the header.\n",
    "    headers = df.iloc[0]\n",
    "    df = pd.DataFrame(df.values[1:], columns=headers)\n",
    "\n",
    "    # Remove rows without data inside.\n",
    "#     df = df[['longitude', 'latitude', 'time', *list_of_bands]].dropna()\n",
    "    print(len(df))\n",
    "    # Convert the data to numeric values.\n",
    "    for band in list_of_bands:\n",
    "        df[band] = pd.to_numeric(df[band], errors='coerce')\n",
    "\n",
    "    # Convert the time field into a datetime.\n",
    "    df['datetime'] = pd.to_datetime(df['time'], unit='ms')\n",
    "\n",
    "    # Keep the columns of interest.\n",
    "    df = df[['time','datetime',  *list_of_bands]]\n",
    "\n",
    "    return df"
   ]
  },
  {
   "cell_type": "code",
   "execution_count": 86,
   "id": "da508ae7",
   "metadata": {},
   "outputs": [],
   "source": [
    "import datetime\n",
    "import ee"
   ]
  },
  {
   "cell_type": "code",
   "execution_count": 87,
   "id": "15336ea7",
   "metadata": {},
   "outputs": [
    {
     "data": {
      "text/html": [
       "<p>To authorize access needed by Earth Engine, open the following\n",
       "        URL in a web browser and follow the instructions:</p>\n",
       "        <p><a href=https://code.earthengine.google.com/client-auth?scopes=https%3A//www.googleapis.com/auth/earthengine%20https%3A//www.googleapis.com/auth/devstorage.full_control&request_id=I5GlvuFa8bI-DcJiGSGcfjunbYylMmgsV9GrYPim32E&tc=wqviTnJEiqFLU_Vo1KWQesDW0NoEHqqAPSFFJ6GMdpM&cc=yIVAMdrINwj9GORAdfT5TnKRZ93zircYmvDmQ2jIFE4>https://code.earthengine.google.com/client-auth?scopes=https%3A//www.googleapis.com/auth/earthengine%20https%3A//www.googleapis.com/auth/devstorage.full_control&request_id=I5GlvuFa8bI-DcJiGSGcfjunbYylMmgsV9GrYPim32E&tc=wqviTnJEiqFLU_Vo1KWQesDW0NoEHqqAPSFFJ6GMdpM&cc=yIVAMdrINwj9GORAdfT5TnKRZ93zircYmvDmQ2jIFE4</a></p>\n",
       "        <p>The authorization workflow will generate a code, which you\n",
       "        should paste in the box below</p>\n",
       "        "
      ],
      "text/plain": [
       "<IPython.core.display.HTML object>"
      ]
     },
     "metadata": {},
     "output_type": "display_data"
    },
    {
     "name": "stdout",
     "output_type": "stream",
     "text": [
      "Enter verification code: 4/1AX4XfWiknfddivboBNRpeNh9mOy2JRHnBI1dzneF3rpq0eyiwp_pVbiZ_kQ\n",
      "\n",
      "Successfully saved authorization token.\n"
     ]
    }
   ],
   "source": [
    "ee.Authenticate()\n",
    "ee.Initialize()"
   ]
  },
  {
   "cell_type": "code",
   "execution_count": 242,
   "id": "f21b93bf",
   "metadata": {},
   "outputs": [],
   "source": [
    "i_date = '2020-03-05'\n",
    "f_date = '2020-03-06'\n",
    "NDVI = ee.ImageCollection('MODIS/006/MOD13A1').filter(ee.Filter.date(i_date, f_date));"
   ]
  },
  {
   "cell_type": "code",
   "execution_count": 243,
   "id": "1565131a",
   "metadata": {},
   "outputs": [],
   "source": [
    "# u_lon = 4.8148\n",
    "# u_lat = 45.7758\n",
    "# u_poi = ee.Geometry.Point(u_lon, u_lat)\n",
    "\n",
    "u_lon = 5.175964\n",
    "u_lat = 45.574064\n",
    "u_poi = ee.Geometry.Point(u_lon, u_lat)"
   ]
  },
  {
   "cell_type": "code",
   "execution_count": 244,
   "id": "aeb8b9a1",
   "metadata": {},
   "outputs": [
    {
     "name": "stdout",
     "output_type": "stream",
     "text": [
      "[['id', 'longitude', 'latitude', 'time', 'NDVI', 'EVI', 'DetailedQA', 'sur_refl_b01', 'sur_refl_b02', 'sur_refl_b03', 'sur_refl_b07', 'ViewZenith', 'SolarZenith', 'RelativeAzimuth', 'DayOfYear', 'SummaryQA'], ['2020_03_05', 4.940734062657368, 45.364921848035834, 1583366400000, 6102, 3581, 2189, 635, 2651, 338, 1139, 1379, 4917, 2057, 71, 1]]\n"
     ]
    }
   ],
   "source": [
    "scale = 100000\n",
    "test = NDVI.getRegion(u_poi, scale).getInfo()\n",
    "print(test)"
   ]
  },
  {
   "cell_type": "code",
   "execution_count": 240,
   "id": "b4e40b57",
   "metadata": {},
   "outputs": [
    {
     "name": "stdout",
     "output_type": "stream",
     "text": [
      "1\n"
     ]
    }
   ],
   "source": [
    "df = ee_array_to_df(test,['NDVI', 'EVI'])"
   ]
  },
  {
   "cell_type": "code",
   "execution_count": 241,
   "id": "186c1fa0",
   "metadata": {},
   "outputs": [
    {
     "name": "stdout",
     "output_type": "stream",
     "text": [
      "6102\n"
     ]
    }
   ],
   "source": [
    "print(df['NDVI'][0])"
   ]
  },
  {
   "cell_type": "code",
   "execution_count": null,
   "id": "05427077",
   "metadata": {},
   "outputs": [],
   "source": [
    "4065 1930\n",
    "1000 - 3193\n",
    "10000 - 3268\n",
    "100000 - 6102\n",
    "1000000 - 5570"
   ]
  },
  {
   "cell_type": "code",
   "execution_count": 79,
   "id": "02feacd2",
   "metadata": {},
   "outputs": [],
   "source": []
  },
  {
   "cell_type": "code",
   "execution_count": 80,
   "id": "340b62ec",
   "metadata": {},
   "outputs": [
    {
     "name": "stdout",
     "output_type": "stream",
     "text": [
      "0           time   datetime  Fpar\n",
      "0  1025740800000 2002-07-04   NaN\n",
      "1  1026086400000 2002-07-08   NaN\n",
      "2  1026432000000 2002-07-12   NaN\n",
      "3  1026777600000 2002-07-16   NaN\n",
      "4  1027123200000 2002-07-20   NaN\n"
     ]
    }
   ],
   "source": [
    "print(df.head())"
   ]
  },
  {
   "cell_type": "code",
   "execution_count": null,
   "id": "07fa209c",
   "metadata": {},
   "outputs": [],
   "source": []
  }
 ],
 "metadata": {
  "kernelspec": {
   "display_name": "Python 3",
   "language": "python",
   "name": "python3"
  },
  "language_info": {
   "codemirror_mode": {
    "name": "ipython",
    "version": 3
   },
   "file_extension": ".py",
   "mimetype": "text/x-python",
   "name": "python",
   "nbconvert_exporter": "python",
   "pygments_lexer": "ipython3",
   "version": "3.8.8"
  }
 },
 "nbformat": 4,
 "nbformat_minor": 5
}
