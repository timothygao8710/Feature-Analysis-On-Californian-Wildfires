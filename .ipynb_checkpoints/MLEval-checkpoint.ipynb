{
 "cells": [
  {
   "cell_type": "code",
   "execution_count": 4,
   "id": "63ed5b0a-8f8a-4ef3-b658-361f823a05f9",
   "metadata": {},
   "outputs": [],
   "source": [
    "import pandas as pd\n",
    "import numpy as np\n",
    "from sklearn.model_selection import train_test_split\n",
    "from sklearn.metrics import accuracy_score, precision_score, recall_score\n",
    "from sklearn.metrics import confusion_matrix\n",
    "from sklearn.metrics import PrecisionRecallDisplay\n",
    "from sklearn.metrics import classification_report\n",
    "from sklearn.metrics import roc_curve"
   ]
  },
  {
   "cell_type": "code",
   "execution_count": 5,
   "id": "590e46dc-5352-41b0-9c6a-9fa4b40df337",
   "metadata": {},
   "outputs": [
    {
     "name": "stdout",
     "output_type": "stream",
     "text": [
      "   ALLSKY_SFC_LW_DWN  PRECTOT     PS   QV2M  RH2M  SRF_ALB  T10M  T10M_MAX  \\\n",
      "0               5.87     3.13  19.25  10.63  4.32    28.10  0.49      2.06   \n",
      "1               1.38     1.81  28.12  11.24  0.98    18.91  0.00      0.46   \n",
      "2               3.09     4.40  22.81  17.17  2.47    32.38  1.65      2.57   \n",
      "3               3.05     5.91  89.62   4.05  2.06    16.52  3.51      4.33   \n",
      "4               3.32     1.95  30.00   7.81  0.95    15.08  0.20      0.63   \n",
      "\n",
      "   T10M_MIN  T10M_RANGE  ...  TROPQ  TROPT  TOA_SW_DNI  TOA_SW_DWN  \\\n",
      "0      0.88        4.81  ...   0.01 -68.68       17.52        8.81   \n",
      "1      0.93        0.98  ...   0.01 -61.99       17.45        8.71   \n",
      "2      3.45        4.12  ...   0.01 -67.51       17.43        9.15   \n",
      "3      4.73        5.57  ...   0.01 -70.45       18.62       10.02   \n",
      "4      0.30        1.15  ...   0.02 -58.15       16.20        8.23   \n",
      "\n",
      "   CLRSKY_SFC_PAR_TOT  EVPTRNS  PBLTOP  Longitude  Latitude  Fire  \n",
      "0              116.92      0.0   81.98   -116.700    33.862     1  \n",
      "1               83.10      0.0   86.33   -123.000    39.855     1  \n",
      "2              119.66      0.0   76.73   -121.473    36.068     1  \n",
      "3              129.61      0.0   98.29   -121.608    36.151     1  \n",
      "4              100.30      0.0   74.84   -119.435    37.286     1  \n",
      "\n",
      "[5 rows x 59 columns]\n",
      "Index(['ALLSKY_SFC_LW_DWN', 'PRECTOT', 'PS', 'QV2M', 'RH2M', 'SRF_ALB', 'T10M',\n",
      "       'T10M_MAX', 'T10M_MIN', 'T10M_RANGE', 'TQV', 'TS', 'WS10M', 'WS10M_MAX',\n",
      "       'WS10M_MIN', 'WS10M_RANGE', 'WS2M', 'WS2M_MAX', 'WS2M_MIN',\n",
      "       'WS2M_RANGE', 'U10M', 'V10M', 'AIRMASS', 'TS_MAX', 'TS_MIN', 'TS_RANGE',\n",
      "       'T2MWET', 'DIRECT_ILLUMINANCE', 'DIFFUSE_ILLUMINANCE', 'PW',\n",
      "       'ALLSKY_SFC_UV_INDEX', 'GWETPROF', 'SNODP', 'GWETROOT', 'SLP', 'RHOA',\n",
      "       'Z0M', 'GWETTOP', 'TO3', 'T2M', 'T2MDEW', 'T2M_RANGE', 'T2M_MAX',\n",
      "       'T2M_MIN', 'DIFF', 'DNR', 'ALLSKY_SFC_UVA', 'ALLSKY_SFC_UVB', 'TROPPB',\n",
      "       'TROPQ', 'TROPT', 'TOA_SW_DNI', 'TOA_SW_DWN', 'CLRSKY_SFC_PAR_TOT',\n",
      "       'EVPTRNS', 'PBLTOP', 'Longitude', 'Latitude', 'Fire'],\n",
      "      dtype='object')\n"
     ]
    }
   ],
   "source": [
    "fires = pd.read_csv('4Gridded_Small_Fires.csv')\n",
    "#Small dataset with tempFires appaerntly worse off\n",
    "\n",
    "fires = fires.drop(['Unnamed: 0', 'Datetime', 'YEAR', 'MO', 'DY'], axis = 1)\n",
    "print(fires.head())\n",
    "print(fires.columns)"
   ]
  },
  {
   "cell_type": "code",
   "execution_count": 6,
   "id": "a214d61c-2897-49eb-a916-f1bfb4db3bc9",
   "metadata": {},
   "outputs": [
    {
     "name": "stdout",
     "output_type": "stream",
     "text": [
      "[[ 1.75233007 -0.24319472  1.23891668 ...  0.16936249  1.42145985\n",
      "  -1.79098315]\n",
      " [-0.72878601 -0.5085162   0.56413798 ...  0.30046165 -0.94972795\n",
      "   0.52776686]\n",
      " [-0.72539465  0.23554384 -0.96907893 ... -1.68224426  0.94367542\n",
      "  -0.40945514]\n",
      " ...\n",
      " [ 1.18963627 -0.42568177  1.33904513 ...  0.8424283  -0.88192011\n",
      "   0.78785718]\n",
      " [ 1.53372326 -0.37087766  1.47019164 ...  2.24126989 -0.62894473\n",
      "  -0.51976931]\n",
      " [ 1.44046097 -0.32022977  1.28435541 ...  0.34371086 -1.25747119\n",
      "   1.22283582]]\n",
      "[[-0.70348649 -0.50175026 -0.94758397 ... -0.42801721  0.31723535\n",
      "   0.29278872]\n",
      " [-0.72620858 -0.50435998  1.43482017 ...  0.4667008  -1.32006304\n",
      "   1.61297129]\n",
      " [ 1.17457865 -0.33878778  0.98097708 ... -0.84699392  1.195086\n",
      "  -0.91707969]\n",
      " ...\n",
      " [-0.72837904 -0.51402561  1.41604609 ...  0.19233863 -0.928864\n",
      "   0.63539044]\n",
      " [-0.73909573 -0.42964468 -1.01152469 ... -1.86740494  0.88629956\n",
      "  -0.48120419]\n",
      " [-0.6174817  -0.50909614 -0.97751367 ...  0.26667321  0.67364376\n",
      "  -0.29586742]]\n",
      "(10247,)\n",
      "(2562,)\n"
     ]
    }
   ],
   "source": [
    "from sklearn.preprocessing import StandardScaler\n",
    "standardizer = StandardScaler()\n",
    "\n",
    "x = fires.drop(['Fire'], axis = 1)\n",
    "y = fires['Fire']\n",
    "\n",
    "x = standardizer.fit_transform(x)\n",
    "\n",
    "x_train, x_test, y_train, y_test = train_test_split(x, y, test_size=0.2, random_state=42)\n",
    "\n",
    "print(x_train)\n",
    "print(x_test)\n",
    "print(y_train.shape)\n",
    "print(y_test.shape)"
   ]
  },
  {
   "cell_type": "code",
   "execution_count": 31,
   "id": "210e05c6-f9ee-46a1-9199-b6b85c3c7127",
   "metadata": {},
   "outputs": [
    {
     "name": "stderr",
     "output_type": "stream",
     "text": [
      "/Users/gaofamily/opt/anaconda3/lib/python3.8/site-packages/sklearn/linear_model/_logistic.py:763: ConvergenceWarning: lbfgs failed to converge (status=1):\n",
      "STOP: TOTAL NO. of ITERATIONS REACHED LIMIT.\n",
      "\n",
      "Increase the number of iterations (max_iter) or scale the data as shown in:\n",
      "    https://scikit-learn.org/stable/modules/preprocessing.html\n",
      "Please also refer to the documentation for alternative solver options:\n",
      "    https://scikit-learn.org/stable/modules/linear_model.html#logistic-regression\n",
      "  n_iter_i = _check_optimize_result(\n"
     ]
    },
    {
     "name": "stdout",
     "output_type": "stream",
     "text": [
      "done with Logistic Regression\n"
     ]
    },
    {
     "name": "stderr",
     "output_type": "stream",
     "text": [
      "/Users/gaofamily/opt/anaconda3/lib/python3.8/site-packages/sklearn/svm/_base.py:985: ConvergenceWarning: Liblinear failed to converge, increase the number of iterations.\n",
      "  warnings.warn(\"Liblinear failed to converge, increase \"\n"
     ]
    },
    {
     "name": "stdout",
     "output_type": "stream",
     "text": [
      "done with Support Vector Machines\n",
      "done with Decision Trees\n",
      "done with Random Forest\n",
      "done with Bagging Decision Tree\n",
      "done with Boosting Decision Tree\n",
      "done with Naive Bayes\n",
      "done with K-Nearest Neighbor\n"
     ]
    }
   ],
   "source": [
    "models = {}\n",
    "\n",
    "# Logistic Regression\n",
    "from sklearn.linear_model import LogisticRegression\n",
    "models['Logistic Regression'] = LogisticRegression()\n",
    "\n",
    "# Support Vector Machines\n",
    "from sklearn.svm import LinearSVC\n",
    "models['Support Vector Machines'] = LinearSVC(max_iter = 5000)\n",
    "\n",
    "# Decision Trees\n",
    "from sklearn.tree import DecisionTreeClassifier\n",
    "models['Decision Trees'] = DecisionTreeClassifier()\n",
    "\n",
    "# Random Forest\n",
    "from sklearn.ensemble import RandomForestClassifier\n",
    "models['Random Forest'] = RandomForestClassifier()\n",
    "\n",
    "#Bagging Decision Tree\n",
    "from sklearn.ensemble import BaggingClassifier\n",
    "from sklearn.tree import DecisionTreeClassifier\n",
    "\n",
    "models['Bagging Decision Tree'] = BaggingClassifier(DecisionTreeClassifier(min_samples_split=10),n_estimators=1000)\n",
    "\n",
    "#Ada boost\n",
    "from sklearn.ensemble import GradientBoostingClassifier\n",
    "from sklearn.tree import DecisionTreeClassifier\n",
    "\n",
    "models['Boosting Decision Tree'] = GradientBoostingClassifier(n_estimators=5000)\n",
    "\n",
    "# Naive Bayes\n",
    "from sklearn.naive_bayes import GaussianNB\n",
    "from sklearn.preprocessing import MinMaxScaler\n",
    "from sklearn.pipeline import Pipeline\n",
    "\n",
    "models['Naive Bayes'] = Pipeline([('Normalizing',MinMaxScaler()),('GaussianNB',GaussianNB())])\n",
    "\n",
    "# K-Nearest Neighbors\n",
    "from sklearn.neighbors import KNeighborsClassifier\n",
    "models['K-Nearest Neighbor'] = KNeighborsClassifier()\n",
    "\n",
    "from sklearn.metrics import accuracy_score, precision_score, recall_score, f1_score, roc_curve, auc\n",
    "accuracy, precision, recall, fscore, AUC = {}, {}, {}, {}, {}\n",
    "\n",
    "for key in models.keys():\n",
    "    \n",
    "    # Fit the classifier model\n",
    "    models[key].fit(x_train, y_train)\n",
    "    \n",
    "    # Prediction \n",
    "    predictions = models[key].predict(x_test)\n",
    "    \n",
    "    # Calculate Accuracy, Precision and Recall Metrics\n",
    "    accuracy[key] = accuracy_score(predictions, y_test)\n",
    "    precision[key] = precision_score(predictions, y_test)\n",
    "    recall[key] = recall_score(predictions, y_test)\n",
    "    fscore[key] = f1_score(predictions, y_test, average='binary')\n",
    "    fpr, tpr, thresholds = roc_curve(predictions, y_test)\n",
    "    AUC[key] = auc(fpr, tpr)\n",
    "    \n",
    "    print(\"done with \" + key)\n",
    "    #One way of interpreting AUC is as the probability that the model ranks a random positive example more highly than a random negative example\n"
   ]
  },
  {
   "cell_type": "code",
   "execution_count": 39,
   "id": "10fc4219-0118-4b9f-8ff9-8f64ec8531f7",
   "metadata": {},
   "outputs": [
    {
     "data": {
      "text/html": [
       "<div>\n",
       "<style scoped>\n",
       "    .dataframe tbody tr th:only-of-type {\n",
       "        vertical-align: middle;\n",
       "    }\n",
       "\n",
       "    .dataframe tbody tr th {\n",
       "        vertical-align: top;\n",
       "    }\n",
       "\n",
       "    .dataframe thead th {\n",
       "        text-align: right;\n",
       "    }\n",
       "</style>\n",
       "<table border=\"1\" class=\"dataframe\">\n",
       "  <thead>\n",
       "    <tr style=\"text-align: right;\">\n",
       "      <th></th>\n",
       "      <th>Accuracy</th>\n",
       "      <th>Precision</th>\n",
       "      <th>Recall</th>\n",
       "      <th>F-Score</th>\n",
       "      <th>AUC</th>\n",
       "    </tr>\n",
       "  </thead>\n",
       "  <tbody>\n",
       "    <tr>\n",
       "      <th>Logistic Regression</th>\n",
       "      <td>0.891881</td>\n",
       "      <td>0.881481</td>\n",
       "      <td>0.864668</td>\n",
       "      <td>0.872994</td>\n",
       "      <td>0.888529</td>\n",
       "    </tr>\n",
       "    <tr>\n",
       "      <th>Support Vector Machines</th>\n",
       "      <td>0.890710</td>\n",
       "      <td>0.888889</td>\n",
       "      <td>0.857143</td>\n",
       "      <td>0.872727</td>\n",
       "      <td>0.886963</td>\n",
       "    </tr>\n",
       "    <tr>\n",
       "      <th>Decision Trees</th>\n",
       "      <td>0.931304</td>\n",
       "      <td>0.920370</td>\n",
       "      <td>0.916974</td>\n",
       "      <td>0.918669</td>\n",
       "      <td>0.929394</td>\n",
       "    </tr>\n",
       "    <tr>\n",
       "      <th>Random Forest</th>\n",
       "      <td>0.963310</td>\n",
       "      <td>0.955556</td>\n",
       "      <td>0.957328</td>\n",
       "      <td>0.956441</td>\n",
       "      <td>0.962492</td>\n",
       "    </tr>\n",
       "    <tr>\n",
       "      <th>Bagging Decision Tree</th>\n",
       "      <td>0.957455</td>\n",
       "      <td>0.951852</td>\n",
       "      <td>0.947465</td>\n",
       "      <td>0.949654</td>\n",
       "      <td>0.956129</td>\n",
       "    </tr>\n",
       "    <tr>\n",
       "      <th>Boosting Decision Tree</th>\n",
       "      <td>0.975800</td>\n",
       "      <td>0.973148</td>\n",
       "      <td>0.969557</td>\n",
       "      <td>0.971349</td>\n",
       "      <td>0.974968</td>\n",
       "    </tr>\n",
       "    <tr>\n",
       "      <th>Naive Bayes</th>\n",
       "      <td>0.829430</td>\n",
       "      <td>0.937037</td>\n",
       "      <td>0.732802</td>\n",
       "      <td>0.822430</td>\n",
       "      <td>0.837612</td>\n",
       "    </tr>\n",
       "    <tr>\n",
       "      <th>K-Nearest Neighbor</th>\n",
       "      <td>0.916472</td>\n",
       "      <td>0.920370</td>\n",
       "      <td>0.885918</td>\n",
       "      <td>0.902816</td>\n",
       "      <td>0.913098</td>\n",
       "    </tr>\n",
       "  </tbody>\n",
       "</table>\n",
       "</div>"
      ],
      "text/plain": [
       "                         Accuracy  Precision    Recall   F-Score       AUC\n",
       "Logistic Regression      0.891881   0.881481  0.864668  0.872994  0.888529\n",
       "Support Vector Machines  0.890710   0.888889  0.857143  0.872727  0.886963\n",
       "Decision Trees           0.931304   0.920370  0.916974  0.918669  0.929394\n",
       "Random Forest            0.963310   0.955556  0.957328  0.956441  0.962492\n",
       "Bagging Decision Tree    0.957455   0.951852  0.947465  0.949654  0.956129\n",
       "Boosting Decision Tree   0.975800   0.973148  0.969557  0.971349  0.974968\n",
       "Naive Bayes              0.829430   0.937037  0.732802  0.822430  0.837612\n",
       "K-Nearest Neighbor       0.916472   0.920370  0.885918  0.902816  0.913098"
      ]
     },
     "execution_count": 39,
     "metadata": {},
     "output_type": "execute_result"
    }
   ],
   "source": [
    "df_model = pd.DataFrame(index=models.keys(), columns=['Accuracy', 'Precision', 'Recall', 'F-Score', 'AUC'])\n",
    "df_model['Accuracy'] = accuracy.values()\n",
    "df_model['Precision'] = precision.values()\n",
    "df_model['Recall'] = recall.values()\n",
    "df_model['F-Score'] = fscore.values()\n",
    "df_model['AUC'] = AUC.values()\n",
    "\n",
    "df_model"
   ]
  },
  {
   "cell_type": "code",
   "execution_count": 40,
   "id": "124fae60-67e0-486b-bee0-7a83133edba5",
   "metadata": {},
   "outputs": [
    {
     "data": {
      "image/png": "[encoded data removed]",
      "text/plain": [
       "<Figure size 1440x1008 with 1 Axes>"
      ]
     },
     "metadata": {
      "needs_background": "light"
     },
     "output_type": "display_data"
    }
   ],
   "source": [
    "import matplotlib.pyplot as plt\n",
    "import seaborn as sns\n",
    "\n",
    "ax  = df_model.plot.bar(rot=45,figsize =(20, 14))\n",
    "ax.legend(ncol= len(models.keys()), bbox_to_anchor=(0, 1), loc='lower left', prop={'size': 14})\n",
    "\n",
    "# plt.tight_layout()\n",
    "plt.show()"
   ]
  },
  {
   "cell_type": "code",
   "execution_count": 25,
   "id": "2f81f94c-4ee1-400a-9474-c492a8af5c25",
   "metadata": {},
   "outputs": [
    {
     "data": {
      "text/plain": [
       "[<matplotlib.lines.Line2D at 0x7fe531105250>]"
      ]
     },
     "execution_count": 25,
     "metadata": {},
     "output_type": "execute_result"
    },
    {
     "data": {
      "image/png": "[encoded data removed]",
      "text/plain": [
       "<Figure size 432x288 with 1 Axes>"
      ]
     },
     "metadata": {
      "needs_background": "light"
     },
     "output_type": "display_data"
    }
   ],
   "source": [
    "df = pd.DataFrame()\n",
    "df['hello'] = [0,2,3,4,5,6]\n",
    "df['y'] = [1,2,7,9,10,15]\n",
    "\n",
    "plt.plot(df['hello'], df['y'])"
   ]
  },
  {
   "cell_type": "code",
   "execution_count": null,
   "id": "d9d1164d-9749-40f5-975d-6889f82a30ab",
   "metadata": {},
   "outputs": [],
   "source": []
  }
 ],
 "metadata": {
  "kernelspec": {
   "display_name": "Python 3",
   "language": "python",
   "name": "python3"
  },
  "language_info": {
   "codemirror_mode": {
    "name": "ipython",
    "version": 3
   },
   "file_extension": ".py",
   "mimetype": "text/x-python",
   "name": "python",
   "nbconvert_exporter": "python",
   "pygments_lexer": "ipython3",
   "version": "3.8.8"
  }
 },
 "nbformat": 4,
 "nbformat_minor": 5
}
