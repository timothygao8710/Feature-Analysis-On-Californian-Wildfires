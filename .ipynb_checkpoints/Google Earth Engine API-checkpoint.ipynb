{
 "cells": [
  {
   "cell_type": "code",
   "execution_count": 1,
   "id": "08a4dcf9",
   "metadata": {},
   "outputs": [],
   "source": [
    "import pandas as pd\n",
    "import matplotlib.pyplot as plt\n",
    "import numpy as np\n",
    "import datetime\n",
    "import ee\n",
    "import math\n",
    "scale = 0.02\n",
    "#Experimentally found smaller = pinpoint location"
   ]
  },
  {
   "cell_type": "code",
   "execution_count": 2,
   "id": "a61e3cde",
   "metadata": {},
   "outputs": [
    {
     "data": {
      "text/html": [
       "<p>To authorize access needed by Earth Engine, open the following\n",
       "        URL in a web browser and follow the instructions:</p>\n",
       "        <p><a href=https://code.earthengine.google.com/client-auth?scopes=https%3A//www.googleapis.com/auth/earthengine%20https%3A//www.googleapis.com/auth/devstorage.full_control&request_id=4iqQBqJ51ZOFMKvM7oJq_R61xUSy4QFV5s7rycFW3UI&tc=2gn5w05icxmtdrErVOuWfWp8ejN21IuwrfF_XZmwTcA&cc=3jU3ZzF1EnEe9b7NQwOqrSYke5upAbW8CXDJe7dOI50>https://code.earthengine.google.com/client-auth?scopes=https%3A//www.googleapis.com/auth/earthengine%20https%3A//www.googleapis.com/auth/devstorage.full_control&request_id=4iqQBqJ51ZOFMKvM7oJq_R61xUSy4QFV5s7rycFW3UI&tc=2gn5w05icxmtdrErVOuWfWp8ejN21IuwrfF_XZmwTcA&cc=3jU3ZzF1EnEe9b7NQwOqrSYke5upAbW8CXDJe7dOI50</a></p>\n",
       "        <p>The authorization workflow will generate a code, which you\n",
       "        should paste in the box below</p>\n",
       "        "
      ],
      "text/plain": [
       "<IPython.core.display.HTML object>"
      ]
     },
     "metadata": {},
     "output_type": "display_data"
    },
    {
     "name": "stdout",
     "output_type": "stream",
     "text": [
      "Enter verification code: 4/1AX4XfWhEtPivQqeL0KofsrEYu-V8Od26SQG2ya0jq0gO7VT1bV-L0RxFGCw\n",
      "\n",
      "Successfully saved authorization token.\n"
     ]
    }
   ],
   "source": [
    "ee.Authenticate()\n",
    "ee.Initialize()"
   ]
  },
  {
   "cell_type": "code",
   "execution_count": 8,
   "id": "1d493271",
   "metadata": {},
   "outputs": [
    {
     "data": {
      "text/html": [
       "<div>\n",
       "<style scoped>\n",
       "    .dataframe tbody tr th:only-of-type {\n",
       "        vertical-align: middle;\n",
       "    }\n",
       "\n",
       "    .dataframe tbody tr th {\n",
       "        vertical-align: top;\n",
       "    }\n",
       "\n",
       "    .dataframe thead th {\n",
       "        text-align: right;\n",
       "    }\n",
       "</style>\n",
       "<table border=\"1\" class=\"dataframe\">\n",
       "  <thead>\n",
       "    <tr style=\"text-align: right;\">\n",
       "      <th></th>\n",
       "      <th>Unnamed: 0</th>\n",
       "      <th>Unnamed: 0.1</th>\n",
       "      <th>FIRE_YEAR</th>\n",
       "      <th>STAT_CAUSE_DESCR</th>\n",
       "      <th>LATITUDE</th>\n",
       "      <th>LONGITUDE</th>\n",
       "      <th>STATE</th>\n",
       "      <th>DISCOVERY_DATE</th>\n",
       "      <th>FIRE_SIZE</th>\n",
       "      <th>DATE</th>\n",
       "      <th>zipcode</th>\n",
       "      <th>address</th>\n",
       "      <th>datetime</th>\n",
       "    </tr>\n",
       "  </thead>\n",
       "  <tbody>\n",
       "    <tr>\n",
       "      <th>0</th>\n",
       "      <td>0</td>\n",
       "      <td>0</td>\n",
       "      <td>2010</td>\n",
       "      <td>Equipment Use</td>\n",
       "      <td>36.766944</td>\n",
       "      <td>-121.303056</td>\n",
       "      <td>CA</td>\n",
       "      <td>2455335.5</td>\n",
       "      <td>70.0</td>\n",
       "      <td>2010-05-19</td>\n",
       "      <td>95075-9701</td>\n",
       "      <td>Saddle Association Museum, Airline Highway, Tr...</td>\n",
       "      <td>2010-05-19</td>\n",
       "    </tr>\n",
       "    <tr>\n",
       "      <th>1</th>\n",
       "      <td>1</td>\n",
       "      <td>1</td>\n",
       "      <td>2010</td>\n",
       "      <td>Miscellaneous</td>\n",
       "      <td>36.776944</td>\n",
       "      <td>-121.311111</td>\n",
       "      <td>CA</td>\n",
       "      <td>2455355.5</td>\n",
       "      <td>0.5</td>\n",
       "      <td>2010-06-08</td>\n",
       "      <td>95023</td>\n",
       "      <td>Pinnacle Hills Golf Club, 7777, Airline Highwa...</td>\n",
       "      <td>2010-06-08</td>\n",
       "    </tr>\n",
       "    <tr>\n",
       "      <th>2</th>\n",
       "      <td>2</td>\n",
       "      <td>2</td>\n",
       "      <td>2010</td>\n",
       "      <td>Miscellaneous</td>\n",
       "      <td>36.856111</td>\n",
       "      <td>-121.381111</td>\n",
       "      <td>CA</td>\n",
       "      <td>2455359.5</td>\n",
       "      <td>0.1</td>\n",
       "      <td>2010-06-12</td>\n",
       "      <td>95023</td>\n",
       "      <td>1198, Santa Ana Road, Hollister, San Benito Co...</td>\n",
       "      <td>2010-06-12</td>\n",
       "    </tr>\n",
       "    <tr>\n",
       "      <th>3</th>\n",
       "      <td>3</td>\n",
       "      <td>3</td>\n",
       "      <td>2010</td>\n",
       "      <td>Miscellaneous</td>\n",
       "      <td>36.818056</td>\n",
       "      <td>-121.391111</td>\n",
       "      <td>CA</td>\n",
       "      <td>2455361.5</td>\n",
       "      <td>0.1</td>\n",
       "      <td>2010-06-14</td>\n",
       "      <td>95023</td>\n",
       "      <td>186, Hospital Road, Hollister, San Benito Coun...</td>\n",
       "      <td>2010-06-14</td>\n",
       "    </tr>\n",
       "    <tr>\n",
       "      <th>4</th>\n",
       "      <td>4</td>\n",
       "      <td>4</td>\n",
       "      <td>2010</td>\n",
       "      <td>Miscellaneous</td>\n",
       "      <td>36.883056</td>\n",
       "      <td>-121.561944</td>\n",
       "      <td>CA</td>\n",
       "      <td>2455388.5</td>\n",
       "      <td>1.0</td>\n",
       "      <td>2010-07-11</td>\n",
       "      <td>95045-9662</td>\n",
       "      <td>Chittenden Road, River Oaks, San Benito County...</td>\n",
       "      <td>2010-07-11</td>\n",
       "    </tr>\n",
       "  </tbody>\n",
       "</table>\n",
       "</div>"
      ],
      "text/plain": [
       "   Unnamed: 0  Unnamed: 0.1  FIRE_YEAR STAT_CAUSE_DESCR   LATITUDE  \\\n",
       "0           0             0       2010    Equipment Use  36.766944   \n",
       "1           1             1       2010    Miscellaneous  36.776944   \n",
       "2           2             2       2010    Miscellaneous  36.856111   \n",
       "3           3             3       2010    Miscellaneous  36.818056   \n",
       "4           4             4       2010    Miscellaneous  36.883056   \n",
       "\n",
       "    LONGITUDE STATE  DISCOVERY_DATE  FIRE_SIZE        DATE     zipcode  \\\n",
       "0 -121.303056    CA       2455335.5       70.0  2010-05-19  95075-9701   \n",
       "1 -121.311111    CA       2455355.5        0.5  2010-06-08       95023   \n",
       "2 -121.381111    CA       2455359.5        0.1  2010-06-12       95023   \n",
       "3 -121.391111    CA       2455361.5        0.1  2010-06-14       95023   \n",
       "4 -121.561944    CA       2455388.5        1.0  2010-07-11  95045-9662   \n",
       "\n",
       "                                             address   datetime  \n",
       "0  Saddle Association Museum, Airline Highway, Tr... 2010-05-19  \n",
       "1  Pinnacle Hills Golf Club, 7777, Airline Highwa... 2010-06-08  \n",
       "2  1198, Santa Ana Road, Hollister, San Benito Co... 2010-06-12  \n",
       "3  186, Hospital Road, Hollister, San Benito Coun... 2010-06-14  \n",
       "4  Chittenden Road, River Oaks, San Benito County... 2010-07-11  "
      ]
     },
     "execution_count": 8,
     "metadata": {},
     "output_type": "execute_result"
    }
   ],
   "source": [
    "fires = pd.read_csv('20kFires.csv')\n",
    "fires['datetime'] = pd.to_datetime(fires['DISCOVERY_DATE'] - pd.Timestamp(0).to_julian_date(), unit='D')\n",
    "fires.head()"
   ]
  },
  {
   "cell_type": "code",
   "execution_count": 9,
   "id": "9b819474",
   "metadata": {},
   "outputs": [],
   "source": [
    "# marker = 0\n",
    "def ee_array_to_df(arr, list_of_bands):\n",
    "    \"\"\"Transforms client-side ee.Image.getRegion array to pandas.DataFrame.\"\"\"\n",
    "    df = pd.DataFrame(arr)\n",
    "\n",
    "    # Rearrange the header.\n",
    "    headers = df.iloc[0]\n",
    "    df = pd.DataFrame(df.values[1:], columns=headers)\n",
    "\n",
    "    # Remove rows without data inside.\n",
    "#     df = df[['longitude', 'latitude', 'time', *list_of_bands]].dropna()\n",
    "#     print(len(df))\n",
    "    # Convert the data to numeric values.\n",
    "    for band in list_of_bands:\n",
    "        df[band] = pd.to_numeric(df[band], errors='coerce')\n",
    "#     print(df)\n",
    "#     for i in df:\n",
    "#         if math.isnan(float(df[i][0])):\n",
    "#             marker = 1\n",
    "#             raise Exception(\"NaN Value detected\")\n",
    "    # Convert the time field into a datetime.\n",
    "    df['datetime'] = pd.to_datetime(df['time'], unit='ms')\n",
    "\n",
    "    # Keep the columns of interest.\n",
    "    df = df[['time','datetime',  *list_of_bands]]\n",
    "    \n",
    "    return df"
   ]
  },
  {
   "cell_type": "code",
   "execution_count": 10,
   "id": "fe45ea8a",
   "metadata": {},
   "outputs": [
    {
     "name": "stdout",
     "output_type": "stream",
     "text": [
      "['2010-05-19', '2010-05-20']\n"
     ]
    }
   ],
   "source": [
    "# a_date = datetime. date(2015, 10, 10)\n",
    "# days = datetime. timedelta(5)\n",
    "# new_date = a_date - days. Subtract 5 days from a_date.\n",
    "# print(new_date)\n",
    "\n",
    "# print(fires['datetime'][0])\n",
    "# print(type(fires['datetime'][0]))\n",
    "# #Year-Month-Date\n",
    "# a = fires['datetime'][0].strftime('%Y-%m-%d')\n",
    "# print(a)\n",
    "# print(type(a))\n",
    "#returns [i_date, f_date]\n",
    "#freq - e.g, 7 days per observation\n",
    "\n",
    "#NOTE: Its EXCLUSIVE last date\n",
    "#Data interpolation\n",
    "def getDate(dt, freq):\n",
    "#     if type(dt) != datetime:\n",
    "#         print(\"error: not datetime\")\n",
    "#     freq -= 1\n",
    "    half = int(freq/2)\n",
    "    sub = datetime.timedelta(half)\n",
    "    add = datetime.timedelta(freq - half)\n",
    "    i_d = dt - sub\n",
    "    f_d = dt + add\n",
    "    \n",
    "    i_d = i_d.strftime('%Y-%m-%d')\n",
    "    f_d = f_d.strftime('%Y-%m-%d')\n",
    "    return [i_d, f_d]\n",
    "\n",
    "test = fires['datetime'][0]\n",
    "#^ is 2010-05-19\n",
    "print(getDate(test, 1))"
   ]
  },
  {
   "cell_type": "code",
   "execution_count": null,
   "id": "f6a3867d",
   "metadata": {},
   "outputs": [],
   "source": []
  },
  {
   "cell_type": "code",
   "execution_count": 11,
   "id": "e465b144",
   "metadata": {},
   "outputs": [],
   "source": [
    "dataset = ee.ImageCollection(\"GRIDMET/DROUGHT\")\n",
    "#MODIS/061/MOD13A1-drought index-https://developers.google.com/earth-engine/datasets/catalog/GRIDMET_DROUGHT\n",
    "\n",
    "# dataset = ee.ImageCollection('MODIS/061/MOD13A1')\n",
    "#MODIS/061/MOD13A1 - NDVI - https://developers.google.com/earth-engine/datasets/catalog/MODIS_061_MOD13A1"
   ]
  },
  {
   "cell_type": "code",
   "execution_count": 12,
   "id": "5d255c4b",
   "metadata": {},
   "outputs": [
    {
     "name": "stdout",
     "output_type": "stream",
     "text": [
      "Unnamed: 0\n",
      "Unnamed: 0.1\n",
      "FIRE_YEAR\n",
      "STAT_CAUSE_DESCR\n",
      "LATITUDE\n",
      "LONGITUDE\n",
      "STATE\n",
      "DISCOVERY_DATE\n",
      "FIRE_SIZE\n",
      "DATE\n",
      "zipcode\n",
      "address\n",
      "datetime\n"
     ]
    }
   ],
   "source": [
    "for i in fires:\n",
    "    print(i)"
   ]
  },
  {
   "cell_type": "code",
   "execution_count": null,
   "id": "1dd96e94",
   "metadata": {},
   "outputs": [],
   "source": []
  },
  {
   "cell_type": "code",
   "execution_count": 13,
   "id": "1be880b5",
   "metadata": {},
   "outputs": [],
   "source": [
    "#init for NDVI\n",
    "feature_array = ['spi14d', 'spi30d', 'spi270d', 'eddi14d', 'eddi30d', 'eddi270d', 'spei14d', 'spei30d', 'spei270d', 'pdsi', 'z', 'spi1y', 'eddi1y', 'spei1y']\n",
    "res = {}\n",
    "for i in range(len(feature_array)):\n",
    "    res[feature_array[i]] = []\n",
    "\n",
    "sz = len(fires)    "
   ]
  },
  {
   "cell_type": "code",
   "execution_count": 14,
   "id": "eec3e8be",
   "metadata": {},
   "outputs": [
    {
     "name": "stdout",
     "output_type": "stream",
     "text": [
      "more than one satellite entry for date range\n"
     ]
    },
    {
     "data": {
      "text/html": [
       "<div>\n",
       "<style scoped>\n",
       "    .dataframe tbody tr th:only-of-type {\n",
       "        vertical-align: middle;\n",
       "    }\n",
       "\n",
       "    .dataframe tbody tr th {\n",
       "        vertical-align: top;\n",
       "    }\n",
       "\n",
       "    .dataframe thead th {\n",
       "        text-align: right;\n",
       "    }\n",
       "</style>\n",
       "<table border=\"1\" class=\"dataframe\">\n",
       "  <thead>\n",
       "    <tr style=\"text-align: right;\">\n",
       "      <th></th>\n",
       "      <th>time</th>\n",
       "      <th>datetime</th>\n",
       "      <th>spi14d</th>\n",
       "      <th>spi30d</th>\n",
       "      <th>spi270d</th>\n",
       "      <th>eddi14d</th>\n",
       "      <th>eddi30d</th>\n",
       "      <th>eddi270d</th>\n",
       "      <th>spei14d</th>\n",
       "      <th>spei30d</th>\n",
       "      <th>spei270d</th>\n",
       "      <th>pdsi</th>\n",
       "      <th>z</th>\n",
       "      <th>spi1y</th>\n",
       "      <th>eddi1y</th>\n",
       "      <th>spei1y</th>\n",
       "    </tr>\n",
       "  </thead>\n",
       "  <tbody>\n",
       "    <tr>\n",
       "      <th>0</th>\n",
       "      <td>1312351200000</td>\n",
       "      <td>2011-08-03 06:00:00</td>\n",
       "      <td>-0.03</td>\n",
       "      <td>0.90</td>\n",
       "      <td>0.54</td>\n",
       "      <td>1.01</td>\n",
       "      <td>-1.01</td>\n",
       "      <td>-0.46</td>\n",
       "      <td>-0.80</td>\n",
       "      <td>0.9</td>\n",
       "      <td>0.47</td>\n",
       "      <td>NaN</td>\n",
       "      <td>NaN</td>\n",
       "      <td>0.71</td>\n",
       "      <td>-0.54</td>\n",
       "      <td>0.80</td>\n",
       "    </tr>\n",
       "    <tr>\n",
       "      <th>1</th>\n",
       "      <td>1312783200000</td>\n",
       "      <td>2011-08-08 06:00:00</td>\n",
       "      <td>0.24</td>\n",
       "      <td>0.90</td>\n",
       "      <td>0.47</td>\n",
       "      <td>0.54</td>\n",
       "      <td>-1.13</td>\n",
       "      <td>-0.39</td>\n",
       "      <td>-0.39</td>\n",
       "      <td>0.8</td>\n",
       "      <td>0.47</td>\n",
       "      <td>NaN</td>\n",
       "      <td>NaN</td>\n",
       "      <td>0.71</td>\n",
       "      <td>-0.54</td>\n",
       "      <td>0.80</td>\n",
       "    </tr>\n",
       "    <tr>\n",
       "      <th>2</th>\n",
       "      <td>1313215200000</td>\n",
       "      <td>2011-08-13 06:00:00</td>\n",
       "      <td>0.24</td>\n",
       "      <td>1.01</td>\n",
       "      <td>0.47</td>\n",
       "      <td>0.24</td>\n",
       "      <td>-0.80</td>\n",
       "      <td>-0.39</td>\n",
       "      <td>-0.46</td>\n",
       "      <td>0.8</td>\n",
       "      <td>0.47</td>\n",
       "      <td>NaN</td>\n",
       "      <td>NaN</td>\n",
       "      <td>0.71</td>\n",
       "      <td>-0.54</td>\n",
       "      <td>0.71</td>\n",
       "    </tr>\n",
       "  </tbody>\n",
       "</table>\n",
       "</div>"
      ],
      "text/plain": [
       "0           time            datetime  spi14d  spi30d  spi270d  eddi14d  \\\n",
       "0  1312351200000 2011-08-03 06:00:00   -0.03    0.90     0.54     1.01   \n",
       "1  1312783200000 2011-08-08 06:00:00    0.24    0.90     0.47     0.54   \n",
       "2  1313215200000 2011-08-13 06:00:00    0.24    1.01     0.47     0.24   \n",
       "\n",
       "0  eddi30d  eddi270d  spei14d  spei30d  spei270d  pdsi   z  spi1y  eddi1y  \\\n",
       "0    -1.01     -0.46    -0.80      0.9      0.47   NaN NaN   0.71   -0.54   \n",
       "1    -1.13     -0.39    -0.39      0.8      0.47   NaN NaN   0.71   -0.54   \n",
       "2    -0.80     -0.39    -0.46      0.8      0.47   NaN NaN   0.71   -0.54   \n",
       "\n",
       "0  spei1y  \n",
       "0    0.80  \n",
       "1    0.80  \n",
       "2    0.71  "
      ]
     },
     "execution_count": 14,
     "metadata": {},
     "output_type": "execute_result"
    }
   ],
   "source": [
    "#returns df\n",
    "#i_date - string, inclusive\n",
    "#f_date - string, exclusive\n",
    "def query(i_date, f_date, lon, lat, feature_array):\n",
    "    cur = dataset.filter(ee.Filter.date(i_date, f_date))\n",
    "    pos = ee.Geometry.Point(lon, lat)\n",
    "    res = cur.getRegion(pos, scale).getInfo()\n",
    "    if(len(res) > 2):\n",
    "        print(\"more than one satellite entry for date range\")\n",
    "#     print(\"Acquire successful\")\n",
    "    df = ee_array_to_df(res,feature_array)\n",
    "    return df\n",
    "\n",
    "i_date = '2011-05-10'\n",
    "f_date = '2011-05-15'\n",
    "# test = dataset.filter(ee.Filter.date(i_date, f_date))\n",
    "u_lon = -121.30305\n",
    "u_lat = 36.76694\n",
    "test = ['spi14d', 'spi30d', 'spi270d', 'eddi14d', 'eddi30d', 'eddi270d', 'spei14d', 'spei30d', 'spei270d', 'pdsi', 'z', 'spi1y', 'eddi1y', 'spei1y']\n",
    "\n",
    "# print(query(i_date, f_date, u_lon, u_lat, test))\n",
    "#4823\t2011\tMissing/Undefined\t41.778817\t-124.2533\tCA\t2455780.5\t0.1\t2011-08-07\n",
    "i_date = '2011-08-01'\n",
    "f_date = '2011-08-15'\n",
    "# test = dataset.filter(ee.Filter.date(i_date, f_date))\n",
    "u_lon = -124.2\n",
    "u_lat = 41.7\n",
    "query(i_date, f_date, u_lon, u_lat, test)"
   ]
  },
  {
   "cell_type": "code",
   "execution_count": 15,
   "id": "279a4880",
   "metadata": {},
   "outputs": [],
   "source": [
    "#TODO: Latitude Longitude rounding...?\n",
    "all_exceptions = set()\n",
    "def helper(lon, lat, dat, daterange):\n",
    "#     print(str(lon) + \" \" + str(lat) + \" \" + str(dat) + \" \" + str(daterange))\n",
    "    try:\n",
    "        i_d, f_d = getDate(dat, daterange)\n",
    "        cur = query(i_d, f_d, lon, lat, feature_array)\n",
    "\n",
    "        for i in cur:\n",
    "            if not isinstance(cur[i][0], float):\n",
    "                continue\n",
    "            if math.isnan(float(cur[i][0])):\n",
    "                whole = helper(int(lon), int(lat), dat, daterange)\n",
    "                cur[i][0] = whole[i][0]\n",
    "\n",
    "        return cur\n",
    "    except Exception as e:\n",
    "        all_exceptions.add(e)\n",
    "        print(e)\n",
    "        print(str(lon) + \" \" + str(lat))\n",
    "        return helper(lon, lat, dat, daterange+1)\n",
    "\n",
    "    \n",
    "# u_lon = -124.2\n",
    "# u_lat = 41.7\n",
    "# print(helper(u_lon, u_lat, fires['datetime'][0], 10))"
   ]
  },
  {
   "cell_type": "code",
   "execution_count": null,
   "id": "10119845",
   "metadata": {},
   "outputs": [
    {
     "name": "stdout",
     "output_type": "stream",
     "text": [
      "done with 0\n"
     ]
    }
   ],
   "source": [
    "daterange = 5\n",
    "#Process for NDVI\n",
    "for i in range(sz):\n",
    "    df = helper(fires['LONGITUDE'][i], fires['LATITUDE'][i], fires['datetime'][i], daterange)\n",
    "    if(len(df) > 1):\n",
    "        print(\"SHOULD HAVE ALREADY PRINTED more than 1 satellite observation\")\n",
    "    for j in range(len(feature_array)):\n",
    "        res[feature_array[j]].append(df[feature_array[j]][0])\n",
    "    if i%1000 == 0:\n",
    "        print(\"done with \" + str(i))\n",
    "#     print(df)\n",
    "print(\"DONE --  comment out to make sure nothing is erased\")"
   ]
  },
  {
   "cell_type": "code",
   "execution_count": 146,
   "id": "89665d35",
   "metadata": {},
   "outputs": [
    {
     "name": "stdout",
     "output_type": "stream",
     "text": [
      "     NDVI     EVI  SolarZenith\n",
      "0  4176.0  2818.0       2254.0\n",
      "1  4039.0  2445.0       1901.0\n",
      "2  4155.0  2172.0       1911.0\n",
      "3  3013.0  2043.0       2329.0\n",
      "4  2398.0  1657.0       2452.0\n",
      "24153\n"
     ]
    }
   ],
   "source": [
    "finaldf = pd.DataFrame(res)\n",
    "print(finaldf.head())\n",
    "print(len(finaldf))"
   ]
  },
  {
   "cell_type": "code",
   "execution_count": 151,
   "id": "75654429",
   "metadata": {},
   "outputs": [],
   "source": [
    "actual = {}\n",
    "for i in range(len(feature_array)):\n",
    "    actual[feature_array[i]] = []\n",
    "# print(len(fires))\n",
    "actual['longitude'] = []\n",
    "actual['latitude'] = []\n",
    "actual['date'] = []\n",
    "idx = 1118\n",
    "while idx < len(finaldf):\n",
    "    for j in range(len(feature_array)):\n",
    "        actual[feature_array[j]].append(finaldf[feature_array[j]][idx])\n",
    "    actual['longitude'].append(fires['LONGITUDE'][idx-1118])\n",
    "    actual['latitude'].append(fires['LATITUDE'][idx-1118])\n",
    "    actual['date'].append(fires['datetime'][idx-1118])\n",
    "    idx += 1\n",
    "#     res"
   ]
  },
  {
   "cell_type": "code",
   "execution_count": 154,
   "id": "9abdd4c1",
   "metadata": {},
   "outputs": [
    {
     "name": "stdout",
     "output_type": "stream",
     "text": [
      "     NDVI     EVI  SolarZenith   longitude   latitude       date\n",
      "0  4176.0  2818.0       2254.0 -121.303056  36.766944 2010-05-19\n",
      "1  4039.0  2445.0       1901.0 -121.311111  36.776944 2010-06-08\n",
      "2  4155.0  2172.0       1911.0 -121.381111  36.856111 2010-06-12\n",
      "3  3013.0  2043.0       2329.0 -121.391111  36.818056 2010-06-14\n",
      "4  2398.0  1657.0       2452.0 -121.561944  36.883056 2010-07-11\n"
     ]
    }
   ],
   "source": [
    "other = pd.DataFrame(actual)\n",
    "print(other.head())"
   ]
  },
  {
   "cell_type": "code",
   "execution_count": 155,
   "id": "97ddf742",
   "metadata": {},
   "outputs": [],
   "source": [
    "other.to_csv('20kNDVI.csv')"
   ]
  },
  {
   "cell_type": "code",
   "execution_count": null,
   "id": "fee20bd3",
   "metadata": {},
   "outputs": [],
   "source": []
  }
 ],
 "metadata": {
  "kernelspec": {
   "display_name": "Python 3",
   "language": "python",
   "name": "python3"
  },
  "language_info": {
   "codemirror_mode": {
    "name": "ipython",
    "version": 3
   },
   "file_extension": ".py",
   "mimetype": "text/x-python",
   "name": "python",
   "nbconvert_exporter": "python",
   "pygments_lexer": "ipython3",
   "version": "3.8.8"
  }
 },
 "nbformat": 4,
 "nbformat_minor": 5
}
