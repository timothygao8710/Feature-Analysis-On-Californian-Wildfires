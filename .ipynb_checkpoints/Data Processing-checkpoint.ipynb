{
 "cells": [
  {
   "cell_type": "code",
   "execution_count": 18,
   "id": "b8bc6cc1",
   "metadata": {},
   "outputs": [],
   "source": [
    "import requests\n",
    "import pandas as pd\n",
    "import json\n",
    "import numpy as np\n",
    "from datetime import datetime\n",
    "import sqlite3\n",
    "\n",
    "from uszipcode import SearchEngine"
   ]
  },
  {
   "cell_type": "code",
   "execution_count": 19,
   "id": "a194f9fd",
   "metadata": {},
   "outputs": [
    {
     "name": "stdout",
     "output_type": "stream",
     "text": [
      "   Unnamed: 0  FIRE_YEAR STAT_CAUSE_DESCR   LATITUDE   LONGITUDE STATE  \\\n",
      "0           0       2010    Equipment Use  36.766944 -121.303056    CA   \n",
      "1           1       2010    Miscellaneous  36.776944 -121.311111    CA   \n",
      "2           2       2010    Miscellaneous  36.856111 -121.381111    CA   \n",
      "3           3       2010    Miscellaneous  36.818056 -121.391111    CA   \n",
      "4           4       2010    Miscellaneous  36.883056 -121.561944    CA   \n",
      "\n",
      "   DISCOVERY_DATE  FIRE_SIZE        DATE      zipcode  \\\n",
      "0       2455335.5       70.0  2010-05-19  95075-9701,   \n",
      "1       2455355.5        0.5  2010-06-08       95023,   \n",
      "2       2455359.5        0.1  2010-06-12       95023,   \n",
      "3       2455361.5        0.1  2010-06-14       95023,   \n",
      "4       2455388.5        1.0  2010-07-11  95045-9662,   \n",
      "\n",
      "                                             address  \n",
      "0  Saddle Association Museum, Airline Highway, Tr...  \n",
      "1  Pinnacle Hills Golf Club, 7777, Airline Highwa...  \n",
      "2  1198, Santa Ana Road, Hollister, San Benito Co...  \n",
      "3  186, Hospital Road, Hollister, San Benito Coun...  \n",
      "4  Chittenden Road, River Oaks, San Benito County...  \n",
      "31858\n"
     ]
    }
   ],
   "source": [
    "df = pd.read_csv('mod_CA2010Fires.csv')\n",
    "batcha = pd.read_csv('nasapowerbatch1.csv')\n",
    "batchb = pd.read_csv('nasapowerbatch2.csv')\n",
    "df['DATE'] = pd.to_datetime(df['DISCOVERY_DATE'] - pd.Timestamp(0).to_julian_date(), unit='D')\n",
    "print(df.head())"
   ]
  },
  {
   "cell_type": "code",
   "execution_count": 13,
   "id": "903f333c",
   "metadata": {},
   "outputs": [
    {
     "name": "stdout",
     "output_type": "stream",
     "text": [
      "   Unnamed: 0  FIRE_YEAR STAT_CAUSE_DESCR   LATITUDE   LONGITUDE STATE  \\\n",
      "0           0       2010    Equipment Use  36.766944 -121.303056    CA   \n",
      "1           1       2010    Miscellaneous  36.776944 -121.311111    CA   \n",
      "2           2       2010    Miscellaneous  36.856111 -121.381111    CA   \n",
      "3           3       2010    Miscellaneous  36.818056 -121.391111    CA   \n",
      "4           4       2010    Miscellaneous  36.883056 -121.561944    CA   \n",
      "\n",
      "   DISCOVERY_DATE  FIRE_SIZE        DATE      zipcode  \\\n",
      "0       2455335.5       70.0  2010-05-19  95075-9701,   \n",
      "1       2455355.5        0.5  2010-06-08       95023,   \n",
      "2       2455359.5        0.1  2010-06-12       95023,   \n",
      "3       2455361.5        0.1  2010-06-14       95023,   \n",
      "4       2455388.5        1.0  2010-07-11  95045-9662,   \n",
      "\n",
      "                                             address  \n",
      "0  Saddle Association Museum, Airline Highway, Tr...  \n",
      "1  Pinnacle Hills Golf Club, 7777, Airline Highwa...  \n",
      "2  1198, Santa Ana Road, Hollister, San Benito Co...  \n",
      "3  186, Hospital Road, Hollister, San Benito Coun...  \n",
      "4  Chittenden Road, River Oaks, San Benito County...  \n",
      "31858\n"
     ]
    }
   ],
   "source": [
    "drops = []\n",
    "for i in range(len(df)):\n",
    "    if df['zipcode'][i][0] < '0' or df['zipcode'][i][0] > '9':\n",
    "        drops.append(i)\n",
    "print(len(drops))"
   ]
  },
  {
   "cell_type": "code",
   "execution_count": 14,
   "id": "27482294",
   "metadata": {},
   "outputs": [],
   "source": [
    "print(len(df))\n",
    "print(len(batcha))\n",
    "print(len(batchb))\n",
    "batcha = batcha.drop(drops)\n",
    "batchb = batchb.drop(drops)\n",
    "df = df.drop(drops)\n",
    "print(len(df))\n",
    "print(len(batcha))\n",
    "print(len(batchb))"
   ]
  },
  {
   "cell_type": "code",
   "execution_count": 15,
   "id": "f5238a8c",
   "metadata": {},
   "outputs": [
    {
     "name": "stdout",
     "output_type": "stream",
     "text": [
      "   Unnamed: 0  Unnamed: 0.1                      LLstr  \\\n",
      "0           0             0  36.76694444,-121.30305555   \n",
      "1           1             1  36.77694444,-121.31111111   \n",
      "2           2             2  36.85611111,-121.38111111   \n",
      "3           3             3  36.81805555,-121.39111111   \n",
      "4           4             4  36.88305555,-121.56194444   \n",
      "\n",
      "                                             address      zipcode  \n",
      "0  Saddle Association Museum, Airline Highway, Tr...  95075-9701,  \n",
      "1  Pinnacle Hills Golf Club, 7777, Airline Highwa...       95023,  \n",
      "2  1198, Santa Ana Road, Hollister, San Benito Co...       95023,  \n",
      "3  186, Hospital Road, Hollister, San Benito Coun...       95023,  \n",
      "4  Chittenden Road, River Oaks, San Benito County...  95045-9662,  \n",
      "31858\n"
     ]
    }
   ],
   "source": [
    "df.reset_index(inplace=True, drop=True)\n",
    "batcha.reset_index(inplace=True, drop=True)\n",
    "batchb.reset_index(inplace=True, drop=True)"
   ]
  },
  {
   "cell_type": "code",
   "execution_count": 17,
   "id": "7a8e6e44",
   "metadata": {},
   "outputs": [
    {
     "name": "stdout",
     "output_type": "stream",
     "text": [
      "92508,\n",
      "92314,\n"
     ]
    }
   ],
   "source": [
    "t = [batcha, batchb]\n",
    "res = pd.concat(t, axis=1)\n",
    "print(res)"
   ]
  },
  {
   "cell_type": "code",
   "execution_count": null,
   "id": "af7897d4",
   "metadata": {},
   "outputs": [],
   "source": [
    "df.to_csv('20kFires.csv')"
   ]
  }
 ],
 "metadata": {
  "kernelspec": {
   "display_name": "Python 3",
   "language": "python",
   "name": "python3"
  },
  "language_info": {
   "codemirror_mode": {
    "name": "ipython",
    "version": 3
   },
   "file_extension": ".py",
   "mimetype": "text/x-python",
   "name": "python",
   "nbconvert_exporter": "python",
   "pygments_lexer": "ipython3",
   "version": "3.8.8"
  }
 },
 "nbformat": 4,
 "nbformat_minor": 5
}
