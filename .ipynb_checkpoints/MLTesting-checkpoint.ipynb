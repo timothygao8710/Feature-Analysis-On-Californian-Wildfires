{
 "cells": [
  {
   "cell_type": "code",
   "execution_count": 2,
   "id": "6c0edfd3-5dcb-4ba9-b936-e5202ebfa7c1",
   "metadata": {},
   "outputs": [],
   "source": [
    "import pandas as pd\n",
    "import numpy as np\n",
    "from sklearn.model_selection import train_test_split\n",
    "from sklearn.metrics import accuracy_score, precision_score, recall_score"
   ]
  },
  {
   "cell_type": "code",
   "execution_count": 3,
   "id": "8bdc2f4b-f017-4485-90eb-b46595f469b6",
   "metadata": {},
   "outputs": [
    {
     "name": "stdout",
     "output_type": "stream",
     "text": [
      "   ALLSKY_SFC_LW_DWN  PRECTOT     PS   QV2M  RH2M  SRF_ALB  T10M  T10M_MAX  \\\n",
      "0               5.87     3.13  19.25  10.63  4.32    28.10  0.49      2.06   \n",
      "1               1.38     1.81  28.12  11.24  0.98    18.91  0.00      0.46   \n",
      "2               3.09     4.40  22.81  17.17  2.47    32.38  1.65      2.57   \n",
      "3               3.05     5.91  89.62   4.05  2.06    16.52  3.51      4.33   \n",
      "4               3.32     1.95  30.00   7.81  0.95    15.08  0.20      0.63   \n",
      "\n",
      "   T10M_MIN  T10M_RANGE  ...  TROPQ  TROPT  TOA_SW_DNI  TOA_SW_DWN  \\\n",
      "0      0.88        4.81  ...   0.01 -68.68       17.52        8.81   \n",
      "1      0.93        0.98  ...   0.01 -61.99       17.45        8.71   \n",
      "2      3.45        4.12  ...   0.01 -67.51       17.43        9.15   \n",
      "3      4.73        5.57  ...   0.01 -70.45       18.62       10.02   \n",
      "4      0.30        1.15  ...   0.02 -58.15       16.20        8.23   \n",
      "\n",
      "   CLRSKY_SFC_PAR_TOT  EVPTRNS  PBLTOP  Longitude  Latitude  Fire  \n",
      "0              116.92      0.0   81.98   -116.700    33.862     1  \n",
      "1               83.10      0.0   86.33   -123.000    39.855     1  \n",
      "2              119.66      0.0   76.73   -121.473    36.068     1  \n",
      "3              129.61      0.0   98.29   -121.608    36.151     1  \n",
      "4              100.30      0.0   74.84   -119.435    37.286     1  \n",
      "\n",
      "[5 rows x 59 columns]\n",
      "Index(['ALLSKY_SFC_LW_DWN', 'PRECTOT', 'PS', 'QV2M', 'RH2M', 'SRF_ALB', 'T10M',\n",
      "       'T10M_MAX', 'T10M_MIN', 'T10M_RANGE', 'TQV', 'TS', 'WS10M', 'WS10M_MAX',\n",
      "       'WS10M_MIN', 'WS10M_RANGE', 'WS2M', 'WS2M_MAX', 'WS2M_MIN',\n",
      "       'WS2M_RANGE', 'U10M', 'V10M', 'AIRMASS', 'TS_MAX', 'TS_MIN', 'TS_RANGE',\n",
      "       'T2MWET', 'DIRECT_ILLUMINANCE', 'DIFFUSE_ILLUMINANCE', 'PW',\n",
      "       'ALLSKY_SFC_UV_INDEX', 'GWETPROF', 'SNODP', 'GWETROOT', 'SLP', 'RHOA',\n",
      "       'Z0M', 'GWETTOP', 'TO3', 'T2M', 'T2MDEW', 'T2M_RANGE', 'T2M_MAX',\n",
      "       'T2M_MIN', 'DIFF', 'DNR', 'ALLSKY_SFC_UVA', 'ALLSKY_SFC_UVB', 'TROPPB',\n",
      "       'TROPQ', 'TROPT', 'TOA_SW_DNI', 'TOA_SW_DWN', 'CLRSKY_SFC_PAR_TOT',\n",
      "       'EVPTRNS', 'PBLTOP', 'Longitude', 'Latitude', 'Fire'],\n",
      "      dtype='object')\n"
     ]
    }
   ],
   "source": [
    "fires = pd.read_csv('4Gridded_Small_Fires.csv')\n",
    "# fires = pd.read_csv('tempFires.csv')\n",
    "#Small dataset with tempFires appaerntly worse off\n",
    "\n",
    "fires = fires.drop(['Unnamed: 0', 'Datetime', 'YEAR', 'MO', 'DY'], axis = 1)\n",
    "print(fires.head())\n",
    "print(fires.columns)"
   ]
  },
  {
   "cell_type": "code",
   "execution_count": null,
   "id": "2150d79f-5a3a-434b-b9dc-c3e02d961ddb",
   "metadata": {},
   "outputs": [],
   "source": []
  },
  {
   "cell_type": "code",
   "execution_count": 4,
   "id": "88f4f26c-eb80-4dac-888c-833fc377cbb4",
   "metadata": {},
   "outputs": [
    {
     "name": "stdout",
     "output_type": "stream",
     "text": [
      "[[ 1.75233007 -0.24319472  1.23891668 ...  0.16936249  1.42145985\n",
      "  -1.79098315]\n",
      " [-0.72878601 -0.5085162   0.56413798 ...  0.30046165 -0.94972795\n",
      "   0.52776686]\n",
      " [-0.72539465  0.23554384 -0.96907893 ... -1.68224426  0.94367542\n",
      "  -0.40945514]\n",
      " ...\n",
      " [ 1.18963627 -0.42568177  1.33904513 ...  0.8424283  -0.88192011\n",
      "   0.78785718]\n",
      " [ 1.53372326 -0.37087766  1.47019164 ...  2.24126989 -0.62894473\n",
      "  -0.51976931]\n",
      " [ 1.44046097 -0.32022977  1.28435541 ...  0.34371086 -1.25747119\n",
      "   1.22283582]]\n",
      "[[-0.70348649 -0.50175026 -0.94758397 ... -0.42801721  0.31723535\n",
      "   0.29278872]\n",
      " [-0.72620858 -0.50435998  1.43482017 ...  0.4667008  -1.32006304\n",
      "   1.61297129]\n",
      " [ 1.17457865 -0.33878778  0.98097708 ... -0.84699392  1.195086\n",
      "  -0.91707969]\n",
      " ...\n",
      " [-0.72837904 -0.51402561  1.41604609 ...  0.19233863 -0.928864\n",
      "   0.63539044]\n",
      " [-0.73909573 -0.42964468 -1.01152469 ... -1.86740494  0.88629956\n",
      "  -0.48120419]\n",
      " [-0.6174817  -0.50909614 -0.97751367 ...  0.26667321  0.67364376\n",
      "  -0.29586742]]\n",
      "(10247,)\n",
      "(2562,)\n"
     ]
    }
   ],
   "source": [
    "from sklearn.preprocessing import StandardScaler\n",
    "standardizer = StandardScaler()\n",
    "\n",
    "x = fires.drop(['Fire'], axis = 1)\n",
    "y = fires['Fire']\n",
    "\n",
    "x = standardizer.fit_transform(x)\n",
    "\n",
    "x_train, x_test, y_train, y_test = train_test_split(x, y, test_size=0.2, random_state=42)\n",
    "\n",
    "print(x_train)\n",
    "print(x_test)\n",
    "print(y_train.shape)\n",
    "print(y_test.shape)"
   ]
  },
  {
   "cell_type": "code",
   "execution_count": 5,
   "id": "00dadbf8-8680-4fdd-9c25-49f85674bb19",
   "metadata": {},
   "outputs": [
    {
     "name": "stdout",
     "output_type": "stream",
     "text": [
      "train shape: (10247, 58)\n",
      "score on test: 0.834504293520687\n",
      "score on train: 0.8306821508734263\n",
      "CPU times: user 19.8 ms, sys: 24.6 ms, total: 44.4 ms\n",
      "Wall time: 17.2 ms\n"
     ]
    }
   ],
   "source": [
    "%%time\n",
    "\n",
    "from sklearn.naive_bayes import MultinomialNB\n",
    "from sklearn.preprocessing import MinMaxScaler\n",
    "from sklearn.pipeline import Pipeline\n",
    "\n",
    "p = Pipeline([('Normalizing',MinMaxScaler()),('MultinomialNB',MultinomialNB())])\n",
    "p.fit(x_train,y_train) \n",
    "\n",
    "print(\"train shape: \" + str(x_train.shape))\n",
    "print(\"score on test: \" + str(p.score(x_test, y_test)))\n",
    "print(\"score on train: \"+ str(p.score(x_train, y_train)))"
   ]
  },
  {
   "cell_type": "code",
   "execution_count": 6,
   "id": "9a89111a-a616-49aa-91ad-7fafa9ffe188",
   "metadata": {},
   "outputs": [
    {
     "name": "stdout",
     "output_type": "stream",
     "text": [
      "train shape: (10247, 58)\n",
      "score on test: 0.8918813427010148\n",
      "score on train: 0.8978237532936469\n",
      "CPU times: user 44.9 ms, sys: 166 ms, total: 211 ms\n",
      "Wall time: 1.17 s\n"
     ]
    }
   ],
   "source": [
    "%%time\n",
    "\n",
    "from sklearn.linear_model import LogisticRegression\n",
    "\n",
    "lr=LogisticRegression(solver='newton-cg', max_iter=50000, n_jobs=4)\n",
    "lr.fit(x_train, y_train)\n",
    "\n",
    "print(\"train shape: \" + str(x_train.shape))\n",
    "print(\"score on test: \" + str(lr.score(x_test, y_test)))\n",
    "print(\"score on train: \"+ str(lr.score(x_train, y_train)))"
   ]
  },
  {
   "cell_type": "code",
   "execution_count": 7,
   "id": "0fe288c7-5453-4970-867c-1e75a3903a2f",
   "metadata": {},
   "outputs": [
    {
     "name": "stdout",
     "output_type": "stream",
     "text": [
      "train shape: (10247, 58)\n",
      "score on test: 0.8817330210772834\n",
      "score on train: 0.8908948960671416\n",
      "CPU times: user 1.32 s, sys: 748 ms, total: 2.07 s\n",
      "Wall time: 14.1 s\n"
     ]
    }
   ],
   "source": [
    "%%time\n",
    "#logistic regression with stochastic gradient decent\n",
    "from sklearn.linear_model import SGDClassifier\n",
    "\n",
    "# sgd=SGDClassifier(loss='hinge', max_iter=50000)\n",
    "# p = Pipeline([('Normalizing',MinMaxScaler()),('SGDClassifier',SGDClassifier(max_iter=50000))])\n",
    "sgd=SGDClassifier(max_iter=50000, loss='log')\n",
    "sgd.fit(x_train, y_train)\n",
    "# p.fit(x_train,y_train) \n",
    "\n",
    "print(\"train shape: \" + str(x_train.shape))\n",
    "print(\"score on test: \" + str(sgd.score(x_test, y_test)))\n",
    "print(\"score on train: \"+ str(sgd.score(x_train, y_train)))"
   ]
  },
  {
   "cell_type": "code",
   "execution_count": 12,
   "id": "4d8b074a-3c53-4111-9911-47efe1b98317",
   "metadata": {},
   "outputs": [
    {
     "name": "stdout",
     "output_type": "stream",
     "text": [
      "train shape: (10247, 58)\n",
      "score on test: 0.9117876658860266\n",
      "score on train: 1.0\n",
      "CPU times: user 3.7 s, sys: 5.33 s, total: 9.04 s\n",
      "Wall time: 6.22 s\n"
     ]
    }
   ],
   "source": [
    "%%time\n",
    "#Does not feel effect of scaling\n",
    "from sklearn.neighbors import KNeighborsClassifier\n",
    "\n",
    "# p = Pipeline([('Normalizing',MinMaxScaler()),('SGDClassifier',KNeighborsClassifier(n_neighbors=6, n_jobs=-1))])\n",
    "knn = KNeighborsClassifier(n_neighbors=1, n_jobs=-1)\n",
    "knn.fit(x_train, y_train)\n",
    "# p.fit(x_train, y_train)\n",
    "\n",
    "print(\"train shape: \" + str(x_train.shape))\n",
    "print(\"score on test: \" + str(knn.score(x_test, y_test)))\n",
    "print(\"score on train: \"+ str(knn.score(x_train, y_train)))"
   ]
  },
  {
   "cell_type": "code",
   "execution_count": 13,
   "id": "9250ec59-0258-4fb3-ba36-fa2a7349db52",
   "metadata": {},
   "outputs": [
    {
     "name": "stdout",
     "output_type": "stream",
     "text": [
      "train shape: (10247, 58)\n",
      "score on test: 0.8907103825136612\n",
      "score on train: 0.8988972382160633\n",
      "CPU times: user 4.64 s, sys: 108 ms, total: 4.75 s\n",
      "Wall time: 5.11 s\n"
     ]
    }
   ],
   "source": [
    "%%time\n",
    "\n",
    "from sklearn.svm import LinearSVC\n",
    "\n",
    "svm=LinearSVC(max_iter=50000)\n",
    "svm.fit(x_train, y_train)\n",
    "\n",
    "# p = Pipeline([('Normalizing',MinMaxScaler()),('SGDClassifier',LinearSVC(C=0.0001, max_iter=50000))])\n",
    "# p.fit(x_train, y_train)\n",
    "print(\"train shape: \" + str(x_train.shape))\n",
    "print(\"score on test: \" + str(svm.score(x_test, y_test)))\n",
    "print(\"score on train: \"+ str(svm.score(x_train, y_train)))"
   ]
  },
  {
   "cell_type": "code",
   "execution_count": 10,
   "id": "98deec34-ce04-435b-a11f-05331abd5728",
   "metadata": {},
   "outputs": [
    {
     "name": "stdout",
     "output_type": "stream",
     "text": [
      "train shape: (10247, 58)\n",
      "score on test: 0.9570647931303669\n",
      "score on train: 0.9961940080023421\n",
      "CPU times: user 5min 13s, sys: 2.51 s, total: 5min 16s\n",
      "Wall time: 9min 6s\n"
     ]
    }
   ],
   "source": [
    "%%time\n",
    "\n",
    "from sklearn.ensemble import BaggingClassifier\n",
    "from sklearn.tree import DecisionTreeClassifier\n",
    "\n",
    "bg=BaggingClassifier(DecisionTreeClassifier(min_samples_split=10),n_estimators=1000)\n",
    "bg.fit(x_train, y_train)\n",
    "\n",
    "print(\"train shape: \" + str(x_train.shape))\n",
    "print(\"score on test: \" + str(bg.score(x_test, y_test)))\n",
    "print(\"score on train: \"+ str(bg.score(x_train, y_train)))"
   ]
  },
  {
   "cell_type": "code",
   "execution_count": 14,
   "id": "81bd61bc-8ef1-45b5-bc4e-cc558f8f329e",
   "metadata": {},
   "outputs": [
    {
     "name": "stdout",
     "output_type": "stream",
     "text": [
      "train shape: (10247, 58)\n",
      "score on test: 0.975800156128025\n",
      "score on train: 1.0\n",
      "CPU times: user 8min 6s, sys: 2.98 s, total: 8min 9s\n",
      "Wall time: 8min 16s\n"
     ]
    }
   ],
   "source": [
    "%%time\n",
    "\n",
    "from sklearn.ensemble import GradientBoostingClassifier\n",
    "from sklearn.tree import DecisionTreeClassifier\n",
    "\n",
    "# setting \n",
    "# min_samples_split=10\n",
    "# max_depth=4\n",
    "\n",
    "gbc = GradientBoostingClassifier(n_estimators=5000)\n",
    "gbc.fit(x_train, y_train)\n",
    "\n",
    "print(\"train shape: \" + str(x_train.shape))\n",
    "print(\"score on test: \" + str(gbc.score(x_test, y_test)))\n",
    "print(\"score on train: \"+ str(gbc.score(x_train, y_train)))"
   ]
  },
  {
   "cell_type": "code",
   "execution_count": 21,
   "id": "5f64b6c2-7b8b-4782-ae9a-6db082c0bef2",
   "metadata": {},
   "outputs": [
    {
     "name": "stdout",
     "output_type": "stream",
     "text": [
      "     K  Test Score  Train Score\n",
      "0    1    0.911788     1.000000\n",
      "1    2    0.905152     0.964673\n",
      "2    3    0.916862     0.953645\n",
      "3    4    0.913739     0.947009\n",
      "4    5    0.916472     0.940763\n",
      "5    6    0.911788     0.937152\n",
      "6    7    0.919984     0.933834\n",
      "7    8    0.916862     0.930321\n",
      "8    9    0.920375     0.928369\n",
      "9   10    0.920765     0.926417\n",
      "10  11    0.918813     0.924075\n",
      "11  12    0.918033     0.923685\n",
      "12  13    0.914910     0.922026\n",
      "13  14    0.911397     0.923197\n",
      "14  15    0.913349     0.920757\n",
      "15  16    0.912959     0.919684\n",
      "16  17    0.913349     0.917342\n",
      "17  18    0.911788     0.917049\n",
      "18  19    0.910226     0.915000\n",
      "19  20    0.910617     0.915780\n",
      "20  21    0.909446     0.912853\n",
      "21  22    0.909836     0.914316\n",
      "22  23    0.907494     0.910998\n",
      "23  24    0.907884     0.911779\n",
      "24  25    0.908665     0.907875\n",
      "25  26    0.907494     0.908949\n"
     ]
    }
   ],
   "source": [
    "knn_r_acc = []\n",
    "for i in range(1,27,1):\n",
    "    knn = KNeighborsClassifier(n_neighbors=i, n_jobs=-1)\n",
    "    knn.fit(x_train,y_train)\n",
    "    test_score = knn.score(x_test,y_test)\n",
    "    train_score = knn.score(x_train,y_train)\n",
    "    knn_r_acc.append((i, test_score ,train_score))\n",
    "df = pd.DataFrame(knn_r_acc, columns=['K','Test Score','Train Score'])\n",
    "print(df)"
   ]
  },
  {
   "cell_type": "code",
   "execution_count": 29,
   "id": "631ff818-c3d8-48eb-8c54-80f4e7f3529a",
   "metadata": {},
   "outputs": [
    {
     "data": {
      "text/plain": [
       "[<matplotlib.lines.Line2D at 0x7fe6ac750310>]"
      ]
     },
     "execution_count": 29,
     "metadata": {},
     "output_type": "execute_result"
    },
    {
     "data": {
      "image/png": "[encoded data removed]",
      "text/plain": [
       "<Figure size 432x288 with 1 Axes>"
      ]
     },
     "metadata": {
      "needs_background": "light"
     },
     "output_type": "display_data"
    }
   ],
   "source": [
    "import matplotlib.pyplot as plt\n",
    "import seaborn as sns\n",
    "\n",
    "plt.plot(df['K'], df['Test Score'])\n",
    "plt.plot(df['K'], df['Train Score'])"
   ]
  },
  {
   "cell_type": "code",
   "execution_count": null,
   "id": "2a9ca117-db17-4e48-8710-d5d3ff19d18f",
   "metadata": {},
   "outputs": [],
   "source": []
  }
 ],
 "metadata": {
  "kernelspec": {
   "display_name": "Python 3",
   "language": "python",
   "name": "python3"
  },
  "language_info": {
   "codemirror_mode": {
    "name": "ipython",
    "version": 3
   },
   "file_extension": ".py",
   "mimetype": "text/x-python",
   "name": "python",
   "nbconvert_exporter": "python",
   "pygments_lexer": "ipython3",
   "version": "3.8.8"
  }
 },
 "nbformat": 4,
 "nbformat_minor": 5
}
