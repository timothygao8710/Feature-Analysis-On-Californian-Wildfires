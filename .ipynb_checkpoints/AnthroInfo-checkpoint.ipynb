{
 "cells": [
  {
   "cell_type": "code",
   "execution_count": 61,
   "id": "634b910b",
   "metadata": {},
   "outputs": [],
   "source": [
    "import requests\n",
    "import pandas as pd\n",
    "import json\n",
    "import numpy as np\n",
    "from datetime import datetime\n",
    "import sqlite3\n",
    "\n",
    "from uszipcode import SearchEngine, ComprehensiveZipcode"
   ]
  },
  {
   "cell_type": "code",
   "execution_count": 47,
   "id": "caaaffcf",
   "metadata": {},
   "outputs": [
    {
     "name": "stdout",
     "output_type": "stream",
     "text": [
      "   Unnamed: 0  Unnamed: 0.1  FIRE_YEAR STAT_CAUSE_DESCR   LATITUDE  \\\n",
      "0           0             0       2010    Equipment Use  36.766944   \n",
      "1           1             1       2010    Miscellaneous  36.776944   \n",
      "2           2             2       2010    Miscellaneous  36.856111   \n",
      "3           3             3       2010    Miscellaneous  36.818056   \n",
      "4           4             4       2010    Miscellaneous  36.883056   \n",
      "\n",
      "    LONGITUDE STATE  DISCOVERY_DATE  FIRE_SIZE        DATE     zipcode  \\\n",
      "0 -121.303056    CA       2455335.5       70.0  2010-05-19  95075-9701   \n",
      "1 -121.311111    CA       2455355.5        0.5  2010-06-08       95023   \n",
      "2 -121.381111    CA       2455359.5        0.1  2010-06-12       95023   \n",
      "3 -121.391111    CA       2455361.5        0.1  2010-06-14       95023   \n",
      "4 -121.561944    CA       2455388.5        1.0  2010-07-11  95045-9662   \n",
      "\n",
      "                                             address  \n",
      "0  Saddle Association Museum, Airline Highway, Tr...  \n",
      "1  Pinnacle Hills Golf Club, 7777, Airline Highwa...  \n",
      "2  1198, Santa Ana Road, Hollister, San Benito Co...  \n",
      "3  186, Hospital Road, Hollister, San Benito Coun...  \n",
      "4  Chittenden Road, River Oaks, San Benito County...  \n"
     ]
    }
   ],
   "source": [
    "df = pd.read_csv('20kFires.csv')\n",
    "print(df.head())"
   ]
  },
  {
   "cell_type": "code",
   "execution_count": 74,
   "id": "c8e72a8a",
   "metadata": {},
   "outputs": [],
   "source": [
    "zips = []\n",
    "for i in range(len(df)):\n",
    "    z = df['zipcode'][i]\n",
    "    a = z.split('-')\n",
    "    zips.append(a[0])"
   ]
  },
  {
   "cell_type": "code",
   "execution_count": 65,
   "id": "0085b0ce",
   "metadata": {},
   "outputs": [],
   "source": [
    "search = SearchEngine()"
   ]
  },
  {
   "cell_type": "code",
   "execution_count": 77,
   "id": "636033cf",
   "metadata": {},
   "outputs": [
    {
     "name": "stdout",
     "output_type": "stream",
     "text": [
      "SimpleZipcode(zipcode='94588', zipcode_type='STANDARD', major_city='Pleasanton', post_office_city='Pleasanton, CA', common_city_list=['Pleasanton'], county='Alameda County', state='CA', lat=37.67, lng=-121.93, timezone='America/Los_Angeles', radius_in_miles=9.0, area_code_list='925', population=30842, population_density=945.0, land_area_in_sqmi=32.64, water_area_in_sqmi=0.0, housing_units=11263, occupied_housing_units=10935, median_home_value=641600, median_household_income=119849, bounds_west=-121.98352, bounds_east=-121.819614, bounds_north=37.846098, bounds_south=37.632432)\n",
      "Alameda County\n"
     ]
    }
   ],
   "source": [
    "z = search.by_zipcode(\"94588\")\n",
    "print(z)\n",
    "print(z.county)"
   ]
  },
  {
   "cell_type": "code",
   "execution_count": 122,
   "id": "e119de5d",
   "metadata": {},
   "outputs": [],
   "source": [
    "county = []\n",
    "pop = []\n",
    "popDensity = []\n",
    "housing = []\n",
    "occupiedHousing = []\n",
    "homeval = []\n",
    "income = []\n",
    "areaCode = []\n",
    "waterArea = []"
   ]
  },
  {
   "cell_type": "code",
   "execution_count": 123,
   "id": "ac8010a6",
   "metadata": {},
   "outputs": [
    {
     "name": "stdout",
     "output_type": "stream",
     "text": [
      "23035\n"
     ]
    }
   ],
   "source": [
    "sz = len(df)\n",
    "nons = []\n",
    "for i in range(sz):\n",
    "    z = search.by_zipcode(zips[i])\n",
    "    if z is None:\n",
    "        nons.append(z)\n",
    "        county.append(None)\n",
    "        pop.append(None)\n",
    "        popDensity.append(None)\n",
    "        housing.append(None)\n",
    "        occupiedHousing.append(None)\n",
    "        homeval.append(None)\n",
    "        income.append(None)\n",
    "        areaCode.append(None)\n",
    "        waterArea.append(None)\n",
    "        continue\n",
    "    county.append(z.county)\n",
    "    pop.append(z.population)\n",
    "    popDensity.append(z.population_density)\n",
    "    housing.append(z.housing_units)\n",
    "    occupiedHousing.append(z.occupied_housing_units)\n",
    "    homeval.append(z.median_home_value)\n",
    "    income.append(z.median_household_income)\n",
    "    t = z.area_code_list.split(',')\n",
    "    a = t[0]\n",
    "    areaCode.append(a)\n",
    "    waterArea.append(z.water_area_in_sqmi)\n",
    "#     print(a)\n",
    "print(len(pop))"
   ]
  },
  {
   "cell_type": "code",
   "execution_count": 124,
   "id": "d3b002b1",
   "metadata": {},
   "outputs": [
    {
     "name": "stdout",
     "output_type": "stream",
     "text": [
      "906\n"
     ]
    }
   ],
   "source": [
    "print(len(nons))"
   ]
  },
  {
   "cell_type": "code",
   "execution_count": 125,
   "id": "ca027128",
   "metadata": {},
   "outputs": [
    {
     "name": "stdout",
     "output_type": "stream",
     "text": [
      "23035\n",
      "23035\n",
      "23035\n"
     ]
    }
   ],
   "source": [
    "print(len(areaCode))\n",
    "print(len(pop))\n",
    "print(len(waterArea))"
   ]
  },
  {
   "cell_type": "code",
   "execution_count": 126,
   "id": "3faa9f8b",
   "metadata": {},
   "outputs": [],
   "source": [
    "#test:\n",
    "adf = pd.DataFrame()\n",
    "adf['County'] = county\n",
    "adf['Population'] = pop\n",
    "adf['PopulationDensity'] = popDensity\n",
    "adf['HousingUnits'] = housing\n",
    "adf['HousingOccupied'] = occupiedHousing\n",
    "adf['HomeValue'] = homeval\n",
    "adf['Income'] = income\n",
    "adf['AreaCode'] = areaCode\n",
    "adf['WaterArea'] = waterArea"
   ]
  },
  {
   "cell_type": "code",
   "execution_count": 127,
   "id": "38b9a9bb",
   "metadata": {},
   "outputs": [
    {
     "name": "stdout",
     "output_type": "stream",
     "text": [
      "              County  Population  PopulationDensity  HousingUnits  \\\n",
      "0  San Benito County       331.0                4.0         122.0   \n",
      "1  San Benito County     48841.0              118.0       15301.0   \n",
      "2  San Benito County     48841.0              118.0       15301.0   \n",
      "3  San Benito County     48841.0              118.0       15301.0   \n",
      "4  San Benito County      4046.0               85.0        1542.0   \n",
      "\n",
      "   HousingOccupied  HomeValue   Income AreaCode  WaterArea  \n",
      "0            114.0   317900.0  52500.0      408       0.15  \n",
      "1          14491.0   338300.0  67481.0      408       0.75  \n",
      "2          14491.0   338300.0  67481.0      408       0.75  \n",
      "3          14491.0   338300.0  67481.0      408       0.75  \n",
      "4           1408.0   384800.0  58005.0      408       0.03  \n"
     ]
    }
   ],
   "source": [
    "print(adf.head())"
   ]
  },
  {
   "cell_type": "code",
   "execution_count": 129,
   "id": "4be78c93",
   "metadata": {},
   "outputs": [],
   "source": [
    "adf.to_csv('20kHuman.csv')\n",
    "#anthropomorphic factors of wildfires"
   ]
  },
  {
   "cell_type": "code",
   "execution_count": null,
   "id": "22dadc62",
   "metadata": {},
   "outputs": [],
   "source": []
  },
  {
   "cell_type": "code",
   "execution_count": null,
   "id": "75926999",
   "metadata": {},
   "outputs": [],
   "source": []
  },
  {
   "cell_type": "code",
   "execution_count": null,
   "id": "8d0213fc",
   "metadata": {},
   "outputs": [],
   "source": [
    "asf"
   ]
  },
  {
   "cell_type": "code",
   "execution_count": null,
   "id": "03e18238",
   "metadata": {},
   "outputs": [],
   "source": []
  },
  {
   "cell_type": "code",
   "execution_count": null,
   "id": "62cee1cd",
   "metadata": {},
   "outputs": [],
   "source": []
  }
 ],
 "metadata": {
  "kernelspec": {
   "display_name": "Python 3",
   "language": "python",
   "name": "python3"
  },
  "language_info": {
   "codemirror_mode": {
    "name": "ipython",
    "version": 3
   },
   "file_extension": ".py",
   "mimetype": "text/x-python",
   "name": "python",
   "nbconvert_exporter": "python",
   "pygments_lexer": "ipython3",
   "version": "3.8.8"
  }
 },
 "nbformat": 4,
 "nbformat_minor": 5
}
