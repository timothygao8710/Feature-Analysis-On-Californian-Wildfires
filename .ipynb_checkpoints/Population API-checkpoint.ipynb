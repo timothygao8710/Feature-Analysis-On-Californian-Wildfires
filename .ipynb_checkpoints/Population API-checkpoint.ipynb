{
 "cells": [
  {
   "cell_type": "code",
   "execution_count": 3,
   "id": "5b89f830",
   "metadata": {},
   "outputs": [],
   "source": [
    "import requests\n",
    "import pandas as pd\n",
    "import json\n",
    "import numpy as np\n",
    "from datetime import datetime\n",
    "\n",
    "Key = 'bd608daa318a1fa9e9170fdf07691f9c5d711c7b'\n",
    "#From US Census data:\n",
    "\n",
    "#https://www.census.gov/data/developers/data-sets/popest-popproj/popest.html\n",
    "#https://api.census.gov/data/2019/pep/charagegroups/examples.html"
   ]
  },
  {
   "cell_type": "code",
   "execution_count": 4,
   "id": "786671b9",
   "metadata": {},
   "outputs": [
    {
     "name": "stdout",
     "output_type": "stream",
     "text": [
      "   Unnamed: 0  FIRE_YEAR STAT_CAUSE_DESCR   LATITUDE   LONGITUDE STATE  \\\n",
      "0           0       2010    Equipment Use  36.766944 -121.303056    CA   \n",
      "1           1       2010    Miscellaneous  36.776944 -121.311111    CA   \n",
      "2           2       2010    Miscellaneous  36.856111 -121.381111    CA   \n",
      "3           3       2010    Miscellaneous  36.818056 -121.391111    CA   \n",
      "4           4       2010    Miscellaneous  36.883056 -121.561944    CA   \n",
      "\n",
      "   DISCOVERY_DATE  FIRE_SIZE        DATE      zipcode  \\\n",
      "0       2455335.5       70.0  2010-05-19  95075-9701,   \n",
      "1       2455355.5        0.5  2010-06-08       95023,   \n",
      "2       2455359.5        0.1  2010-06-12       95023,   \n",
      "3       2455361.5        0.1  2010-06-14       95023,   \n",
      "4       2455388.5        1.0  2010-07-11  95045-9662,   \n",
      "\n",
      "                                             address   DATETIME  \n",
      "0  Saddle Association Museum, Airline Highway, Tr... 2010-05-19  \n",
      "1  Pinnacle Hills Golf Club, 7777, Airline Highwa... 2010-06-08  \n",
      "2  1198, Santa Ana Road, Hollister, San Benito Co... 2010-06-12  \n",
      "3  186, Hospital Road, Hollister, San Benito Coun... 2010-06-14  \n",
      "4  Chittenden Road, River Oaks, San Benito County... 2010-07-11  \n"
     ]
    }
   ],
   "source": [
    "df = pd.read_csv('mod_CA2010Fires.csv')\n",
    "df['DATETIME'] = pd.to_datetime(df['DISCOVERY_DATE'] - pd.Timestamp(0).to_julian_date(), unit='D')\n",
    "print(df.head())"
   ]
  },
  {
   "cell_type": "code",
   "execution_count": 33,
   "id": "ffd34e1d",
   "metadata": {},
   "outputs": [
    {
     "name": "stdout",
     "output_type": "stream",
     "text": [
      "https://api.census.gov/data/2019/pep/charagegroups?get=NAME,POP&for=county:001&in=state:06&key=bd608daa318a1fa9e9170fdf07691f9c5d711c7b\n"
     ]
    }
   ],
   "source": [
    "\n",
    "def generateURL(time, countycode):\n",
    "    base_url = 'https://api.census.gov/data/{YEAR}/pep/charagegroups?get=NAME,POP&for=county:{COUNTY}&in=state:06&key=bd608daa318a1fa9e9170fdf07691f9c5d711c7b'\n",
    "    api_request_url = base_url.format(YEAR=time, COUNTY=countycode)\n",
    "    return api_request_url\n",
    "print(generateURL(2019,'001'))"
   ]
  },
  {
   "cell_type": "code",
   "execution_count": 10,
   "id": "dabcb69f",
   "metadata": {},
   "outputs": [],
   "source": [
    "year = []\n",
    "sz = len(df)\n",
    "for i in range(sz):\n",
    "    s = df['DATE'][i]\n",
    "    res = s[0:4]\n",
    "    year.append(res)\n",
    "    \n",
    "df['YEAR'] = year"
   ]
  },
  {
   "cell_type": "code",
   "execution_count": 28,
   "id": "f12eb451",
   "metadata": {},
   "outputs": [
    {
     "data": {
      "text/plain": [
       "'1671329'"
      ]
     },
     "execution_count": 28,
     "metadata": {},
     "output_type": "execute_result"
    }
   ],
   "source": [
    "\n",
    "example = 'https://api.census.gov/data/2019/pep/charagegroups?get=NAME,POP&for=county:001&in=state:06&key=bd608daa318a1fa9e9170fdf07691f9c5d711c7b'\n",
    "\n",
    "# ONE_MINUTE = 60\n",
    "# MAX_CALLS_PER_MINUTE = 55\n",
    "\n",
    "# @sleep_and_retry\n",
    "# @limits(calls=MAX_CALLS_PER_MINUTE, period=ONE_MINUTE)\n",
    "def access_rate_limited_api(req_url):\n",
    "    try:\n",
    "        response = requests.get(url=req_url, verify=True, timeout=None)\n",
    "        if response.status_code != 200:\n",
    "            raise Exception('API response: {}'.format(response.status_code))\n",
    "        content = response.text\n",
    "        a = content.split(',')\n",
    "        b = a[6].split('\"')\n",
    "        return b[1]\n",
    "    except Exception:\n",
    "        print('exception with:')\n",
    "        print(req_url)\n",
    "        SLEEPTIME.sleep(101)\n",
    "        # wait = min(wait+2, 600)\n",
    "        return access_rate_limited_api(req_url)\n",
    "\n",
    "access_rate_limited_api(example)\n",
    "#Correct, according to google... Yay!"
   ]
  },
  {
   "cell_type": "code",
   "execution_count": 26,
   "id": "2ebf3f61",
   "metadata": {},
   "outputs": [
    {
     "name": "stdout",
     "output_type": "stream",
     "text": [
      "<class 'str'>\n"
     ]
    }
   ],
   "source": [
    "sz = len(df)\n",
    "for i in range(sz):\n",
    "    yr = df['YEAR'][i]\n",
    "\n",
    "    url = generateURL(yr, )\n",
    "    s = access_rate_limited_api(url)\n",
    "    vals = s.split(',')\n",
    "#     if i%100 == 0:\n",
    "    print('done: ' + str(i) + ' requests...')\n",
    "\n",
    "    for i in range(len(vals)):\n",
    "        mp[params[i]].append(vals[i])\n",
    "\n",
    "print(mp)"
   ]
  },
  {
   "cell_type": "code",
   "execution_count": null,
   "id": "fd813bb6",
   "metadata": {},
   "outputs": [],
   "source": []
  }
 ],
 "metadata": {
  "kernelspec": {
   "display_name": "Python 3",
   "language": "python",
   "name": "python3"
  },
  "language_info": {
   "codemirror_mode": {
    "name": "ipython",
    "version": 3
   },
   "file_extension": ".py",
   "mimetype": "text/x-python",
   "name": "python",
   "nbconvert_exporter": "python",
   "pygments_lexer": "ipython3",
   "version": "3.8.8"
  }
 },
 "nbformat": 4,
 "nbformat_minor": 5
}
