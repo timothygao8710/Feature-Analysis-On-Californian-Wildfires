{
 "cells": [
  {
   "cell_type": "code",
   "execution_count": 1,
   "id": "0b37047d",
   "metadata": {},
   "outputs": [],
   "source": [
    "#https://www.rdocumentation.org/packages/nasapower/versions/3.0.1/topics/parameters\n",
    "#http://rmirror.lau.edu.lb/web/packages/nasapower/nasapower.pdf\n",
    "#https://power.larc.nasa.gov/docs/tutorials/parameters/\n",
    "#Parameter Dictionary: https://power.larc.nasa.gov/#resources\n",
    "import requests\n",
    "import pandas as pd\n",
    "import json\n",
    "import numpy as np\n",
    "from datetime import datetime\n",
    "from ratelimit import limits, RateLimitException, sleep_and_retry\n",
    "from concurrent.futures import ThreadPoolExecutor as PoolExecutor\n",
    "import time as SLEEPTIME"
   ]
  },
  {
   "cell_type": "code",
   "execution_count": 2,
   "id": "697bf12f",
   "metadata": {},
   "outputs": [
    {
     "name": "stdout",
     "output_type": "stream",
     "text": [
      "   Unnamed: 0  Unnamed: 0.1  FIRE_YEAR STAT_CAUSE_DESCR   LATITUDE  \\\n",
      "0           0             0       2010    Equipment Use  36.766944   \n",
      "1           1             1       2010    Miscellaneous  36.776944   \n",
      "2           2             2       2010    Miscellaneous  36.856111   \n",
      "3           3             3       2010    Miscellaneous  36.818056   \n",
      "4           4             4       2010    Miscellaneous  36.883056   \n",
      "\n",
      "    LONGITUDE STATE  DISCOVERY_DATE  FIRE_SIZE        DATE     zipcode  \\\n",
      "0 -121.303056    CA       2455335.5       70.0  2010-05-19  95075-9701   \n",
      "1 -121.311111    CA       2455355.5        0.5  2010-06-08       95023   \n",
      "2 -121.381111    CA       2455359.5        0.1  2010-06-12       95023   \n",
      "3 -121.391111    CA       2455361.5        0.1  2010-06-14       95023   \n",
      "4 -121.561944    CA       2455388.5        1.0  2010-07-11  95045-9662   \n",
      "\n",
      "                                             address   DATETIME  \n",
      "0  Saddle Association Museum, Airline Highway, Tr... 2010-05-19  \n",
      "1  Pinnacle Hills Golf Club, 7777, Airline Highwa... 2010-06-08  \n",
      "2  1198, Santa Ana Road, Hollister, San Benito Co... 2010-06-12  \n",
      "3  186, Hospital Road, Hollister, San Benito Coun... 2010-06-14  \n",
      "4  Chittenden Road, River Oaks, San Benito County... 2010-07-11  \n"
     ]
    }
   ],
   "source": [
    "df = pd.read_csv('20kFires.csv')\n",
    "df['DATETIME'] = pd.to_datetime(df['DISCOVERY_DATE'] - pd.Timestamp(0).to_julian_date(), unit='D')\n",
    "print(df.head())\n",
    "sz = len(df.index)"
   ]
  },
  {
   "cell_type": "code",
   "execution_count": 3,
   "id": "a5276620",
   "metadata": {},
   "outputs": [
    {
     "name": "stdout",
     "output_type": "stream",
     "text": [
      "20100519\n",
      "20220606\n"
     ]
    }
   ],
   "source": [
    "testdate = '2010-05-19'\n",
    "testdatetime = datetime.now()\n",
    "#year-month-day format\n",
    "\n",
    "#Formats data string according to the proper data string NASA Powers API requirements\n",
    "def getDateString(date):\n",
    "    if isinstance(date, str):\n",
    "        res = ''\n",
    "        for i in date:\n",
    "            if i != '-':\n",
    "                res += i\n",
    "        return res\n",
    "    #we have a datetime object\n",
    "    return date.strftime(\"%Y%m%d\")\n",
    "        \n",
    "print(getDateString(testdate))\n",
    "print(getDateString(testdatetime))"
   ]
  },
  {
   "cell_type": "code",
   "execution_count": 4,
   "id": "00269ad1",
   "metadata": {},
   "outputs": [
    {
     "name": "stdout",
     "output_type": "stream",
     "text": [
      "T2M,TS,T2MWET\n"
     ]
    }
   ],
   "source": [
    "testparas = ['T2M,TS,T2MWET']\n",
    "\n",
    "#Convert array of parameters into a string with the appropriate request format as needed for the NASA Powers API\n",
    "def getParameterString(parameterArray):\n",
    "    p = ''\n",
    "    for i in parameterArray:\n",
    "        if len(p) != 0:\n",
    "            p += ','\n",
    "        p += i\n",
    "    return p\n",
    "\n",
    "print(getParameterString(testparas))"
   ]
  },
  {
   "cell_type": "code",
   "execution_count": 5,
   "id": "06d294e1",
   "metadata": {},
   "outputs": [
    {
     "name": "stdout",
     "output_type": "stream",
     "text": [
      "['T2M,TS,T2MWET']\n",
      "T2M,TS,T2MWET\n",
      "https://power.larc.nasa.gov/api/temporal/daily/point?parameters=T2M,TS,T2MWET&community=RE&longitude=-121.303056&latitude=36.766944&start=20100519&end=20100519&format=CSV\n"
     ]
    }
   ],
   "source": [
    "#Sample URL: https://power.larc.nasa.gov/api/temporal/daily/point?parameters=T2M,T2MDEW,T2MWET,TS,T2M_RANGE,T2M_MAX,T2M_MIN&community=RE&longitude=-121.303056&latitude=36.766944&start=20100608&end=20100608&format=JSON\n",
    "\n",
    "testparas = ['T2M,TS,T2MWET']\n",
    "testdate = '2010-05-19'\n",
    "testlon = -121.303056\n",
    "testlat = 36.766944\n",
    "\n",
    "#Generates NASA Powers API URL based on parameters, longitude, latitude, and date\n",
    "def generateURL(parameterArray, lon, lat, dat):\n",
    "    p = getParameterString(parameterArray)\n",
    "    d = getDateString(dat)\n",
    "    print(parameterArray)\n",
    "    print(p)\n",
    "    base_url = r\"https://power.larc.nasa.gov/api/temporal/daily/point?parameters={parameters}&community=RE&longitude={longitude}&latitude={latitude}&start={date}&end={date}&format=CSV\"\n",
    "    api_request_url = base_url.format(parameters=p, longitude=lon, latitude=lat, date=d)\n",
    "    return api_request_url\n",
    "\n",
    "print(generateURL(testparas, testlon, testlat, testdate))"
   ]
  },
  {
   "cell_type": "code",
   "execution_count": 6,
   "id": "c5413855",
   "metadata": {},
   "outputs": [],
   "source": [
    "#returns array of the desired values, given API response data\n",
    "def getVal(APIresponse):\n",
    "    lines = APIresponse.split('\\n')\n",
    "    vals = lines[len(lines)-2]\n",
    "    return vals.split(',')"
   ]
  },
  {
   "cell_type": "code",
   "execution_count": 7,
   "id": "a90986de",
   "metadata": {},
   "outputs": [
    {
     "name": "stdout",
     "output_type": "stream",
     "text": [
      "-BEGIN HEADER-\n",
      "NASA/POWER CERES/MERRA2 Native Resolution Daily Data \n",
      "Dates (month/day/year): 01/01/2015 through 01/01/2015 \n",
      "Location: Latitude  32.929   Longitude -95.77 \n",
      "Elevation from MERRA-2: Average for 0.5 x 0.625 degree lat/lon region = 145.83 meters\n",
      "The value for missing source data that cannot be computed or is outside of the sources availability range: -999 \n",
      "Parameter(s): \n",
      "T2M           MERRA-2 Temperature at 2 Meters (C) \n",
      "T2MDEW        MERRA-2 Dew/Frost Point at 2 Meters (C) \n",
      "T2MWET        MERRA-2 Wet Bulb Temperature at 2 Meters (C) \n",
      "TS            MERRA-2 Earth Skin Temperature (C) \n",
      "T2M_RANGE     MERRA-2 Temperature at 2 Meters Range (C) \n",
      "T2M_MAX       MERRA-2 Temperature at 2 Meters Maximum (C) \n",
      "T2M_MIN       MERRA-2 Temperature at 2 Meters Minimum (C) \n",
      "-END HEADER-\n",
      "YEAR,MO,DY,T2M,T2MDEW,T2MWET,TS,T2M_RANGE,T2M_MAX,T2M_MIN\n",
      "2015,1,1,2.17,0.8,1.48,2.37,2.18,3.12,0.94\n",
      "\n",
      "['2015', '1', '1', '2.17', '0.8', '1.48', '2.37', '2.18', '3.12', '0.94']\n"
     ]
    }
   ],
   "source": [
    "#function to query API\n",
    "#https://stackoverflow.com/questions/40748687/python-api-rate-limiting-how-to-limit-api-calls-globally\n",
    "example = 'https://power.larc.nasa.gov/api/temporal/daily/point?parameters=T2M,T2MDEW,T2MWET,TS,T2M_RANGE,T2M_MAX,T2M_MIN&community=RE&longitude=-95.77&latitude=32.929&start=20150101&end=20150101&format=CSV'\n",
    "\n",
    "# api_request_url = example\n",
    "# response = requests.get(url=api_request_url, verify=True, timeout=30.00)\n",
    "# content = json.loads(response.content.decode('utf-8'))\n",
    "# print(content)\n",
    "\n",
    "ONE_MINUTE = 60\n",
    "MAX_CALLS_PER_MINUTE = 55\n",
    "SleepRetryTime = 10\n",
    "\n",
    "@sleep_and_retry\n",
    "@limits(calls=MAX_CALLS_PER_MINUTE, period=ONE_MINUTE)\n",
    "def access_rate_limited_api(req_url):\n",
    "    try:\n",
    "        response = requests.get(url=req_url, verify=True, timeout=None)\n",
    "        if response.status_code != 200:\n",
    "            raise Exception('API response: {}'.format(response.status_code))\n",
    "        content = response.text\n",
    "        return content\n",
    "    except Exception:\n",
    "        print('exception with:')\n",
    "        print(req_url)\n",
    "        SLEEPTIME.sleep(SleepRetryTime)\n",
    "        # wait = min(wait+2, 600)\n",
    "        return access_rate_limited_api(req_url)\n",
    "\n",
    "print(access_rate_limited_api(example))\n",
    "print(getVal(access_rate_limited_api(example)))\n",
    "# YEAR,MO,DY,T2M,T2MDEW,T2MWET,TS,T2M_RANGE,T2M_MAX,T2M_MIN"
   ]
  },
  {
   "cell_type": "code",
   "execution_count": 8,
   "id": "777e0a97",
   "metadata": {},
   "outputs": [
    {
     "name": "stdout",
     "output_type": "stream",
     "text": [
      "20\n",
      "11\n",
      "19\n",
      "8\n"
     ]
    }
   ],
   "source": [
    "#Parameter Dictionary: https://power.larc.nasa.gov/#resources\n",
    "#windspeed use 10 meters, Temperature is 2 meters\n",
    "parametersA = ['ALLSKY_SFC_LW_DWN', 'PRECTOT', 'PS', 'QV2M', 'RH2M', 'SRF_ALB', 'T10M', 'T10M_MAX', 'T10M_MIN', 'T10M_RANGE', 'TQV', 'TS', 'WS10M', 'WS10M_MAX', 'WS10M_MIN', 'WS10M_RANGE', 'WS2M', 'WS2M_MAX', 'WS2M_MIN', 'WS2M_RANGE']\n",
    "parametersB = ['T2M','T2MDEW','T2MWET','TS','T2M_RANGE','T2M_MAX','T2M_MIN', 'DIFF', 'DNR', 'ALLSKY_SFC_UVA', 'ALLSKY_SFC_UVB']\n",
    "parametersC = ['U10M', 'V10M', 'AIRMASS', 'TS_MAX', 'TS_MIN', 'TS_RANGE', 'T2MWET', 'DIRECT_ILLUMINANCE', 'DIFFUSE_ILLUMINANCE', 'PW', 'ALLSKY_SFC_UV_INDEX', 'GWETPROF', 'SNODP', 'GWETROOT', 'SLP', 'RHOA', 'Z0M', 'GWETTOP', 'TO3']\n",
    "parametersD = ['TROPPB', 'TROPQ', 'TROPT', 'TOA_SW_DNI', 'TOA_SW_DWN', 'CLRSKY_SFC_PAR_TOT', 'EVPTRNS', 'PBLTOP']\n",
    "\n",
    "print(len(parametersA))\n",
    "print(len(parametersB))\n",
    "print(len(parametersC))\n",
    "print(len(parametersD))"
   ]
  },
  {
   "cell_type": "code",
   "execution_count": 9,
   "id": "5248f7e8",
   "metadata": {},
   "outputs": [
    {
     "name": "stdout",
     "output_type": "stream",
     "text": [
      "{'YEAR': [], 'MO': [], 'DY': [], 'TROPPB': [], 'TROPQ': [], 'TROPT': [], 'TOA_SW_DNI': [], 'TOA_SW_DWN': [], 'CLRSKY_SFC_PAR_TOT': [], 'EVPTRNS': [], 'PBLTOP': []}\n",
      "['TROPPB', 'TROPQ', 'TROPT', 'TOA_SW_DNI', 'TOA_SW_DWN', 'CLRSKY_SFC_PAR_TOT', 'EVPTRNS', 'PBLTOP']\n",
      "TROPPB,TROPQ,TROPT,TOA_SW_DNI,TOA_SW_DWN,CLRSKY_SFC_PAR_TOT,EVPTRNS,PBLTOP\n",
      "['TROPPB', 'TROPQ', 'TROPT', 'TOA_SW_DNI', 'TOA_SW_DWN', 'CLRSKY_SFC_PAR_TOT', 'EVPTRNS', 'PBLTOP']\n",
      "TROPPB,TROPQ,TROPT,TOA_SW_DNI,TOA_SW_DWN,CLRSKY_SFC_PAR_TOT,EVPTRNS,PBLTOP\n"
     ]
    },
    {
     "ename": "KeyboardInterrupt",
     "evalue": "",
     "output_type": "error",
     "traceback": [
      "\u001b[0;31m---------------------------------------------------------------------------\u001b[0m",
      "\u001b[0;31mKeyboardInterrupt\u001b[0m                         Traceback (most recent call last)",
      "\u001b[0;32m<ipython-input-9-85b569cc975f>\u001b[0m in \u001b[0;36m<module>\u001b[0;34m\u001b[0m\n\u001b[1;32m     37\u001b[0m     \u001b[0;32mreturn\u001b[0m \u001b[0mmp\u001b[0m\u001b[0;34m\u001b[0m\u001b[0;34m\u001b[0m\u001b[0m\n\u001b[1;32m     38\u001b[0m \u001b[0;34m\u001b[0m\u001b[0m\n\u001b[0;32m---> 39\u001b[0;31m \u001b[0mprocess\u001b[0m\u001b[0;34m(\u001b[0m\u001b[0mparametersD\u001b[0m\u001b[0;34m)\u001b[0m\u001b[0;34m\u001b[0m\u001b[0;34m\u001b[0m\u001b[0m\n\u001b[0m",
      "\u001b[0;32m<ipython-input-9-85b569cc975f>\u001b[0m in \u001b[0;36mprocess\u001b[0;34m(parameter)\u001b[0m\n\u001b[1;32m     33\u001b[0m         \u001b[0mprint\u001b[0m\u001b[0;34m(\u001b[0m\u001b[0mmp\u001b[0m\u001b[0;34m)\u001b[0m\u001b[0;34m\u001b[0m\u001b[0;34m\u001b[0m\u001b[0m\n\u001b[1;32m     34\u001b[0m \u001b[0;34m\u001b[0m\u001b[0m\n\u001b[0;32m---> 35\u001b[0;31m     \u001b[0mrun\u001b[0m\u001b[0;34m(\u001b[0m\u001b[0;34m)\u001b[0m\u001b[0;34m\u001b[0m\u001b[0;34m\u001b[0m\u001b[0m\n\u001b[0m\u001b[1;32m     36\u001b[0m \u001b[0;34m\u001b[0m\u001b[0m\n\u001b[1;32m     37\u001b[0m     \u001b[0;32mreturn\u001b[0m \u001b[0mmp\u001b[0m\u001b[0;34m\u001b[0m\u001b[0;34m\u001b[0m\u001b[0m\n",
      "\u001b[0;32m<ipython-input-9-85b569cc975f>\u001b[0m in \u001b[0;36mrun\u001b[0;34m()\u001b[0m\n\u001b[1;32m     19\u001b[0m             \u001b[0mtime\u001b[0m \u001b[0;34m=\u001b[0m \u001b[0mdf\u001b[0m\u001b[0;34m[\u001b[0m\u001b[0;34m'DATETIME'\u001b[0m\u001b[0;34m]\u001b[0m\u001b[0;34m[\u001b[0m\u001b[0mi\u001b[0m\u001b[0;34m]\u001b[0m\u001b[0;34m\u001b[0m\u001b[0;34m\u001b[0m\u001b[0m\n\u001b[1;32m     20\u001b[0m             \u001b[0murl\u001b[0m \u001b[0;34m=\u001b[0m \u001b[0mgenerateURL\u001b[0m\u001b[0;34m(\u001b[0m\u001b[0mparameter\u001b[0m\u001b[0;34m,\u001b[0m \u001b[0mlon\u001b[0m\u001b[0;34m,\u001b[0m \u001b[0mlat\u001b[0m\u001b[0;34m,\u001b[0m \u001b[0mtime\u001b[0m\u001b[0;34m)\u001b[0m\u001b[0;34m\u001b[0m\u001b[0;34m\u001b[0m\u001b[0m\n\u001b[0;32m---> 21\u001b[0;31m             \u001b[0ms\u001b[0m \u001b[0;34m=\u001b[0m \u001b[0maccess_rate_limited_api\u001b[0m\u001b[0;34m(\u001b[0m\u001b[0murl\u001b[0m\u001b[0;34m)\u001b[0m\u001b[0;34m\u001b[0m\u001b[0;34m\u001b[0m\u001b[0m\n\u001b[0m\u001b[1;32m     22\u001b[0m \u001b[0;31m#             print(s)\u001b[0m\u001b[0;34m\u001b[0m\u001b[0;34m\u001b[0m\u001b[0;34m\u001b[0m\u001b[0m\n\u001b[1;32m     23\u001b[0m             \u001b[0;31m#^^^ USE THIS TO GET MORE INFORMATION ON THE PARAMETERS AND MORE\u001b[0m\u001b[0;34m\u001b[0m\u001b[0;34m\u001b[0m\u001b[0;34m\u001b[0m\u001b[0m\n",
      "\u001b[0;32m~/opt/anaconda3/lib/python3.8/site-packages/ratelimit/decorators.py\u001b[0m in \u001b[0;36mwrapper\u001b[0;34m(*args, **kargs)\u001b[0m\n\u001b[1;32m    111\u001b[0m         \u001b[0;32mwhile\u001b[0m \u001b[0;32mTrue\u001b[0m\u001b[0;34m:\u001b[0m\u001b[0;34m\u001b[0m\u001b[0;34m\u001b[0m\u001b[0m\n\u001b[1;32m    112\u001b[0m             \u001b[0;32mtry\u001b[0m\u001b[0;34m:\u001b[0m\u001b[0;34m\u001b[0m\u001b[0;34m\u001b[0m\u001b[0m\n\u001b[0;32m--> 113\u001b[0;31m                 \u001b[0;32mreturn\u001b[0m \u001b[0mfunc\u001b[0m\u001b[0;34m(\u001b[0m\u001b[0;34m*\u001b[0m\u001b[0margs\u001b[0m\u001b[0;34m,\u001b[0m \u001b[0;34m**\u001b[0m\u001b[0mkargs\u001b[0m\u001b[0;34m)\u001b[0m\u001b[0;34m\u001b[0m\u001b[0;34m\u001b[0m\u001b[0m\n\u001b[0m\u001b[1;32m    114\u001b[0m             \u001b[0;32mexcept\u001b[0m \u001b[0mRateLimitException\u001b[0m \u001b[0;32mas\u001b[0m \u001b[0mexception\u001b[0m\u001b[0;34m:\u001b[0m\u001b[0;34m\u001b[0m\u001b[0;34m\u001b[0m\u001b[0m\n\u001b[1;32m    115\u001b[0m                 \u001b[0mtime\u001b[0m\u001b[0;34m.\u001b[0m\u001b[0msleep\u001b[0m\u001b[0;34m(\u001b[0m\u001b[0mexception\u001b[0m\u001b[0;34m.\u001b[0m\u001b[0mperiod_remaining\u001b[0m\u001b[0;34m)\u001b[0m\u001b[0;34m\u001b[0m\u001b[0;34m\u001b[0m\u001b[0m\n",
      "\u001b[0;32m~/opt/anaconda3/lib/python3.8/site-packages/ratelimit/decorators.py\u001b[0m in \u001b[0;36mwrapper\u001b[0;34m(*args, **kargs)\u001b[0m\n\u001b[1;32m     78\u001b[0m                     \u001b[0;32mreturn\u001b[0m\u001b[0;34m\u001b[0m\u001b[0;34m\u001b[0m\u001b[0m\n\u001b[1;32m     79\u001b[0m \u001b[0;34m\u001b[0m\u001b[0m\n\u001b[0;32m---> 80\u001b[0;31m             \u001b[0;32mreturn\u001b[0m \u001b[0mfunc\u001b[0m\u001b[0;34m(\u001b[0m\u001b[0;34m*\u001b[0m\u001b[0margs\u001b[0m\u001b[0;34m,\u001b[0m \u001b[0;34m**\u001b[0m\u001b[0mkargs\u001b[0m\u001b[0;34m)\u001b[0m\u001b[0;34m\u001b[0m\u001b[0;34m\u001b[0m\u001b[0m\n\u001b[0m\u001b[1;32m     81\u001b[0m         \u001b[0;32mreturn\u001b[0m \u001b[0mwrapper\u001b[0m\u001b[0;34m\u001b[0m\u001b[0;34m\u001b[0m\u001b[0m\n\u001b[1;32m     82\u001b[0m \u001b[0;34m\u001b[0m\u001b[0m\n",
      "\u001b[0;32m<ipython-input-7-ec58b060eb5f>\u001b[0m in \u001b[0;36maccess_rate_limited_api\u001b[0;34m(req_url)\u001b[0m\n\u001b[1;32m     16\u001b[0m \u001b[0;32mdef\u001b[0m \u001b[0maccess_rate_limited_api\u001b[0m\u001b[0;34m(\u001b[0m\u001b[0mreq_url\u001b[0m\u001b[0;34m)\u001b[0m\u001b[0;34m:\u001b[0m\u001b[0;34m\u001b[0m\u001b[0;34m\u001b[0m\u001b[0m\n\u001b[1;32m     17\u001b[0m     \u001b[0;32mtry\u001b[0m\u001b[0;34m:\u001b[0m\u001b[0;34m\u001b[0m\u001b[0;34m\u001b[0m\u001b[0m\n\u001b[0;32m---> 18\u001b[0;31m         \u001b[0mresponse\u001b[0m \u001b[0;34m=\u001b[0m \u001b[0mrequests\u001b[0m\u001b[0;34m.\u001b[0m\u001b[0mget\u001b[0m\u001b[0;34m(\u001b[0m\u001b[0murl\u001b[0m\u001b[0;34m=\u001b[0m\u001b[0mreq_url\u001b[0m\u001b[0;34m,\u001b[0m \u001b[0mverify\u001b[0m\u001b[0;34m=\u001b[0m\u001b[0;32mTrue\u001b[0m\u001b[0;34m,\u001b[0m \u001b[0mtimeout\u001b[0m\u001b[0;34m=\u001b[0m\u001b[0;32mNone\u001b[0m\u001b[0;34m)\u001b[0m\u001b[0;34m\u001b[0m\u001b[0;34m\u001b[0m\u001b[0m\n\u001b[0m\u001b[1;32m     19\u001b[0m         \u001b[0;32mif\u001b[0m \u001b[0mresponse\u001b[0m\u001b[0;34m.\u001b[0m\u001b[0mstatus_code\u001b[0m \u001b[0;34m!=\u001b[0m \u001b[0;36m200\u001b[0m\u001b[0;34m:\u001b[0m\u001b[0;34m\u001b[0m\u001b[0;34m\u001b[0m\u001b[0m\n\u001b[1;32m     20\u001b[0m             \u001b[0;32mraise\u001b[0m \u001b[0mException\u001b[0m\u001b[0;34m(\u001b[0m\u001b[0;34m'API response: {}'\u001b[0m\u001b[0;34m.\u001b[0m\u001b[0mformat\u001b[0m\u001b[0;34m(\u001b[0m\u001b[0mresponse\u001b[0m\u001b[0;34m.\u001b[0m\u001b[0mstatus_code\u001b[0m\u001b[0;34m)\u001b[0m\u001b[0;34m)\u001b[0m\u001b[0;34m\u001b[0m\u001b[0;34m\u001b[0m\u001b[0m\n",
      "\u001b[0;32m~/opt/anaconda3/lib/python3.8/site-packages/requests/api.py\u001b[0m in \u001b[0;36mget\u001b[0;34m(url, params, **kwargs)\u001b[0m\n\u001b[1;32m     74\u001b[0m \u001b[0;34m\u001b[0m\u001b[0m\n\u001b[1;32m     75\u001b[0m     \u001b[0mkwargs\u001b[0m\u001b[0;34m.\u001b[0m\u001b[0msetdefault\u001b[0m\u001b[0;34m(\u001b[0m\u001b[0;34m'allow_redirects'\u001b[0m\u001b[0;34m,\u001b[0m \u001b[0;32mTrue\u001b[0m\u001b[0;34m)\u001b[0m\u001b[0;34m\u001b[0m\u001b[0;34m\u001b[0m\u001b[0m\n\u001b[0;32m---> 76\u001b[0;31m     \u001b[0;32mreturn\u001b[0m \u001b[0mrequest\u001b[0m\u001b[0;34m(\u001b[0m\u001b[0;34m'get'\u001b[0m\u001b[0;34m,\u001b[0m \u001b[0murl\u001b[0m\u001b[0;34m,\u001b[0m \u001b[0mparams\u001b[0m\u001b[0;34m=\u001b[0m\u001b[0mparams\u001b[0m\u001b[0;34m,\u001b[0m \u001b[0;34m**\u001b[0m\u001b[0mkwargs\u001b[0m\u001b[0;34m)\u001b[0m\u001b[0;34m\u001b[0m\u001b[0;34m\u001b[0m\u001b[0m\n\u001b[0m\u001b[1;32m     77\u001b[0m \u001b[0;34m\u001b[0m\u001b[0m\n\u001b[1;32m     78\u001b[0m \u001b[0;34m\u001b[0m\u001b[0m\n",
      "\u001b[0;32m~/opt/anaconda3/lib/python3.8/site-packages/requests/api.py\u001b[0m in \u001b[0;36mrequest\u001b[0;34m(method, url, **kwargs)\u001b[0m\n\u001b[1;32m     59\u001b[0m     \u001b[0;31m# cases, and look like a memory leak in others.\u001b[0m\u001b[0;34m\u001b[0m\u001b[0;34m\u001b[0m\u001b[0;34m\u001b[0m\u001b[0m\n\u001b[1;32m     60\u001b[0m     \u001b[0;32mwith\u001b[0m \u001b[0msessions\u001b[0m\u001b[0;34m.\u001b[0m\u001b[0mSession\u001b[0m\u001b[0;34m(\u001b[0m\u001b[0;34m)\u001b[0m \u001b[0;32mas\u001b[0m \u001b[0msession\u001b[0m\u001b[0;34m:\u001b[0m\u001b[0;34m\u001b[0m\u001b[0;34m\u001b[0m\u001b[0m\n\u001b[0;32m---> 61\u001b[0;31m         \u001b[0;32mreturn\u001b[0m \u001b[0msession\u001b[0m\u001b[0;34m.\u001b[0m\u001b[0mrequest\u001b[0m\u001b[0;34m(\u001b[0m\u001b[0mmethod\u001b[0m\u001b[0;34m=\u001b[0m\u001b[0mmethod\u001b[0m\u001b[0;34m,\u001b[0m \u001b[0murl\u001b[0m\u001b[0;34m=\u001b[0m\u001b[0murl\u001b[0m\u001b[0;34m,\u001b[0m \u001b[0;34m**\u001b[0m\u001b[0mkwargs\u001b[0m\u001b[0;34m)\u001b[0m\u001b[0;34m\u001b[0m\u001b[0;34m\u001b[0m\u001b[0m\n\u001b[0m\u001b[1;32m     62\u001b[0m \u001b[0;34m\u001b[0m\u001b[0m\n\u001b[1;32m     63\u001b[0m \u001b[0;34m\u001b[0m\u001b[0m\n",
      "\u001b[0;32m~/opt/anaconda3/lib/python3.8/site-packages/requests/sessions.py\u001b[0m in \u001b[0;36mrequest\u001b[0;34m(self, method, url, params, data, headers, cookies, files, auth, timeout, allow_redirects, proxies, hooks, stream, verify, cert, json)\u001b[0m\n\u001b[1;32m    540\u001b[0m         }\n\u001b[1;32m    541\u001b[0m         \u001b[0msend_kwargs\u001b[0m\u001b[0;34m.\u001b[0m\u001b[0mupdate\u001b[0m\u001b[0;34m(\u001b[0m\u001b[0msettings\u001b[0m\u001b[0;34m)\u001b[0m\u001b[0;34m\u001b[0m\u001b[0;34m\u001b[0m\u001b[0m\n\u001b[0;32m--> 542\u001b[0;31m         \u001b[0mresp\u001b[0m \u001b[0;34m=\u001b[0m \u001b[0mself\u001b[0m\u001b[0;34m.\u001b[0m\u001b[0msend\u001b[0m\u001b[0;34m(\u001b[0m\u001b[0mprep\u001b[0m\u001b[0;34m,\u001b[0m \u001b[0;34m**\u001b[0m\u001b[0msend_kwargs\u001b[0m\u001b[0;34m)\u001b[0m\u001b[0;34m\u001b[0m\u001b[0;34m\u001b[0m\u001b[0m\n\u001b[0m\u001b[1;32m    543\u001b[0m \u001b[0;34m\u001b[0m\u001b[0m\n\u001b[1;32m    544\u001b[0m         \u001b[0;32mreturn\u001b[0m \u001b[0mresp\u001b[0m\u001b[0;34m\u001b[0m\u001b[0;34m\u001b[0m\u001b[0m\n",
      "\u001b[0;32m~/opt/anaconda3/lib/python3.8/site-packages/requests/sessions.py\u001b[0m in \u001b[0;36msend\u001b[0;34m(self, request, **kwargs)\u001b[0m\n\u001b[1;32m    653\u001b[0m \u001b[0;34m\u001b[0m\u001b[0m\n\u001b[1;32m    654\u001b[0m         \u001b[0;31m# Send the request\u001b[0m\u001b[0;34m\u001b[0m\u001b[0;34m\u001b[0m\u001b[0;34m\u001b[0m\u001b[0m\n\u001b[0;32m--> 655\u001b[0;31m         \u001b[0mr\u001b[0m \u001b[0;34m=\u001b[0m \u001b[0madapter\u001b[0m\u001b[0;34m.\u001b[0m\u001b[0msend\u001b[0m\u001b[0;34m(\u001b[0m\u001b[0mrequest\u001b[0m\u001b[0;34m,\u001b[0m \u001b[0;34m**\u001b[0m\u001b[0mkwargs\u001b[0m\u001b[0;34m)\u001b[0m\u001b[0;34m\u001b[0m\u001b[0;34m\u001b[0m\u001b[0m\n\u001b[0m\u001b[1;32m    656\u001b[0m \u001b[0;34m\u001b[0m\u001b[0m\n\u001b[1;32m    657\u001b[0m         \u001b[0;31m# Total elapsed time of the request (approximately)\u001b[0m\u001b[0;34m\u001b[0m\u001b[0;34m\u001b[0m\u001b[0;34m\u001b[0m\u001b[0m\n",
      "\u001b[0;32m~/opt/anaconda3/lib/python3.8/site-packages/requests/adapters.py\u001b[0m in \u001b[0;36msend\u001b[0;34m(self, request, stream, timeout, verify, cert, proxies)\u001b[0m\n\u001b[1;32m    437\u001b[0m         \u001b[0;32mtry\u001b[0m\u001b[0;34m:\u001b[0m\u001b[0;34m\u001b[0m\u001b[0;34m\u001b[0m\u001b[0m\n\u001b[1;32m    438\u001b[0m             \u001b[0;32mif\u001b[0m \u001b[0;32mnot\u001b[0m \u001b[0mchunked\u001b[0m\u001b[0;34m:\u001b[0m\u001b[0;34m\u001b[0m\u001b[0;34m\u001b[0m\u001b[0m\n\u001b[0;32m--> 439\u001b[0;31m                 resp = conn.urlopen(\n\u001b[0m\u001b[1;32m    440\u001b[0m                     \u001b[0mmethod\u001b[0m\u001b[0;34m=\u001b[0m\u001b[0mrequest\u001b[0m\u001b[0;34m.\u001b[0m\u001b[0mmethod\u001b[0m\u001b[0;34m,\u001b[0m\u001b[0;34m\u001b[0m\u001b[0;34m\u001b[0m\u001b[0m\n\u001b[1;32m    441\u001b[0m                     \u001b[0murl\u001b[0m\u001b[0;34m=\u001b[0m\u001b[0murl\u001b[0m\u001b[0;34m,\u001b[0m\u001b[0;34m\u001b[0m\u001b[0;34m\u001b[0m\u001b[0m\n",
      "\u001b[0;32m~/opt/anaconda3/lib/python3.8/site-packages/urllib3/connectionpool.py\u001b[0m in \u001b[0;36murlopen\u001b[0;34m(self, method, url, body, headers, retries, redirect, assert_same_host, timeout, pool_timeout, release_conn, chunked, body_pos, **response_kw)\u001b[0m\n\u001b[1;32m    697\u001b[0m \u001b[0;34m\u001b[0m\u001b[0m\n\u001b[1;32m    698\u001b[0m             \u001b[0;31m# Make the request on the httplib connection object.\u001b[0m\u001b[0;34m\u001b[0m\u001b[0;34m\u001b[0m\u001b[0;34m\u001b[0m\u001b[0m\n\u001b[0;32m--> 699\u001b[0;31m             httplib_response = self._make_request(\n\u001b[0m\u001b[1;32m    700\u001b[0m                 \u001b[0mconn\u001b[0m\u001b[0;34m,\u001b[0m\u001b[0;34m\u001b[0m\u001b[0;34m\u001b[0m\u001b[0m\n\u001b[1;32m    701\u001b[0m                 \u001b[0mmethod\u001b[0m\u001b[0;34m,\u001b[0m\u001b[0;34m\u001b[0m\u001b[0;34m\u001b[0m\u001b[0m\n",
      "\u001b[0;32m~/opt/anaconda3/lib/python3.8/site-packages/urllib3/connectionpool.py\u001b[0m in \u001b[0;36m_make_request\u001b[0;34m(self, conn, method, url, timeout, chunked, **httplib_request_kw)\u001b[0m\n\u001b[1;32m    443\u001b[0m                     \u001b[0;31m# Python 3 (including for exceptions like SystemExit).\u001b[0m\u001b[0;34m\u001b[0m\u001b[0;34m\u001b[0m\u001b[0;34m\u001b[0m\u001b[0m\n\u001b[1;32m    444\u001b[0m                     \u001b[0;31m# Otherwise it looks like a bug in the code.\u001b[0m\u001b[0;34m\u001b[0m\u001b[0;34m\u001b[0m\u001b[0;34m\u001b[0m\u001b[0m\n\u001b[0;32m--> 445\u001b[0;31m                     \u001b[0msix\u001b[0m\u001b[0;34m.\u001b[0m\u001b[0mraise_from\u001b[0m\u001b[0;34m(\u001b[0m\u001b[0me\u001b[0m\u001b[0;34m,\u001b[0m \u001b[0;32mNone\u001b[0m\u001b[0;34m)\u001b[0m\u001b[0;34m\u001b[0m\u001b[0;34m\u001b[0m\u001b[0m\n\u001b[0m\u001b[1;32m    446\u001b[0m         \u001b[0;32mexcept\u001b[0m \u001b[0;34m(\u001b[0m\u001b[0mSocketTimeout\u001b[0m\u001b[0;34m,\u001b[0m \u001b[0mBaseSSLError\u001b[0m\u001b[0;34m,\u001b[0m \u001b[0mSocketError\u001b[0m\u001b[0;34m)\u001b[0m \u001b[0;32mas\u001b[0m \u001b[0me\u001b[0m\u001b[0;34m:\u001b[0m\u001b[0;34m\u001b[0m\u001b[0;34m\u001b[0m\u001b[0m\n\u001b[1;32m    447\u001b[0m             \u001b[0mself\u001b[0m\u001b[0;34m.\u001b[0m\u001b[0m_raise_timeout\u001b[0m\u001b[0;34m(\u001b[0m\u001b[0merr\u001b[0m\u001b[0;34m=\u001b[0m\u001b[0me\u001b[0m\u001b[0;34m,\u001b[0m \u001b[0murl\u001b[0m\u001b[0;34m=\u001b[0m\u001b[0murl\u001b[0m\u001b[0;34m,\u001b[0m \u001b[0mtimeout_value\u001b[0m\u001b[0;34m=\u001b[0m\u001b[0mread_timeout\u001b[0m\u001b[0;34m)\u001b[0m\u001b[0;34m\u001b[0m\u001b[0;34m\u001b[0m\u001b[0m\n",
      "\u001b[0;32m~/opt/anaconda3/lib/python3.8/site-packages/urllib3/packages/six.py\u001b[0m in \u001b[0;36mraise_from\u001b[0;34m(value, from_value)\u001b[0m\n",
      "\u001b[0;32m~/opt/anaconda3/lib/python3.8/site-packages/urllib3/connectionpool.py\u001b[0m in \u001b[0;36m_make_request\u001b[0;34m(self, conn, method, url, timeout, chunked, **httplib_request_kw)\u001b[0m\n\u001b[1;32m    438\u001b[0m                 \u001b[0;31m# Python 3\u001b[0m\u001b[0;34m\u001b[0m\u001b[0;34m\u001b[0m\u001b[0;34m\u001b[0m\u001b[0m\n\u001b[1;32m    439\u001b[0m                 \u001b[0;32mtry\u001b[0m\u001b[0;34m:\u001b[0m\u001b[0;34m\u001b[0m\u001b[0;34m\u001b[0m\u001b[0m\n\u001b[0;32m--> 440\u001b[0;31m                     \u001b[0mhttplib_response\u001b[0m \u001b[0;34m=\u001b[0m \u001b[0mconn\u001b[0m\u001b[0;34m.\u001b[0m\u001b[0mgetresponse\u001b[0m\u001b[0;34m(\u001b[0m\u001b[0;34m)\u001b[0m\u001b[0;34m\u001b[0m\u001b[0;34m\u001b[0m\u001b[0m\n\u001b[0m\u001b[1;32m    441\u001b[0m                 \u001b[0;32mexcept\u001b[0m \u001b[0mBaseException\u001b[0m \u001b[0;32mas\u001b[0m \u001b[0me\u001b[0m\u001b[0;34m:\u001b[0m\u001b[0;34m\u001b[0m\u001b[0;34m\u001b[0m\u001b[0m\n\u001b[1;32m    442\u001b[0m                     \u001b[0;31m# Remove the TypeError from the exception chain in\u001b[0m\u001b[0;34m\u001b[0m\u001b[0;34m\u001b[0m\u001b[0;34m\u001b[0m\u001b[0m\n",
      "\u001b[0;32m~/opt/anaconda3/lib/python3.8/http/client.py\u001b[0m in \u001b[0;36mgetresponse\u001b[0;34m(self)\u001b[0m\n\u001b[1;32m   1345\u001b[0m         \u001b[0;32mtry\u001b[0m\u001b[0;34m:\u001b[0m\u001b[0;34m\u001b[0m\u001b[0;34m\u001b[0m\u001b[0m\n\u001b[1;32m   1346\u001b[0m             \u001b[0;32mtry\u001b[0m\u001b[0;34m:\u001b[0m\u001b[0;34m\u001b[0m\u001b[0;34m\u001b[0m\u001b[0m\n\u001b[0;32m-> 1347\u001b[0;31m                 \u001b[0mresponse\u001b[0m\u001b[0;34m.\u001b[0m\u001b[0mbegin\u001b[0m\u001b[0;34m(\u001b[0m\u001b[0;34m)\u001b[0m\u001b[0;34m\u001b[0m\u001b[0;34m\u001b[0m\u001b[0m\n\u001b[0m\u001b[1;32m   1348\u001b[0m             \u001b[0;32mexcept\u001b[0m \u001b[0mConnectionError\u001b[0m\u001b[0;34m:\u001b[0m\u001b[0;34m\u001b[0m\u001b[0;34m\u001b[0m\u001b[0m\n\u001b[1;32m   1349\u001b[0m                 \u001b[0mself\u001b[0m\u001b[0;34m.\u001b[0m\u001b[0mclose\u001b[0m\u001b[0;34m(\u001b[0m\u001b[0;34m)\u001b[0m\u001b[0;34m\u001b[0m\u001b[0;34m\u001b[0m\u001b[0m\n",
      "\u001b[0;32m~/opt/anaconda3/lib/python3.8/http/client.py\u001b[0m in \u001b[0;36mbegin\u001b[0;34m(self)\u001b[0m\n\u001b[1;32m    305\u001b[0m         \u001b[0;31m# read until we get a non-100 response\u001b[0m\u001b[0;34m\u001b[0m\u001b[0;34m\u001b[0m\u001b[0;34m\u001b[0m\u001b[0m\n\u001b[1;32m    306\u001b[0m         \u001b[0;32mwhile\u001b[0m \u001b[0;32mTrue\u001b[0m\u001b[0;34m:\u001b[0m\u001b[0;34m\u001b[0m\u001b[0;34m\u001b[0m\u001b[0m\n\u001b[0;32m--> 307\u001b[0;31m             \u001b[0mversion\u001b[0m\u001b[0;34m,\u001b[0m \u001b[0mstatus\u001b[0m\u001b[0;34m,\u001b[0m \u001b[0mreason\u001b[0m \u001b[0;34m=\u001b[0m \u001b[0mself\u001b[0m\u001b[0;34m.\u001b[0m\u001b[0m_read_status\u001b[0m\u001b[0;34m(\u001b[0m\u001b[0;34m)\u001b[0m\u001b[0;34m\u001b[0m\u001b[0;34m\u001b[0m\u001b[0m\n\u001b[0m\u001b[1;32m    308\u001b[0m             \u001b[0;32mif\u001b[0m \u001b[0mstatus\u001b[0m \u001b[0;34m!=\u001b[0m \u001b[0mCONTINUE\u001b[0m\u001b[0;34m:\u001b[0m\u001b[0;34m\u001b[0m\u001b[0;34m\u001b[0m\u001b[0m\n\u001b[1;32m    309\u001b[0m                 \u001b[0;32mbreak\u001b[0m\u001b[0;34m\u001b[0m\u001b[0;34m\u001b[0m\u001b[0m\n",
      "\u001b[0;32m~/opt/anaconda3/lib/python3.8/http/client.py\u001b[0m in \u001b[0;36m_read_status\u001b[0;34m(self)\u001b[0m\n\u001b[1;32m    266\u001b[0m \u001b[0;34m\u001b[0m\u001b[0m\n\u001b[1;32m    267\u001b[0m     \u001b[0;32mdef\u001b[0m \u001b[0m_read_status\u001b[0m\u001b[0;34m(\u001b[0m\u001b[0mself\u001b[0m\u001b[0;34m)\u001b[0m\u001b[0;34m:\u001b[0m\u001b[0;34m\u001b[0m\u001b[0;34m\u001b[0m\u001b[0m\n\u001b[0;32m--> 268\u001b[0;31m         \u001b[0mline\u001b[0m \u001b[0;34m=\u001b[0m \u001b[0mstr\u001b[0m\u001b[0;34m(\u001b[0m\u001b[0mself\u001b[0m\u001b[0;34m.\u001b[0m\u001b[0mfp\u001b[0m\u001b[0;34m.\u001b[0m\u001b[0mreadline\u001b[0m\u001b[0;34m(\u001b[0m\u001b[0m_MAXLINE\u001b[0m \u001b[0;34m+\u001b[0m \u001b[0;36m1\u001b[0m\u001b[0;34m)\u001b[0m\u001b[0;34m,\u001b[0m \u001b[0;34m\"iso-8859-1\"\u001b[0m\u001b[0;34m)\u001b[0m\u001b[0;34m\u001b[0m\u001b[0;34m\u001b[0m\u001b[0m\n\u001b[0m\u001b[1;32m    269\u001b[0m         \u001b[0;32mif\u001b[0m \u001b[0mlen\u001b[0m\u001b[0;34m(\u001b[0m\u001b[0mline\u001b[0m\u001b[0;34m)\u001b[0m \u001b[0;34m>\u001b[0m \u001b[0m_MAXLINE\u001b[0m\u001b[0;34m:\u001b[0m\u001b[0;34m\u001b[0m\u001b[0;34m\u001b[0m\u001b[0m\n\u001b[1;32m    270\u001b[0m             \u001b[0;32mraise\u001b[0m \u001b[0mLineTooLong\u001b[0m\u001b[0;34m(\u001b[0m\u001b[0;34m\"status line\"\u001b[0m\u001b[0;34m)\u001b[0m\u001b[0;34m\u001b[0m\u001b[0;34m\u001b[0m\u001b[0m\n",
      "\u001b[0;32m~/opt/anaconda3/lib/python3.8/socket.py\u001b[0m in \u001b[0;36mreadinto\u001b[0;34m(self, b)\u001b[0m\n\u001b[1;32m    667\u001b[0m         \u001b[0;32mwhile\u001b[0m \u001b[0;32mTrue\u001b[0m\u001b[0;34m:\u001b[0m\u001b[0;34m\u001b[0m\u001b[0;34m\u001b[0m\u001b[0m\n\u001b[1;32m    668\u001b[0m             \u001b[0;32mtry\u001b[0m\u001b[0;34m:\u001b[0m\u001b[0;34m\u001b[0m\u001b[0;34m\u001b[0m\u001b[0m\n\u001b[0;32m--> 669\u001b[0;31m                 \u001b[0;32mreturn\u001b[0m \u001b[0mself\u001b[0m\u001b[0;34m.\u001b[0m\u001b[0m_sock\u001b[0m\u001b[0;34m.\u001b[0m\u001b[0mrecv_into\u001b[0m\u001b[0;34m(\u001b[0m\u001b[0mb\u001b[0m\u001b[0;34m)\u001b[0m\u001b[0;34m\u001b[0m\u001b[0;34m\u001b[0m\u001b[0m\n\u001b[0m\u001b[1;32m    670\u001b[0m             \u001b[0;32mexcept\u001b[0m \u001b[0mtimeout\u001b[0m\u001b[0;34m:\u001b[0m\u001b[0;34m\u001b[0m\u001b[0;34m\u001b[0m\u001b[0m\n\u001b[1;32m    671\u001b[0m                 \u001b[0mself\u001b[0m\u001b[0;34m.\u001b[0m\u001b[0m_timeout_occurred\u001b[0m \u001b[0;34m=\u001b[0m \u001b[0;32mTrue\u001b[0m\u001b[0;34m\u001b[0m\u001b[0;34m\u001b[0m\u001b[0m\n",
      "\u001b[0;32m~/opt/anaconda3/lib/python3.8/ssl.py\u001b[0m in \u001b[0;36mrecv_into\u001b[0;34m(self, buffer, nbytes, flags)\u001b[0m\n\u001b[1;32m   1239\u001b[0m                   \u001b[0;34m\"non-zero flags not allowed in calls to recv_into() on %s\"\u001b[0m \u001b[0;34m%\u001b[0m\u001b[0;34m\u001b[0m\u001b[0;34m\u001b[0m\u001b[0m\n\u001b[1;32m   1240\u001b[0m                   self.__class__)\n\u001b[0;32m-> 1241\u001b[0;31m             \u001b[0;32mreturn\u001b[0m \u001b[0mself\u001b[0m\u001b[0;34m.\u001b[0m\u001b[0mread\u001b[0m\u001b[0;34m(\u001b[0m\u001b[0mnbytes\u001b[0m\u001b[0;34m,\u001b[0m \u001b[0mbuffer\u001b[0m\u001b[0;34m)\u001b[0m\u001b[0;34m\u001b[0m\u001b[0;34m\u001b[0m\u001b[0m\n\u001b[0m\u001b[1;32m   1242\u001b[0m         \u001b[0;32melse\u001b[0m\u001b[0;34m:\u001b[0m\u001b[0;34m\u001b[0m\u001b[0;34m\u001b[0m\u001b[0m\n\u001b[1;32m   1243\u001b[0m             \u001b[0;32mreturn\u001b[0m \u001b[0msuper\u001b[0m\u001b[0;34m(\u001b[0m\u001b[0;34m)\u001b[0m\u001b[0;34m.\u001b[0m\u001b[0mrecv_into\u001b[0m\u001b[0;34m(\u001b[0m\u001b[0mbuffer\u001b[0m\u001b[0;34m,\u001b[0m \u001b[0mnbytes\u001b[0m\u001b[0;34m,\u001b[0m \u001b[0mflags\u001b[0m\u001b[0;34m)\u001b[0m\u001b[0;34m\u001b[0m\u001b[0;34m\u001b[0m\u001b[0m\n",
      "\u001b[0;32m~/opt/anaconda3/lib/python3.8/ssl.py\u001b[0m in \u001b[0;36mread\u001b[0;34m(self, len, buffer)\u001b[0m\n\u001b[1;32m   1097\u001b[0m         \u001b[0;32mtry\u001b[0m\u001b[0;34m:\u001b[0m\u001b[0;34m\u001b[0m\u001b[0;34m\u001b[0m\u001b[0m\n\u001b[1;32m   1098\u001b[0m             \u001b[0;32mif\u001b[0m \u001b[0mbuffer\u001b[0m \u001b[0;32mis\u001b[0m \u001b[0;32mnot\u001b[0m \u001b[0;32mNone\u001b[0m\u001b[0;34m:\u001b[0m\u001b[0;34m\u001b[0m\u001b[0;34m\u001b[0m\u001b[0m\n\u001b[0;32m-> 1099\u001b[0;31m                 \u001b[0;32mreturn\u001b[0m \u001b[0mself\u001b[0m\u001b[0;34m.\u001b[0m\u001b[0m_sslobj\u001b[0m\u001b[0;34m.\u001b[0m\u001b[0mread\u001b[0m\u001b[0;34m(\u001b[0m\u001b[0mlen\u001b[0m\u001b[0;34m,\u001b[0m \u001b[0mbuffer\u001b[0m\u001b[0;34m)\u001b[0m\u001b[0;34m\u001b[0m\u001b[0;34m\u001b[0m\u001b[0m\n\u001b[0m\u001b[1;32m   1100\u001b[0m             \u001b[0;32melse\u001b[0m\u001b[0;34m:\u001b[0m\u001b[0;34m\u001b[0m\u001b[0;34m\u001b[0m\u001b[0m\n\u001b[1;32m   1101\u001b[0m                 \u001b[0;32mreturn\u001b[0m \u001b[0mself\u001b[0m\u001b[0;34m.\u001b[0m\u001b[0m_sslobj\u001b[0m\u001b[0;34m.\u001b[0m\u001b[0mread\u001b[0m\u001b[0;34m(\u001b[0m\u001b[0mlen\u001b[0m\u001b[0;34m)\u001b[0m\u001b[0;34m\u001b[0m\u001b[0;34m\u001b[0m\u001b[0m\n",
      "\u001b[0;31mKeyboardInterrupt\u001b[0m: "
     ]
    }
   ],
   "source": [
    "sz = len(df.index)\n",
    "\n",
    "#Input one of the parameter lists. Can't do all because there's a limit of # parameters at a time with NASA Powers API\n",
    "def process(parameter):\n",
    "    params = ['YEAR','MO','DY']\n",
    "    for i in parameter:\n",
    "        params.append(i)\n",
    "    \n",
    "    mp = {}\n",
    "    for i in params:\n",
    "        mp[i] = []\n",
    "\n",
    "    print(mp)\n",
    "    \n",
    "    def run():\n",
    "        for i in range(sz):\n",
    "            lon = df['LONGITUDE'][i]\n",
    "            lat = df['LATITUDE'][i]\n",
    "            time = df['DATETIME'][i]\n",
    "            url = generateURL(parameter, lon, lat, time)\n",
    "            s = access_rate_limited_api(url)\n",
    "#             print(s) \n",
    "            #^^^ USE THIS TO GET MORE INFORMATION ON THE PARAMETERS AND MORE\n",
    "            res = getVal(s)\n",
    "            \n",
    "#             if i%100 == 0:\n",
    "#                 print('done: ' + str(i) + ' requests...')\n",
    "            for i in range(len(res)):\n",
    "                mp[params[i]].append(res[i])\n",
    "                if res[i] == '-999':\n",
    "                    raise Exception('Missing value at {}'.format(i))\n",
    "\n",
    "        print(mp)\n",
    "    \n",
    "    run()\n",
    "    \n",
    "    return mp\n",
    "\n",
    "process(parametersD)"
   ]
  },
  {
   "cell_type": "code",
   "execution_count": null,
   "id": "7b26d64a",
   "metadata": {},
   "outputs": [],
   "source": []
  },
  {
   "cell_type": "code",
   "execution_count": null,
   "id": "65824969",
   "metadata": {},
   "outputs": [],
   "source": []
  },
  {
   "cell_type": "code",
   "execution_count": 15,
   "id": "b3bd05d0",
   "metadata": {},
   "outputs": [],
   "source": []
  },
  {
   "cell_type": "code",
   "execution_count": 29,
   "id": "faf17851",
   "metadata": {},
   "outputs": [
    {
     "data": {
      "text/plain": [
       "'2015,1,1,2.17,0.8,1.48,2.37,2.18,3.12,0.94'"
      ]
     },
     "execution_count": 29,
     "metadata": {},
     "output_type": "execute_result"
    }
   ],
   "source": [
    "\n",
    "# example = r'https://power.larc.nasa.gov/api/temporal/daily/point?parameters=T2M,T2MDEW,T2MWET,TS,T2M_RANGE,T2M_MAX,T2M_MIN&community=RE&longitude=-95.77&latitude=32.929&start=20150101&end=20150101&format=CSV'\n",
    "# example = generateURL(p, -121.303056, 36.766944, 20100608)\n",
    "# # api_request_url = example\n",
    "\n",
    "# # response = requests.get(url=api_request_url, verify=True, timeout=30.00)\n",
    "# # content = json.loads(response.content.decode('utf-8'))\n",
    "# # print(content)\n",
    "\n",
    "# ONE_MINUTE = 60\n",
    "# MAX_CALLS_PER_MINUTE = 60\n",
    "\n",
    "# @sleep_and_retry\n",
    "# @limits(calls=MAX_CALLS_PER_MINUTE, period=ONE_MINUTE)\n",
    "# def access_rate_limited_api(req_url):\n",
    "#     response = requests.get(url=req_url, verify=True, timeout=30.00)\n",
    "\n",
    "#     if response.status_code != 200:\n",
    "#         raise Exception('API response: {}'.format(response.status_code))\n",
    "#     content = response.text\n",
    "#     lines = content.split('\\n')\n",
    "# #     parameters = lines[len(lines)-2]\n",
    "#     vals = lines[len(lines)-2]\n",
    "#     return vals\n",
    "\n",
    "# access_rate_limited_api(example)\n",
    "# # YEAR,MO,DY,T2M,T2MDEW,T2MWET,TS,T2M_RANGE,T2M_MAX,T2M_MIN\n",
    "\n",
    "\n",
    "\n",
    "example = 'https://power.larc.nasa.gov/api/temporal/daily/point?parameters=T2M,T2MDEW,T2MWET,TS,T2M_RANGE,T2M_MAX,T2M_MIN&community=RE&longitude=-95.77&latitude=32.929&start=20150101&end=20150101&format=CSV'\n",
    "# api_request_url = example\n",
    "\n",
    "# response = requests.get(url=api_request_url, verify=True, timeout=30.00)\n",
    "# content = json.loads(response.content.decode('utf-8'))\n",
    "# print(content)\n",
    "\n",
    "ONE_MINUTE = 60\n",
    "MAX_CALLS_PER_MINUTE = 55\n",
    "\n",
    "@sleep_and_retry\n",
    "@limits(calls=MAX_CALLS_PER_MINUTE, period=ONE_MINUTE)\n",
    "def access_rate_limited_api(req_url):\n",
    "    try:\n",
    "        response = requests.get(url=req_url, verify=True, timeout=None)\n",
    "        if response.status_code != 200:\n",
    "            raise Exception('API response: {}'.format(response.status_code))\n",
    "        content = response.text\n",
    "        lines = content.split('\\n')\n",
    "        vals = lines[len(lines)-2]\n",
    "#     print(parameters)\n",
    "#     print(vals)\n",
    "        return vals\n",
    "    except Exception:\n",
    "        print('exception with:')\n",
    "        print(req_url)\n",
    "        SLEEPTIME.sleep(101)\n",
    "        # wait = min(wait+2, 600)\n",
    "        return access_rate_limited_api(req_url)\n",
    "\n",
    "access_rate_limited_api(example)\n",
    "# YEAR,MO,DY,T2M,T2MDEW,T2MWET,TS,T2M_RANGE,T2M_MAX,T2M_MIN"
   ]
  },
  {
   "cell_type": "code",
   "execution_count": null,
   "id": "07e35740",
   "metadata": {},
   "outputs": [],
   "source": []
  },
  {
   "cell_type": "code",
   "execution_count": 165,
   "id": "5480f511",
   "metadata": {},
   "outputs": [
    {
     "name": "stdout",
     "output_type": "stream",
     "text": [
      "done: 0 requests...\n",
      "done: 1 requests...\n",
      "done: 2 requests...\n",
      "done: 3 requests...\n",
      "done: 4 requests...\n",
      "done: 5 requests...\n",
      "done: 6 requests...\n",
      "done: 7 requests...\n",
      "done: 8 requests...\n",
      "done: 9 requests...\n",
      "{'YEAR': ['2010', '2010', '2010', '2010', '2010', '2010', '2010', '2010', '2010', '2010'], 'MO': ['5', '6', '6', '6', '7', '7', '9', '3', '5', '7'], 'DY': ['19', '8', '12', '14', '11', '29', '11', '16', '1', '3'], 'ALLSKY_SFC_LW_DWN': ['21.05', '22.77', '16.59', '18.62', '28.95', '24.01', '17.03', '12.72', '13.65', '15.52'], 'PRECTOT': ['5.88', '7.52', '2.42', '3.27', '6.0', '21.42', '1.4', '9.81', '2.94', '0.88'], 'PS': ['7.82', '10.39', '97.42', '97.6', '16.87', '6.41', '97.54', '6.71', '97.58', '98.55'], 'QV2M': ['3.7', '5.13', '1.22', '1.75', '3.2', '314.62', '0.16', '296.16', '1.73', '0.34'], 'RH2M': ['4.12', '3.91', '2.59', '3.47', '5.9', '10.81', '4.22', '12.37', '3.38', '3.28'], 'SRF_ALB': ['3.26', '3.0', '294.6', '304.59', '4.13', '2.78', '316.75', '1.02', '282.08', '295.09'], 'T10M': ['7.26', '7.14', '21.83', '19.21', '8.24', '20.4', '22.2', '16.24', '12.52', '16.52'], 'T10M_MAX': ['20.55', '22.0', '11.42', '13.2', '35.23', '3.8', '13.39', '1.7', '16.18', '11.8'], 'T10M_MIN': ['1.76', '3.61', '3.73', '4.63', '0.1', '2.42', '2.11', '2.73', '4.22', '2.16'], 'T10M_RANGE': ['74.06', '66.38', '13.51', '10.6', '46.0', '32.23', '15.08', '22.19', '6.39', '9.53'], 'TQV': ['0.98', '2.45', '42.81', '54.25', '0.08', '11.39', '39.94', '13.32', '76.75', '67.81'], 'TS': ['98.03', '97.68', '2.5', '2.92', '97.32', '49.19', '2.86', '61.38', '2.52', '1.17'], 'WS10M': ['2.55', '3.67', '6.1', '7.08', '2.31', '3.73', '5.8', '2.37', '7.02', '7.45'], 'WS10M_MAX': ['311.29', '299.49', '22.86', '21.72', '346.41', '97.68', '24.15', '98.43', '13.89', '16.57'], 'WS10M_MIN': ['4.24', '5.45', '4.94', '6.45', '4.21', '1.9', '4.41', '0.27', '5.97', '3.97'], 'WS10M_RANGE': ['13.87', '15.07', '30.11', '29.23', '24.51', '2.72', '32.11', '0.5', '20.04', '25.05'], 'WS2M': ['12.73', '11.61', '3.72', '4.67', '18.36', '5.14', '3.02', '3.23', '4.25', '1.51'], 'WS2M_MAX': ['15.37', '17.72', '2.34', '2.98', '28.01', '1.83', '0.19', '2.09', '2.59', '0.68'], 'WS2M_MIN': ['0.04', '0.0', '0.0', '0.0', '0.0', '0.0', '0.0', '0.0', '0.01', '0.0'], 'WS2M_RANGE': ['0.12', '0.14', '0.12', '0.16', '0.16', '0.16', '0.16', '0.14', '0.12', '0.16']}\n"
     ]
    }
   ],
   "source": [
    "sz = len(df.index)\n",
    "# sz = 10\n",
    "\n",
    "# mp = {  \n",
    "#     'YEAR': [],\n",
    "#     'MO' : [],\n",
    "#     'DY': [],\n",
    "#     'T2M' :[],\n",
    "#     'T2MDEW': [],\n",
    "#     'T2MWET':[],\n",
    "#     'TS':[],\n",
    "#     'T2M_RANGE':[],\n",
    "#     'T2M_MAX':[],\n",
    "#     'T2M_MIN':[]\n",
    "# }\n",
    "#60 per minute\n",
    "for i in range(sz):\n",
    "    lon = df['LONGITUDE'][i]\n",
    "    lat = df['LATITUDE'][i]\n",
    "    time = df['DATE'][i]\n",
    "\n",
    "    url = generateURL(p, lon, lat, time)\n",
    "    s = access_rate_limited_api(url)\n",
    "    vals = s.split(',')\n",
    "#     if i%100 == 0:\n",
    "    print('done: ' + str(i) + ' requests...')\n",
    "\n",
    "    for i in range(len(vals)):\n",
    "        mp[params[i]].append(vals[i])\n",
    "\n",
    "print(mp)\n"
   ]
  },
  {
   "cell_type": "code",
   "execution_count": 167,
   "id": "6b0e4250",
   "metadata": {},
   "outputs": [
    {
     "name": "stdout",
     "output_type": "stream",
     "text": [
      "31858\n"
     ]
    }
   ],
   "source": [
    "print(len(df.index))"
   ]
  },
  {
   "cell_type": "code",
   "execution_count": 133,
   "id": "cdb19b3f",
   "metadata": {},
   "outputs": [],
   "source": [
    "#list of params and their short names"
   ]
  },
  {
   "cell_type": "code",
   "execution_count": null,
   "id": "d5d2982f",
   "metadata": {},
   "outputs": [],
   "source": []
  }
 ],
 "metadata": {
  "kernelspec": {
   "display_name": "Python 3",
   "language": "python",
   "name": "python3"
  },
  "language_info": {
   "codemirror_mode": {
    "name": "ipython",
    "version": 3
   },
   "file_extension": ".py",
   "mimetype": "text/x-python",
   "name": "python",
   "nbconvert_exporter": "python",
   "pygments_lexer": "ipython3",
   "version": "3.8.8"
  }
 },
 "nbformat": 4,
 "nbformat_minor": 5
}
