{
 "cells": [
  {
   "cell_type": "code",
   "execution_count": 3,
   "id": "0b37047d",
   "metadata": {},
   "outputs": [],
   "source": [
    "#needed to make web requests\n",
    "import requests\n",
    "\n",
    "#store the data we get as a dataframe\n",
    "import pandas as pd\n",
    "\n",
    "#convert the response as a strcuctured json\n",
    "import json\n",
    "\n",
    "#mathematical operations on lists\n",
    "import numpy as np\n",
    "\n",
    "#parse the datetimes we get from NOAA\n",
    "from datetime import datetime\n",
    "\n",
    "# https://www1.ncdc.noaa.gov/pub/data/cdo/samples/GHCND_sample_pdf.pdf\n",
    "#We find the zip code of coordinates, use that as request\n",
    "\n",
    "#add the access token you got from NOAA\n",
    "Token = 'iRFNDKRMXHWDkBDwMJRkSHyeHmuwIaPq'"
   ]
  },
  {
   "cell_type": "code",
   "execution_count": null,
   "id": "697bf12f",
   "metadata": {},
   "outputs": [],
   "source": [
    "#test function inside\n",
    "zipcode = '94588'\n",
    "dtstr = '2022-3-03'\n",
    "link = 'https://www.ncdc.noaa.gov/cdo-web/api/v2/data?datasetid=GHCND&locationid=ZIP:' + zipcode + '&startdate=2010-05-01&enddate=2010-05-01'\n",
    "print(link)\n",
    "    #'https://www.ncdc.noaa.gov/cdo-web/api/v2/data?datasetid=GHCND&datatypeid=TAVG&limit=1000&stationid=GHCND:USW00023129&startdate='+year+'-01-01&enddate='+year+'-12-31'\n",
    "    \n",
    "r = requests.get(link, headers={'token':Token})\n",
    "r.raise_for_status()"
   ]
  },
  {
   "cell_type": "code",
   "execution_count": 1,
   "id": "5248f7e8",
   "metadata": {},
   "outputs": [
    {
     "ename": "NameError",
     "evalue": "name 'pd' is not defined",
     "output_type": "error",
     "traceback": [
      "\u001b[0;31m---------------------------------------------------------------------------\u001b[0m",
      "\u001b[0;31mNameError\u001b[0m                                 Traceback (most recent call last)",
      "\u001b[0;32m<ipython-input-1-df96128bca1a>\u001b[0m in \u001b[0;36m<module>\u001b[0;34m\u001b[0m\n\u001b[0;32m----> 1\u001b[0;31m \u001b[0mcafires\u001b[0m \u001b[0;34m=\u001b[0m \u001b[0mpd\u001b[0m\u001b[0;34m.\u001b[0m\u001b[0mread_csv\u001b[0m\u001b[0;34m(\u001b[0m\u001b[0;34m'CA2010Fires.csv'\u001b[0m\u001b[0;34m)\u001b[0m\u001b[0;34m\u001b[0m\u001b[0;34m\u001b[0m\u001b[0m\n\u001b[0m\u001b[1;32m      2\u001b[0m \u001b[0mcazips\u001b[0m \u001b[0;34m=\u001b[0m \u001b[0mpd\u001b[0m\u001b[0;34m.\u001b[0m\u001b[0mread_csv\u001b[0m\u001b[0;34m(\u001b[0m\u001b[0;34m'zipcodes.csv'\u001b[0m\u001b[0;34m)\u001b[0m\u001b[0;34m\u001b[0m\u001b[0;34m\u001b[0m\u001b[0m\n\u001b[1;32m      3\u001b[0m \u001b[0mprint\u001b[0m\u001b[0;34m(\u001b[0m\u001b[0mlen\u001b[0m\u001b[0;34m(\u001b[0m\u001b[0mcafires\u001b[0m\u001b[0;34m.\u001b[0m\u001b[0mindex\u001b[0m\u001b[0;34m)\u001b[0m\u001b[0;34m)\u001b[0m\u001b[0;34m\u001b[0m\u001b[0;34m\u001b[0m\u001b[0m\n\u001b[1;32m      4\u001b[0m \u001b[0mprint\u001b[0m\u001b[0;34m(\u001b[0m\u001b[0mlen\u001b[0m\u001b[0;34m(\u001b[0m\u001b[0mcazips\u001b[0m\u001b[0;34m.\u001b[0m\u001b[0mindex\u001b[0m\u001b[0;34m)\u001b[0m\u001b[0;34m)\u001b[0m\u001b[0;34m\u001b[0m\u001b[0;34m\u001b[0m\u001b[0m\n",
      "\u001b[0;31mNameError\u001b[0m: name 'pd' is not defined"
     ]
    }
   ],
   "source": [
    "cafires = pd.read_csv('CA2010Fires.csv')\n",
    "cazips = pd.read_csv('zipcodes.csv')\n",
    "print(len(cafires.index))\n",
    "print(len(cazips.index))"
   ]
  },
  {
   "cell_type": "code",
   "execution_count": 4,
   "id": "7b26d64a",
   "metadata": {},
   "outputs": [],
   "source": [
    "# #REMEMBER THE CAHCE THE RESULTS --> zipcode : date"
   ]
  },
  {
   "cell_type": "code",
   "execution_count": 3,
   "id": "faf17851",
   "metadata": {},
   "outputs": [
    {
     "ename": "NameError",
     "evalue": "name 'df' is not defined",
     "output_type": "error",
     "traceback": [
      "\u001b[0;31m---------------------------------------------------------------------------\u001b[0m",
      "\u001b[0;31mNameError\u001b[0m                                 Traceback (most recent call last)",
      "\u001b[0;32m<ipython-input-3-08959c42c204>\u001b[0m in \u001b[0;36m<module>\u001b[0;34m\u001b[0m\n\u001b[1;32m      8\u001b[0m     \u001b[0mprint\u001b[0m\u001b[0;34m(\u001b[0m\u001b[0mdata\u001b[0m\u001b[0;34m)\u001b[0m\u001b[0;34m\u001b[0m\u001b[0;34m\u001b[0m\u001b[0m\n\u001b[1;32m      9\u001b[0m \u001b[0;34m\u001b[0m\u001b[0m\n\u001b[0;32m---> 10\u001b[0;31m \u001b[0mgetReq\u001b[0m\u001b[0;34m(\u001b[0m\u001b[0;34m'95075'\u001b[0m\u001b[0;34m,\u001b[0m \u001b[0mdf\u001b[0m\u001b[0;34m[\u001b[0m\u001b[0;34m'DATE'\u001b[0m\u001b[0;34m]\u001b[0m\u001b[0;34m[\u001b[0m\u001b[0;36m0\u001b[0m\u001b[0;34m]\u001b[0m\u001b[0;34m)\u001b[0m\u001b[0;34m\u001b[0m\u001b[0;34m\u001b[0m\u001b[0m\n\u001b[0m",
      "\u001b[0;31mNameError\u001b[0m: name 'df' is not defined"
     ]
    }
   ],
   "source": [
    "def getReq(zipcode, datestring):\n",
    "    link = 'https://www.ncdc.noaa.gov/cdo-web/api/v2/data?datasetid=GHCND&datatypeid=TAVG&locationid=ZIP:' + zipcode + '&startdate=' + datestring + '&enddate=' + datestring\n",
    "    r = requests.get(link, headers={'token':Token})\n",
    "    r.raise_for_status()\n",
    "#     print(r)\n",
    "    #load the api response as a json\n",
    "    data = json.loads(r.text)\n",
    "    print(data)\n",
    "\n",
    "getReq('95075', df['DATE'][0])"
   ]
  },
  {
   "cell_type": "code",
   "execution_count": null,
   "id": "5480f511",
   "metadata": {},
   "outputs": [],
   "source": []
  }
 ],
 "metadata": {
  "kernelspec": {
   "display_name": "Python 3",
   "language": "python",
   "name": "python3"
  },
  "language_info": {
   "codemirror_mode": {
    "name": "ipython",
    "version": 3
   },
   "file_extension": ".py",
   "mimetype": "text/x-python",
   "name": "python",
   "nbconvert_exporter": "python",
   "pygments_lexer": "ipython3",
   "version": "3.8.8"
  }
 },
 "nbformat": 4,
 "nbformat_minor": 5
}
